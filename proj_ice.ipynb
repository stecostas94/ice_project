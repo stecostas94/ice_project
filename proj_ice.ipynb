{
 "cells": [
  {
   "cell_type": "markdown",
   "metadata": {},
   "source": [
    "# ETAPA 1 - Leitura dos dados e importação das bibliotecas"
   ]
  },
  {
   "cell_type": "code",
   "execution_count": 38,
   "metadata": {},
   "outputs": [],
   "source": [
    "#importação de bibliotecas\n",
    "import pandas as pd\n",
    "from scipy import stats as st\n",
    "import numpy as np\n",
    "import math as mt\n",
    "import matplotlib.pyplot as plt\n",
    "import seaborn as sns"
   ]
  },
  {
   "cell_type": "code",
   "execution_count": 39,
   "metadata": {},
   "outputs": [],
   "source": [
    "df_games = pd.read_csv('games.csv')"
   ]
  },
  {
   "cell_type": "markdown",
   "metadata": {},
   "source": [
    "# ETAPA 2 - Preparação dos dados"
   ]
  },
  {
   "cell_type": "code",
   "execution_count": 40,
   "metadata": {},
   "outputs": [],
   "source": [
    "#transformando as colunas em minúsculas\n",
    "df_games.columns = df_games.columns.str.lower()"
   ]
  },
  {
   "cell_type": "code",
   "execution_count": 41,
   "metadata": {},
   "outputs": [
    {
     "data": {
      "text/plain": [
       "Index(['name', 'platform', 'year_of_release', 'genre', 'na_sales', 'eu_sales',\n",
       "       'jp_sales', 'other_sales', 'critic_score', 'user_score', 'rating'],\n",
       "      dtype='object')"
      ]
     },
     "execution_count": 41,
     "metadata": {},
     "output_type": "execute_result"
    }
   ],
   "source": [
    "df_games.columns.str.strip()"
   ]
  },
  {
   "cell_type": "code",
   "execution_count": 42,
   "metadata": {},
   "outputs": [
    {
     "name": "stdout",
     "output_type": "stream",
     "text": [
      "<class 'pandas.core.frame.DataFrame'>\n",
      "RangeIndex: 16715 entries, 0 to 16714\n",
      "Data columns (total 11 columns):\n",
      " #   Column           Non-Null Count  Dtype  \n",
      "---  ------           --------------  -----  \n",
      " 0   name             16713 non-null  object \n",
      " 1   platform         16715 non-null  object \n",
      " 2   year_of_release  16446 non-null  float64\n",
      " 3   genre            16713 non-null  object \n",
      " 4   na_sales         16715 non-null  float64\n",
      " 5   eu_sales         16715 non-null  float64\n",
      " 6   jp_sales         16715 non-null  float64\n",
      " 7   other_sales      16715 non-null  float64\n",
      " 8   critic_score     8137 non-null   float64\n",
      " 9   user_score       10014 non-null  object \n",
      " 10  rating           9949 non-null   object \n",
      "dtypes: float64(6), object(5)\n",
      "memory usage: 1.4+ MB\n",
      "\n"
     ]
    },
    {
     "data": {
      "text/html": [
       "<div>\n",
       "<style scoped>\n",
       "    .dataframe tbody tr th:only-of-type {\n",
       "        vertical-align: middle;\n",
       "    }\n",
       "\n",
       "    .dataframe tbody tr th {\n",
       "        vertical-align: top;\n",
       "    }\n",
       "\n",
       "    .dataframe thead th {\n",
       "        text-align: right;\n",
       "    }\n",
       "</style>\n",
       "<table border=\"1\" class=\"dataframe\">\n",
       "  <thead>\n",
       "    <tr style=\"text-align: right;\">\n",
       "      <th></th>\n",
       "      <th>name</th>\n",
       "      <th>platform</th>\n",
       "      <th>year_of_release</th>\n",
       "      <th>genre</th>\n",
       "      <th>na_sales</th>\n",
       "      <th>eu_sales</th>\n",
       "      <th>jp_sales</th>\n",
       "      <th>other_sales</th>\n",
       "      <th>critic_score</th>\n",
       "      <th>user_score</th>\n",
       "      <th>rating</th>\n",
       "    </tr>\n",
       "  </thead>\n",
       "  <tbody>\n",
       "    <tr>\n",
       "      <th>0</th>\n",
       "      <td>Wii Sports</td>\n",
       "      <td>Wii</td>\n",
       "      <td>2006.0</td>\n",
       "      <td>Sports</td>\n",
       "      <td>41.36</td>\n",
       "      <td>28.96</td>\n",
       "      <td>3.77</td>\n",
       "      <td>8.45</td>\n",
       "      <td>76.0</td>\n",
       "      <td>8</td>\n",
       "      <td>E</td>\n",
       "    </tr>\n",
       "    <tr>\n",
       "      <th>1</th>\n",
       "      <td>Super Mario Bros.</td>\n",
       "      <td>NES</td>\n",
       "      <td>1985.0</td>\n",
       "      <td>Platform</td>\n",
       "      <td>29.08</td>\n",
       "      <td>3.58</td>\n",
       "      <td>6.81</td>\n",
       "      <td>0.77</td>\n",
       "      <td>NaN</td>\n",
       "      <td>NaN</td>\n",
       "      <td>NaN</td>\n",
       "    </tr>\n",
       "    <tr>\n",
       "      <th>2</th>\n",
       "      <td>Mario Kart Wii</td>\n",
       "      <td>Wii</td>\n",
       "      <td>2008.0</td>\n",
       "      <td>Racing</td>\n",
       "      <td>15.68</td>\n",
       "      <td>12.76</td>\n",
       "      <td>3.79</td>\n",
       "      <td>3.29</td>\n",
       "      <td>82.0</td>\n",
       "      <td>8.3</td>\n",
       "      <td>E</td>\n",
       "    </tr>\n",
       "    <tr>\n",
       "      <th>3</th>\n",
       "      <td>Wii Sports Resort</td>\n",
       "      <td>Wii</td>\n",
       "      <td>2009.0</td>\n",
       "      <td>Sports</td>\n",
       "      <td>15.61</td>\n",
       "      <td>10.93</td>\n",
       "      <td>3.28</td>\n",
       "      <td>2.95</td>\n",
       "      <td>80.0</td>\n",
       "      <td>8</td>\n",
       "      <td>E</td>\n",
       "    </tr>\n",
       "    <tr>\n",
       "      <th>4</th>\n",
       "      <td>Pokemon Red/Pokemon Blue</td>\n",
       "      <td>GB</td>\n",
       "      <td>1996.0</td>\n",
       "      <td>Role-Playing</td>\n",
       "      <td>11.27</td>\n",
       "      <td>8.89</td>\n",
       "      <td>10.22</td>\n",
       "      <td>1.00</td>\n",
       "      <td>NaN</td>\n",
       "      <td>NaN</td>\n",
       "      <td>NaN</td>\n",
       "    </tr>\n",
       "  </tbody>\n",
       "</table>\n",
       "</div>"
      ],
      "text/plain": [
       "                       name platform  year_of_release         genre  na_sales  \\\n",
       "0                Wii Sports      Wii           2006.0        Sports     41.36   \n",
       "1         Super Mario Bros.      NES           1985.0      Platform     29.08   \n",
       "2            Mario Kart Wii      Wii           2008.0        Racing     15.68   \n",
       "3         Wii Sports Resort      Wii           2009.0        Sports     15.61   \n",
       "4  Pokemon Red/Pokemon Blue       GB           1996.0  Role-Playing     11.27   \n",
       "\n",
       "   eu_sales  jp_sales  other_sales  critic_score user_score rating  \n",
       "0     28.96      3.77         8.45          76.0          8      E  \n",
       "1      3.58      6.81         0.77           NaN        NaN    NaN  \n",
       "2     12.76      3.79         3.29          82.0        8.3      E  \n",
       "3     10.93      3.28         2.95          80.0          8      E  \n",
       "4      8.89     10.22         1.00           NaN        NaN    NaN  "
      ]
     },
     "execution_count": 42,
     "metadata": {},
     "output_type": "execute_result"
    }
   ],
   "source": [
    "# Análise inicial dos dados\n",
    "df_games.info()\n",
    "print()\n",
    "df_games.head()"
   ]
  },
  {
   "cell_type": "code",
   "execution_count": 43,
   "metadata": {},
   "outputs": [],
   "source": [
    "'''Conversão de colunas em texto para o tipo string e padronização em letras minúsculas para evitar erros.'''\n",
    "\n",
    "\n",
    "df_games['name'] = df_games['name'].astype('string').str.lower()\n",
    "df_games['platform'] = df_games['platform'].astype('string').str.lower()\n",
    "df_games['genre'] = df_games['genre'].astype('string').str.lower()"
   ]
  },
  {
   "cell_type": "code",
   "execution_count": 44,
   "metadata": {},
   "outputs": [
    {
     "data": {
      "text/plain": [
       "'Ao tentar converter o dado de ano para o tipo inteiro, um erro ocorreu, devido aos valores nulos desta coluna.\\nSendo assim, foi realizada uma análise para entender se os valores eram expressivos em relação ao total da base, \\nou se seguiam algum padrão específico. Nenhum dos dois casos foi identificado, com isso, optou-se por atribuir o\\nvalor de 0 a todas as linhas nulas no dataframe e depois convertê-las.'"
      ]
     },
     "execution_count": 44,
     "metadata": {},
     "output_type": "execute_result"
    }
   ],
   "source": [
    "'''Ao tentar converter o dado de ano para o tipo inteiro, um erro ocorreu, devido aos valores nulos desta coluna.\n",
    "Sendo assim, foi realizada uma análise para entender se os valores eram expressivos em relação ao total da base, \n",
    "ou se seguiam algum padrão específico. Nenhum dos dois casos foi identificado, com isso, optou-se por atribuir o\n",
    "valor de 0 a todas as linhas nulas no dataframe e depois convertê-las.'''\n",
    "\n",
    "#Filtrando as linhas do dataframe e que o ano é nulo\n",
    "\n",
    "#df_games[df_games['year_of_release'].isna()]\n",
    "\n",
    "\n"
   ]
  },
  {
   "cell_type": "code",
   "execution_count": 45,
   "metadata": {},
   "outputs": [],
   "source": [
    "df_games['year_of_release'] = pd.to_numeric(df_games['year_of_release'], errors='coerce').astype('Int64')"
   ]
  },
  {
   "cell_type": "code",
   "execution_count": 46,
   "metadata": {},
   "outputs": [
    {
     "data": {
      "text/html": [
       "<div>\n",
       "<style scoped>\n",
       "    .dataframe tbody tr th:only-of-type {\n",
       "        vertical-align: middle;\n",
       "    }\n",
       "\n",
       "    .dataframe tbody tr th {\n",
       "        vertical-align: top;\n",
       "    }\n",
       "\n",
       "    .dataframe thead th {\n",
       "        text-align: right;\n",
       "    }\n",
       "</style>\n",
       "<table border=\"1\" class=\"dataframe\">\n",
       "  <thead>\n",
       "    <tr style=\"text-align: right;\">\n",
       "      <th></th>\n",
       "      <th>name</th>\n",
       "      <th>platform</th>\n",
       "      <th>year_of_release</th>\n",
       "      <th>genre</th>\n",
       "      <th>na_sales</th>\n",
       "      <th>eu_sales</th>\n",
       "      <th>jp_sales</th>\n",
       "      <th>other_sales</th>\n",
       "      <th>critic_score</th>\n",
       "      <th>user_score</th>\n",
       "      <th>rating</th>\n",
       "    </tr>\n",
       "  </thead>\n",
       "  <tbody>\n",
       "    <tr>\n",
       "      <th>183</th>\n",
       "      <td>madden nfl 2004</td>\n",
       "      <td>ps2</td>\n",
       "      <td>&lt;NA&gt;</td>\n",
       "      <td>sports</td>\n",
       "      <td>4.26</td>\n",
       "      <td>0.26</td>\n",
       "      <td>0.01</td>\n",
       "      <td>0.71</td>\n",
       "      <td>94.0</td>\n",
       "      <td>8.5</td>\n",
       "      <td>E</td>\n",
       "    </tr>\n",
       "    <tr>\n",
       "      <th>377</th>\n",
       "      <td>fifa soccer 2004</td>\n",
       "      <td>ps2</td>\n",
       "      <td>&lt;NA&gt;</td>\n",
       "      <td>sports</td>\n",
       "      <td>0.59</td>\n",
       "      <td>2.36</td>\n",
       "      <td>0.04</td>\n",
       "      <td>0.51</td>\n",
       "      <td>84.0</td>\n",
       "      <td>6.4</td>\n",
       "      <td>E</td>\n",
       "    </tr>\n",
       "    <tr>\n",
       "      <th>456</th>\n",
       "      <td>lego batman: the videogame</td>\n",
       "      <td>wii</td>\n",
       "      <td>&lt;NA&gt;</td>\n",
       "      <td>action</td>\n",
       "      <td>1.80</td>\n",
       "      <td>0.97</td>\n",
       "      <td>0.00</td>\n",
       "      <td>0.29</td>\n",
       "      <td>74.0</td>\n",
       "      <td>7.9</td>\n",
       "      <td>E10+</td>\n",
       "    </tr>\n",
       "    <tr>\n",
       "      <th>475</th>\n",
       "      <td>wwe smackdown vs. raw 2006</td>\n",
       "      <td>ps2</td>\n",
       "      <td>&lt;NA&gt;</td>\n",
       "      <td>fighting</td>\n",
       "      <td>1.57</td>\n",
       "      <td>1.02</td>\n",
       "      <td>0.00</td>\n",
       "      <td>0.41</td>\n",
       "      <td>NaN</td>\n",
       "      <td>NaN</td>\n",
       "      <td>NaN</td>\n",
       "    </tr>\n",
       "    <tr>\n",
       "      <th>609</th>\n",
       "      <td>space invaders</td>\n",
       "      <td>2600</td>\n",
       "      <td>&lt;NA&gt;</td>\n",
       "      <td>shooter</td>\n",
       "      <td>2.36</td>\n",
       "      <td>0.14</td>\n",
       "      <td>0.00</td>\n",
       "      <td>0.03</td>\n",
       "      <td>NaN</td>\n",
       "      <td>NaN</td>\n",
       "      <td>NaN</td>\n",
       "    </tr>\n",
       "    <tr>\n",
       "      <th>...</th>\n",
       "      <td>...</td>\n",
       "      <td>...</td>\n",
       "      <td>...</td>\n",
       "      <td>...</td>\n",
       "      <td>...</td>\n",
       "      <td>...</td>\n",
       "      <td>...</td>\n",
       "      <td>...</td>\n",
       "      <td>...</td>\n",
       "      <td>...</td>\n",
       "      <td>...</td>\n",
       "    </tr>\n",
       "    <tr>\n",
       "      <th>16373</th>\n",
       "      <td>pdc world championship darts 2008</td>\n",
       "      <td>psp</td>\n",
       "      <td>&lt;NA&gt;</td>\n",
       "      <td>sports</td>\n",
       "      <td>0.01</td>\n",
       "      <td>0.00</td>\n",
       "      <td>0.00</td>\n",
       "      <td>0.00</td>\n",
       "      <td>43.0</td>\n",
       "      <td>tbd</td>\n",
       "      <td>E10+</td>\n",
       "    </tr>\n",
       "    <tr>\n",
       "      <th>16405</th>\n",
       "      <td>freaky flyers</td>\n",
       "      <td>gc</td>\n",
       "      <td>&lt;NA&gt;</td>\n",
       "      <td>racing</td>\n",
       "      <td>0.01</td>\n",
       "      <td>0.00</td>\n",
       "      <td>0.00</td>\n",
       "      <td>0.00</td>\n",
       "      <td>69.0</td>\n",
       "      <td>6.5</td>\n",
       "      <td>T</td>\n",
       "    </tr>\n",
       "    <tr>\n",
       "      <th>16448</th>\n",
       "      <td>inversion</td>\n",
       "      <td>pc</td>\n",
       "      <td>&lt;NA&gt;</td>\n",
       "      <td>shooter</td>\n",
       "      <td>0.01</td>\n",
       "      <td>0.00</td>\n",
       "      <td>0.00</td>\n",
       "      <td>0.00</td>\n",
       "      <td>59.0</td>\n",
       "      <td>6.7</td>\n",
       "      <td>M</td>\n",
       "    </tr>\n",
       "    <tr>\n",
       "      <th>16458</th>\n",
       "      <td>hakuouki: shinsengumi kitan</td>\n",
       "      <td>ps3</td>\n",
       "      <td>&lt;NA&gt;</td>\n",
       "      <td>adventure</td>\n",
       "      <td>0.01</td>\n",
       "      <td>0.00</td>\n",
       "      <td>0.00</td>\n",
       "      <td>0.00</td>\n",
       "      <td>NaN</td>\n",
       "      <td>NaN</td>\n",
       "      <td>NaN</td>\n",
       "    </tr>\n",
       "    <tr>\n",
       "      <th>16522</th>\n",
       "      <td>virtua quest</td>\n",
       "      <td>gc</td>\n",
       "      <td>&lt;NA&gt;</td>\n",
       "      <td>role-playing</td>\n",
       "      <td>0.01</td>\n",
       "      <td>0.00</td>\n",
       "      <td>0.00</td>\n",
       "      <td>0.00</td>\n",
       "      <td>55.0</td>\n",
       "      <td>5.5</td>\n",
       "      <td>T</td>\n",
       "    </tr>\n",
       "  </tbody>\n",
       "</table>\n",
       "<p>269 rows × 11 columns</p>\n",
       "</div>"
      ],
      "text/plain": [
       "                                    name platform  year_of_release  \\\n",
       "183                      madden nfl 2004      ps2             <NA>   \n",
       "377                     fifa soccer 2004      ps2             <NA>   \n",
       "456           lego batman: the videogame      wii             <NA>   \n",
       "475           wwe smackdown vs. raw 2006      ps2             <NA>   \n",
       "609                       space invaders     2600             <NA>   \n",
       "...                                  ...      ...              ...   \n",
       "16373  pdc world championship darts 2008      psp             <NA>   \n",
       "16405                      freaky flyers       gc             <NA>   \n",
       "16448                          inversion       pc             <NA>   \n",
       "16458        hakuouki: shinsengumi kitan      ps3             <NA>   \n",
       "16522                       virtua quest       gc             <NA>   \n",
       "\n",
       "              genre  na_sales  eu_sales  jp_sales  other_sales  critic_score  \\\n",
       "183          sports      4.26      0.26      0.01         0.71          94.0   \n",
       "377          sports      0.59      2.36      0.04         0.51          84.0   \n",
       "456          action      1.80      0.97      0.00         0.29          74.0   \n",
       "475        fighting      1.57      1.02      0.00         0.41           NaN   \n",
       "609         shooter      2.36      0.14      0.00         0.03           NaN   \n",
       "...             ...       ...       ...       ...          ...           ...   \n",
       "16373        sports      0.01      0.00      0.00         0.00          43.0   \n",
       "16405        racing      0.01      0.00      0.00         0.00          69.0   \n",
       "16448       shooter      0.01      0.00      0.00         0.00          59.0   \n",
       "16458     adventure      0.01      0.00      0.00         0.00           NaN   \n",
       "16522  role-playing      0.01      0.00      0.00         0.00          55.0   \n",
       "\n",
       "      user_score rating  \n",
       "183          8.5      E  \n",
       "377          6.4      E  \n",
       "456          7.9   E10+  \n",
       "475          NaN    NaN  \n",
       "609          NaN    NaN  \n",
       "...          ...    ...  \n",
       "16373        tbd   E10+  \n",
       "16405        6.5      T  \n",
       "16448        6.7      M  \n",
       "16458        NaN    NaN  \n",
       "16522        5.5      T  \n",
       "\n",
       "[269 rows x 11 columns]"
      ]
     },
     "execution_count": 46,
     "metadata": {},
     "output_type": "execute_result"
    }
   ],
   "source": [
    "df_games[df_games['year_of_release'].isna()]"
   ]
  },
  {
   "cell_type": "code",
   "execution_count": 47,
   "metadata": {},
   "outputs": [],
   "source": [
    "#Conversão da coluna user_score para float\n",
    "#Assim será possível realizar operações numéricas com estes dados\n",
    "\n",
    "df_games['user_score'] = pd.to_numeric(df_games['user_score'], errors='coerce')"
   ]
  },
  {
   "cell_type": "code",
   "execution_count": 48,
   "metadata": {},
   "outputs": [],
   "source": [
    "#Inclusão de uma coluna com a soma das vendas em todas as regiões\n",
    "df_games['total_sales'] = (df_games['na_sales'] + df_games['na_sales'] + df_games['na_sales'] + df_games['other_sales'])"
   ]
  },
  {
   "cell_type": "code",
   "execution_count": 49,
   "metadata": {},
   "outputs": [
    {
     "data": {
      "text/html": [
       "<div>\n",
       "<style scoped>\n",
       "    .dataframe tbody tr th:only-of-type {\n",
       "        vertical-align: middle;\n",
       "    }\n",
       "\n",
       "    .dataframe tbody tr th {\n",
       "        vertical-align: top;\n",
       "    }\n",
       "\n",
       "    .dataframe thead th {\n",
       "        text-align: right;\n",
       "    }\n",
       "</style>\n",
       "<table border=\"1\" class=\"dataframe\">\n",
       "  <thead>\n",
       "    <tr style=\"text-align: right;\">\n",
       "      <th></th>\n",
       "      <th>name</th>\n",
       "      <th>platform</th>\n",
       "      <th>year_of_release</th>\n",
       "      <th>genre</th>\n",
       "      <th>na_sales</th>\n",
       "      <th>eu_sales</th>\n",
       "      <th>jp_sales</th>\n",
       "      <th>other_sales</th>\n",
       "      <th>critic_score</th>\n",
       "      <th>user_score</th>\n",
       "      <th>rating</th>\n",
       "      <th>total_sales</th>\n",
       "    </tr>\n",
       "  </thead>\n",
       "  <tbody>\n",
       "    <tr>\n",
       "      <th>0</th>\n",
       "      <td>wii sports</td>\n",
       "      <td>wii</td>\n",
       "      <td>2006</td>\n",
       "      <td>sports</td>\n",
       "      <td>41.36</td>\n",
       "      <td>28.96</td>\n",
       "      <td>3.77</td>\n",
       "      <td>8.45</td>\n",
       "      <td>76.0</td>\n",
       "      <td>8.0</td>\n",
       "      <td>E</td>\n",
       "      <td>132.53</td>\n",
       "    </tr>\n",
       "    <tr>\n",
       "      <th>1</th>\n",
       "      <td>super mario bros.</td>\n",
       "      <td>nes</td>\n",
       "      <td>1985</td>\n",
       "      <td>platform</td>\n",
       "      <td>29.08</td>\n",
       "      <td>3.58</td>\n",
       "      <td>6.81</td>\n",
       "      <td>0.77</td>\n",
       "      <td>NaN</td>\n",
       "      <td>NaN</td>\n",
       "      <td>NaN</td>\n",
       "      <td>88.01</td>\n",
       "    </tr>\n",
       "    <tr>\n",
       "      <th>2</th>\n",
       "      <td>mario kart wii</td>\n",
       "      <td>wii</td>\n",
       "      <td>2008</td>\n",
       "      <td>racing</td>\n",
       "      <td>15.68</td>\n",
       "      <td>12.76</td>\n",
       "      <td>3.79</td>\n",
       "      <td>3.29</td>\n",
       "      <td>82.0</td>\n",
       "      <td>8.3</td>\n",
       "      <td>E</td>\n",
       "      <td>50.33</td>\n",
       "    </tr>\n",
       "    <tr>\n",
       "      <th>3</th>\n",
       "      <td>wii sports resort</td>\n",
       "      <td>wii</td>\n",
       "      <td>2009</td>\n",
       "      <td>sports</td>\n",
       "      <td>15.61</td>\n",
       "      <td>10.93</td>\n",
       "      <td>3.28</td>\n",
       "      <td>2.95</td>\n",
       "      <td>80.0</td>\n",
       "      <td>8.0</td>\n",
       "      <td>E</td>\n",
       "      <td>49.78</td>\n",
       "    </tr>\n",
       "    <tr>\n",
       "      <th>4</th>\n",
       "      <td>pokemon red/pokemon blue</td>\n",
       "      <td>gb</td>\n",
       "      <td>1996</td>\n",
       "      <td>role-playing</td>\n",
       "      <td>11.27</td>\n",
       "      <td>8.89</td>\n",
       "      <td>10.22</td>\n",
       "      <td>1.00</td>\n",
       "      <td>NaN</td>\n",
       "      <td>NaN</td>\n",
       "      <td>NaN</td>\n",
       "      <td>34.81</td>\n",
       "    </tr>\n",
       "  </tbody>\n",
       "</table>\n",
       "</div>"
      ],
      "text/plain": [
       "                       name platform  year_of_release         genre  na_sales  \\\n",
       "0                wii sports      wii             2006        sports     41.36   \n",
       "1         super mario bros.      nes             1985      platform     29.08   \n",
       "2            mario kart wii      wii             2008        racing     15.68   \n",
       "3         wii sports resort      wii             2009        sports     15.61   \n",
       "4  pokemon red/pokemon blue       gb             1996  role-playing     11.27   \n",
       "\n",
       "   eu_sales  jp_sales  other_sales  critic_score  user_score rating  \\\n",
       "0     28.96      3.77         8.45          76.0         8.0      E   \n",
       "1      3.58      6.81         0.77           NaN         NaN    NaN   \n",
       "2     12.76      3.79         3.29          82.0         8.3      E   \n",
       "3     10.93      3.28         2.95          80.0         8.0      E   \n",
       "4      8.89     10.22         1.00           NaN         NaN    NaN   \n",
       "\n",
       "   total_sales  \n",
       "0       132.53  \n",
       "1        88.01  \n",
       "2        50.33  \n",
       "3        49.78  \n",
       "4        34.81  "
      ]
     },
     "execution_count": 49,
     "metadata": {},
     "output_type": "execute_result"
    }
   ],
   "source": [
    "df_games.head()"
   ]
  },
  {
   "cell_type": "markdown",
   "metadata": {},
   "source": [
    "# ETAPA 3 - Análise de Dados"
   ]
  },
  {
   "cell_type": "code",
   "execution_count": 50,
   "metadata": {
    "scrolled": false
   },
   "outputs": [],
   "source": [
    "#Total de jogos lançados por ano\n",
    "lanc_by_year= df_games['year_of_release'].value_counts()\n",
    "lanc_by_year = lanc_by_year.sort_index()\n"
   ]
  },
  {
   "cell_type": "code",
   "execution_count": 51,
   "metadata": {},
   "outputs": [
    {
     "data": {
      "text/plain": [
       "<Axes: xlabel='year_of_release'>"
      ]
     },
     "execution_count": 51,
     "metadata": {},
     "output_type": "execute_result"
    },
    {
     "data": {
      "image/png": "[encoded data removed]",
      "text/plain": [
       "<Figure size 1000x400 with 1 Axes>"
      ]
     },
     "metadata": {},
     "output_type": "display_data"
    }
   ],
   "source": [
    "lanc_by_year.plot(kind='bar', figsize=(10,4))"
   ]
  },
  {
   "cell_type": "markdown",
   "metadata": {},
   "source": [
    "**Observações spbre a quantidade de jogos lançados por ano**\n",
    "\n",
    "É possível observar uma grande crescente no número de jogos lançados com o passar as décadas. Os números dos anos 1980, eram na ordem das dezenas , praticamente ínfimos em comparação anos 2010, que estão da ontem das centenas e até milhares."
   ]
  },
  {
   "cell_type": "code",
   "execution_count": 52,
   "metadata": {},
   "outputs": [],
   "source": [
    "#Análise do volume de vendas por cada plataforma\n",
    "\n",
    "vendas_por_plataforma = df_games.groupby('platform')['total_sales'].sum().reset_index()\n",
    "vendas_por_plataforma = vendas_por_plataforma.sort_values(by='total_sales', ascending=False)\n",
    "                                                                  "
   ]
  },
  {
   "cell_type": "code",
   "execution_count": 53,
   "metadata": {},
   "outputs": [
    {
     "data": {
      "image/png": "[encoded data removed]",
      "text/plain": [
       "<Figure size 640x480 with 1 Axes>"
      ]
     },
     "metadata": {},
     "output_type": "display_data"
    }
   ],
   "source": [
    "vendas_por_plataforma['total_sales'].plot(kind='bar', \n",
    "                                          title='Volume total de vendas por plataforma', \n",
    "                                          xlabel='Plataforma', \n",
    "                                          ylabel='Vendas (em milhões)')\n",
    "plt.show()"
   ]
  },
  {
   "cell_type": "markdown",
   "metadata": {},
   "source": [
    "**Principais plataformas de jogos**\n",
    "\n",
    "O critério que fomentou a seleção das principais plataformas para a empresa foi o valor de receita por elas acumulado. Avaliando a distribuição dos valores, ficaram entendidas como principais as que possuem um valores total de vendas sueriores a 1000. Seis plataformas atendiam a este critério e foram obserserdadas em análises mais próximas, conforme demonstrado a seguir. "
   ]
  },
  {
   "cell_type": "code",
   "execution_count": 55,
   "metadata": {},
   "outputs": [
    {
     "name": "stdout",
     "output_type": "stream",
     "text": [
      "  platform  total_sales\n",
      "0      ps2      1944.96\n",
      "1     x360      1893.17\n",
      "2      wii      1569.77\n",
      "3      ps3      1316.15\n",
      "4       ds      1206.46\n",
      "5       ps      1050.47\n"
     ]
    }
   ],
   "source": [
    "top_6 = vendas_por_plataforma.head(6).reset_index(drop=True)\n",
    "print(top_6)"
   ]
  },
  {
   "cell_type": "code",
   "execution_count": 56,
   "metadata": {},
   "outputs": [],
   "source": [
    "top_6_names = ['ps2', 'x360', 'wii', 'ps3', 'ds', 'ps']\n",
    "df_princ_plat = df_games[df_games['platform'].isin(top_6_names)]"
   ]
  },
  {
   "cell_type": "code",
   "execution_count": 57,
   "metadata": {},
   "outputs": [
    {
     "data": {
      "text/html": [
       "<div>\n",
       "<style scoped>\n",
       "    .dataframe tbody tr th:only-of-type {\n",
       "        vertical-align: middle;\n",
       "    }\n",
       "\n",
       "    .dataframe tbody tr th {\n",
       "        vertical-align: top;\n",
       "    }\n",
       "\n",
       "    .dataframe thead th {\n",
       "        text-align: right;\n",
       "    }\n",
       "</style>\n",
       "<table border=\"1\" class=\"dataframe\">\n",
       "  <thead>\n",
       "    <tr style=\"text-align: right;\">\n",
       "      <th></th>\n",
       "      <th>name</th>\n",
       "      <th>platform</th>\n",
       "      <th>year_of_release</th>\n",
       "      <th>genre</th>\n",
       "      <th>na_sales</th>\n",
       "      <th>eu_sales</th>\n",
       "      <th>jp_sales</th>\n",
       "      <th>other_sales</th>\n",
       "      <th>critic_score</th>\n",
       "      <th>user_score</th>\n",
       "      <th>rating</th>\n",
       "      <th>total_sales</th>\n",
       "    </tr>\n",
       "  </thead>\n",
       "  <tbody>\n",
       "    <tr>\n",
       "      <th>0</th>\n",
       "      <td>wii sports</td>\n",
       "      <td>wii</td>\n",
       "      <td>2006</td>\n",
       "      <td>sports</td>\n",
       "      <td>41.36</td>\n",
       "      <td>28.96</td>\n",
       "      <td>3.77</td>\n",
       "      <td>8.45</td>\n",
       "      <td>76.0</td>\n",
       "      <td>8.0</td>\n",
       "      <td>E</td>\n",
       "      <td>132.53</td>\n",
       "    </tr>\n",
       "    <tr>\n",
       "      <th>2</th>\n",
       "      <td>mario kart wii</td>\n",
       "      <td>wii</td>\n",
       "      <td>2008</td>\n",
       "      <td>racing</td>\n",
       "      <td>15.68</td>\n",
       "      <td>12.76</td>\n",
       "      <td>3.79</td>\n",
       "      <td>3.29</td>\n",
       "      <td>82.0</td>\n",
       "      <td>8.3</td>\n",
       "      <td>E</td>\n",
       "      <td>50.33</td>\n",
       "    </tr>\n",
       "    <tr>\n",
       "      <th>3</th>\n",
       "      <td>wii sports resort</td>\n",
       "      <td>wii</td>\n",
       "      <td>2009</td>\n",
       "      <td>sports</td>\n",
       "      <td>15.61</td>\n",
       "      <td>10.93</td>\n",
       "      <td>3.28</td>\n",
       "      <td>2.95</td>\n",
       "      <td>80.0</td>\n",
       "      <td>8.0</td>\n",
       "      <td>E</td>\n",
       "      <td>49.78</td>\n",
       "    </tr>\n",
       "    <tr>\n",
       "      <th>6</th>\n",
       "      <td>new super mario bros.</td>\n",
       "      <td>ds</td>\n",
       "      <td>2006</td>\n",
       "      <td>platform</td>\n",
       "      <td>11.28</td>\n",
       "      <td>9.14</td>\n",
       "      <td>6.50</td>\n",
       "      <td>2.88</td>\n",
       "      <td>89.0</td>\n",
       "      <td>8.5</td>\n",
       "      <td>E</td>\n",
       "      <td>36.72</td>\n",
       "    </tr>\n",
       "    <tr>\n",
       "      <th>7</th>\n",
       "      <td>wii play</td>\n",
       "      <td>wii</td>\n",
       "      <td>2006</td>\n",
       "      <td>misc</td>\n",
       "      <td>13.96</td>\n",
       "      <td>9.18</td>\n",
       "      <td>2.93</td>\n",
       "      <td>2.84</td>\n",
       "      <td>58.0</td>\n",
       "      <td>6.6</td>\n",
       "      <td>E</td>\n",
       "      <td>44.72</td>\n",
       "    </tr>\n",
       "    <tr>\n",
       "      <th>...</th>\n",
       "      <td>...</td>\n",
       "      <td>...</td>\n",
       "      <td>...</td>\n",
       "      <td>...</td>\n",
       "      <td>...</td>\n",
       "      <td>...</td>\n",
       "      <td>...</td>\n",
       "      <td>...</td>\n",
       "      <td>...</td>\n",
       "      <td>...</td>\n",
       "      <td>...</td>\n",
       "      <td>...</td>\n",
       "    </tr>\n",
       "    <tr>\n",
       "      <th>16700</th>\n",
       "      <td>mezase!! tsuri master ds</td>\n",
       "      <td>ds</td>\n",
       "      <td>2009</td>\n",
       "      <td>sports</td>\n",
       "      <td>0.00</td>\n",
       "      <td>0.00</td>\n",
       "      <td>0.01</td>\n",
       "      <td>0.00</td>\n",
       "      <td>NaN</td>\n",
       "      <td>NaN</td>\n",
       "      <td>NaN</td>\n",
       "      <td>0.00</td>\n",
       "    </tr>\n",
       "    <tr>\n",
       "      <th>16704</th>\n",
       "      <td>plushees</td>\n",
       "      <td>ds</td>\n",
       "      <td>2008</td>\n",
       "      <td>simulation</td>\n",
       "      <td>0.01</td>\n",
       "      <td>0.00</td>\n",
       "      <td>0.00</td>\n",
       "      <td>0.00</td>\n",
       "      <td>NaN</td>\n",
       "      <td>NaN</td>\n",
       "      <td>E</td>\n",
       "      <td>0.03</td>\n",
       "    </tr>\n",
       "    <tr>\n",
       "      <th>16709</th>\n",
       "      <td>score international baja 1000: the official game</td>\n",
       "      <td>ps2</td>\n",
       "      <td>2008</td>\n",
       "      <td>racing</td>\n",
       "      <td>0.00</td>\n",
       "      <td>0.00</td>\n",
       "      <td>0.00</td>\n",
       "      <td>0.00</td>\n",
       "      <td>NaN</td>\n",
       "      <td>NaN</td>\n",
       "      <td>NaN</td>\n",
       "      <td>0.00</td>\n",
       "    </tr>\n",
       "    <tr>\n",
       "      <th>16710</th>\n",
       "      <td>samurai warriors: sanada maru</td>\n",
       "      <td>ps3</td>\n",
       "      <td>2016</td>\n",
       "      <td>action</td>\n",
       "      <td>0.00</td>\n",
       "      <td>0.00</td>\n",
       "      <td>0.01</td>\n",
       "      <td>0.00</td>\n",
       "      <td>NaN</td>\n",
       "      <td>NaN</td>\n",
       "      <td>NaN</td>\n",
       "      <td>0.00</td>\n",
       "    </tr>\n",
       "    <tr>\n",
       "      <th>16711</th>\n",
       "      <td>lma manager 2007</td>\n",
       "      <td>x360</td>\n",
       "      <td>2006</td>\n",
       "      <td>sports</td>\n",
       "      <td>0.00</td>\n",
       "      <td>0.01</td>\n",
       "      <td>0.00</td>\n",
       "      <td>0.00</td>\n",
       "      <td>NaN</td>\n",
       "      <td>NaN</td>\n",
       "      <td>NaN</td>\n",
       "      <td>0.00</td>\n",
       "    </tr>\n",
       "  </tbody>\n",
       "</table>\n",
       "<p>9422 rows × 12 columns</p>\n",
       "</div>"
      ],
      "text/plain": [
       "                                                   name platform  \\\n",
       "0                                            wii sports      wii   \n",
       "2                                        mario kart wii      wii   \n",
       "3                                     wii sports resort      wii   \n",
       "6                                 new super mario bros.       ds   \n",
       "7                                              wii play      wii   \n",
       "...                                                 ...      ...   \n",
       "16700                          mezase!! tsuri master ds       ds   \n",
       "16704                                          plushees       ds   \n",
       "16709  score international baja 1000: the official game      ps2   \n",
       "16710                     samurai warriors: sanada maru      ps3   \n",
       "16711                                  lma manager 2007     x360   \n",
       "\n",
       "       year_of_release       genre  na_sales  eu_sales  jp_sales  other_sales  \\\n",
       "0                 2006      sports     41.36     28.96      3.77         8.45   \n",
       "2                 2008      racing     15.68     12.76      3.79         3.29   \n",
       "3                 2009      sports     15.61     10.93      3.28         2.95   \n",
       "6                 2006    platform     11.28      9.14      6.50         2.88   \n",
       "7                 2006        misc     13.96      9.18      2.93         2.84   \n",
       "...                ...         ...       ...       ...       ...          ...   \n",
       "16700             2009      sports      0.00      0.00      0.01         0.00   \n",
       "16704             2008  simulation      0.01      0.00      0.00         0.00   \n",
       "16709             2008      racing      0.00      0.00      0.00         0.00   \n",
       "16710             2016      action      0.00      0.00      0.01         0.00   \n",
       "16711             2006      sports      0.00      0.01      0.00         0.00   \n",
       "\n",
       "       critic_score  user_score rating  total_sales  \n",
       "0              76.0         8.0      E       132.53  \n",
       "2              82.0         8.3      E        50.33  \n",
       "3              80.0         8.0      E        49.78  \n",
       "6              89.0         8.5      E        36.72  \n",
       "7              58.0         6.6      E        44.72  \n",
       "...             ...         ...    ...          ...  \n",
       "16700           NaN         NaN    NaN         0.00  \n",
       "16704           NaN         NaN      E         0.03  \n",
       "16709           NaN         NaN    NaN         0.00  \n",
       "16710           NaN         NaN    NaN         0.00  \n",
       "16711           NaN         NaN    NaN         0.00  \n",
       "\n",
       "[9422 rows x 12 columns]"
      ]
     },
     "execution_count": 57,
     "metadata": {},
     "output_type": "execute_result"
    }
   ],
   "source": [
    "df_princ_plat"
   ]
  },
  {
   "cell_type": "code",
   "execution_count": 58,
   "metadata": {
    "scrolled": false
   },
   "outputs": [
    {
     "data": {
      "image/png": "[encoded data removed]",
      "text/plain": [
       "<Figure size 1000x400 with 1 Axes>"
      ]
     },
     "metadata": {},
     "output_type": "display_data"
    }
   ],
   "source": [
    "#Construindo um visualização que demostra a performance de vendas de cada unma das principais plataformas ao longo dos anos.\n",
    "\n",
    "df_princ_plat[df_princ_plat['platform'] == 'ps2'].groupby('year_of_release')['total_sales'].sum().plot(figsize=(10,4))\n",
    "df_princ_plat[df_princ_plat['platform'] == 'x360'].groupby('year_of_release')['total_sales'].sum().plot(figsize=(10,4))\n",
    "df_princ_plat[df_princ_plat['platform'] == 'wii'].groupby('year_of_release')['total_sales'].sum().plot(figsize=(10,4))\n",
    "df_princ_plat[df_princ_plat['platform'] == 'ps3'].groupby('year_of_release')['total_sales'].sum().plot(figsize=(10,4))\n",
    "df_princ_plat[df_princ_plat['platform'] == 'ds'].groupby('year_of_release')['total_sales'].sum().plot(figsize=(10,4))\n",
    "df_princ_plat[df_princ_plat['platform'] == 'ps'].groupby('year_of_release')['total_sales'].sum().plot(figsize=(10,4))\n",
    "\n",
    "plt.title('TOP 6 Plataformas - Vendas por ano')\n",
    "plt.legend(top_6_names)\n",
    "plt.show()"
   ]
  },
  {
   "cell_type": "markdown",
   "metadata": {},
   "source": [
    "**Plataformas que perderam a expressividade ao longo dos anos**\n",
    "\n",
    "Dentre as principais platformas analisadas, é possível observar que todas sofreram quedas no volume de vendas nos últimos anos. Algumas no entando, possuem um período de vida mais curto. \n",
    "Conseguimos destacar como platafromas que tinham um sucesso expressivo no passado e na última década desaparecem, a \"ps\" e a \"ps2\".\n",
    "\n",
    "Vale um destaque também a plataforma DS, a mais antiga entre esse conjunto, pois foi lançada ainda nos anos 1980, mas conseguiu se manter no mercado e aumentar sua expressão de vendas ainda nos anos 2010."
   ]
  },
  {
   "cell_type": "markdown",
   "metadata": {},
   "source": [
    "**Análise do cenário atual recente da venda de jogos**"
   ]
  },
  {
   "cell_type": "markdown",
   "metadata": {},
   "source": [
    "Nesta seção será realizada a análise apenas de um período mais atual da indústria. A definição deste recorte foi realizada a partir do tempo médio de duração das plataformas da base. Este cálculo de as análises realizadas a partir desta definição, poderão ser observadas a seguir."
   ]
  },
  {
   "cell_type": "code",
   "execution_count": 59,
   "metadata": {},
   "outputs": [],
   "source": [
    "#Criando  variáveis que armazenam o ano no primeiro e do último lançamento de cada plataforma\n",
    "\n",
    "first_release = df_games.groupby('platform')['year_of_release'].min() \n",
    "last_release = df_games.groupby('platform')['year_of_release'].max()\n"
   ]
  },
  {
   "cell_type": "code",
   "execution_count": 60,
   "metadata": {},
   "outputs": [
    {
     "name": "stdout",
     "output_type": "stream",
     "text": [
      " O tempo médio de duração de uma plataforma de jogos é de 7.612903225806452 anos.\n"
     ]
    }
   ],
   "source": [
    "#Obtendo o tempo de existência de cada plataforma baseada no ano que que fizeram seu primeiro e último lançamento\n",
    "platform_lifetime = last_release - first_release\n",
    "platform_lifetime_mean = platform_lifetime.mean()\n",
    "print(f\" O tempo médio de duração de uma plataforma de jogos é de {platform_lifetime_mean} anos.\")"
   ]
  },
  {
   "cell_type": "code",
   "execution_count": 61,
   "metadata": {},
   "outputs": [],
   "source": [
    "'''De modo a avaliar os resultados mais recentes, para que se possa ter mais clareza o sobre os possíveis resultados e ações do \n",
    "ano seguinte, foi realizado um recorte temporal dos últimos 4 anos da base de dados, que será utilizado em todas as análises\n",
    "posteiores.'''\n",
    "\n",
    "df_recent = df_games[df_games['year_of_release'] >= 2013]"
   ]
  },
  {
   "cell_type": "code",
   "execution_count": 62,
   "metadata": {},
   "outputs": [],
   "source": [
    "plat_recent_list = df_recent['platform'].unique()"
   ]
  },
  {
   "cell_type": "code",
   "execution_count": 63,
   "metadata": {},
   "outputs": [],
   "source": [
    "def plot_platform_sales(platform_list, df):\n",
    "    for plat in platform_list:\n",
    "        df_recent[df_recent['platform'] == plat].groupby('year_of_release')['total_sales'].sum().plot(figsize=(10,4))\n",
    "    \n",
    "    plt.xlabel('Ano de lançamento')\n",
    "    plt.ylabel('Total de vendas (em milhões)')\n",
    "    plt.title('Vendas por plataforma (a partir de 2008)')\n",
    "    plt.legend(plat_recent_list, title=\"Platform\", ncol=2)\n",
    "    plt.show()\n"
   ]
  },
  {
   "cell_type": "code",
   "execution_count": 64,
   "metadata": {},
   "outputs": [
    {
     "data": {
      "image/png": "[encoded data removed]",
      "text/plain": [
       "<Figure size 1000x400 with 1 Axes>"
      ]
     },
     "metadata": {},
     "output_type": "display_data"
    }
   ],
   "source": [
    "plot_platform_sales(plat_recent_list, df_recent)"
   ]
  },
  {
   "cell_type": "code",
   "execution_count": 65,
   "metadata": {},
   "outputs": [],
   "source": [
    "# Quais plataformas estão liderando em vendas?\n",
    "# Quais estão crescendo ou diminuindo? Selecione várias plataformas potencialmente lucrativas."
   ]
  },
  {
   "cell_type": "markdown",
   "metadata": {},
   "source": [
    "A maioria das plataformas demostram uma queda no total de vendas. Esta situação é ainda mais alarmante quando se observa a PS3 e X360, que vem de um cenário de vendas muitos altas há poucos anos atras.\n",
    "\n",
    "Destacam-se com oportunidade crescimento e possível valorização, as plataformas mais recentemente lançadas (ambas em 2013), \"PS4\" e \"XOne\".\n"
   ]
  },
  {
   "cell_type": "code",
   "execution_count": 66,
   "metadata": {},
   "outputs": [],
   "source": [
    "def plot_platform_boxplots(platforms, df):\n",
    "    for platform in platforms:\n",
    "        # Filtrando o dataframe para a plataforma atual\n",
    "        mask = df_recent['platform'] == platform\n",
    "        platform_sales = df[mask]['total_sales']\n",
    "        \n",
    "        # Plotando o boxplot\n",
    "       \n",
    "        #fig, ax = plt.subplots()\n",
    "        sns.boxplot(x=platform_sales)\n",
    "        plt.title(f'Boxplot plataforma {platform}')\n",
    "        plt.xlabel('Total de vendas')\n",
    "        plt.show()\n"
   ]
  },
  {
   "cell_type": "markdown",
   "metadata": {},
   "source": [
    "**Relação entre avaliações de clientes e vendas**"
   ]
  },
  {
   "cell_type": "code",
   "execution_count": 68,
   "metadata": {},
   "outputs": [
    {
     "data": {
      "text/plain": [
       "'Identificamos a existência de 2.283 valores nulos somandos das colunas \"user_score\" e \"critic_score\". \\nComo este é um valor expressivo para o total da base, optamos por não deletar essas linhas nas demais análises,\\nmas para fins da avaliação da dispersão, especificamente, usaremos uma versão do dataframe sem elas.'"
      ]
     },
     "execution_count": 68,
     "metadata": {},
     "output_type": "execute_result"
    }
   ],
   "source": [
    "#Construa um gráfico de dispersão e calcule a correlação entre revisões e vendas\n",
    "#Plataforma X-One\n",
    "\n",
    "'''Identificamos a existência de 2.283 valores nulos somandos das colunas \"user_score\" e \"critic_score\". \n",
    "Como este é um valor expressivo para o total da base, optamos por não deletar essas linhas nas demais análises,\n",
    "mas para fins da avaliação da dispersão, especificamente, usaremos uma versão do dataframe sem elas.'''\n",
    "\n"
   ]
  },
  {
   "cell_type": "code",
   "execution_count": 69,
   "metadata": {},
   "outputs": [
    {
     "data": {
      "text/plain": [
       "critic_score    1242\n",
       "user_score      1041\n",
       "dtype: int64"
      ]
     },
     "execution_count": 69,
     "metadata": {},
     "output_type": "execute_result"
    }
   ],
   "source": [
    "df_recent[['critic_score', 'user_score']].isna().sum()"
   ]
  },
  {
   "cell_type": "code",
   "execution_count": 70,
   "metadata": {},
   "outputs": [
    {
     "data": {
      "text/plain": [
       "2283"
      ]
     },
     "execution_count": 70,
     "metadata": {},
     "output_type": "execute_result"
    }
   ],
   "source": [
    "1242+1041"
   ]
  },
  {
   "cell_type": "code",
   "execution_count": 71,
   "metadata": {},
   "outputs": [],
   "source": [
    "df_clean_score = df_recent.dropna(subset=['user_score', 'critic_score'])\n",
    "\n"
   ]
  },
  {
   "cell_type": "code",
   "execution_count": 72,
   "metadata": {},
   "outputs": [
    {
     "name": "stdout",
     "output_type": "stream",
     "text": [
      " O coeficiente de correlação entre a avaliação dos usuários e o total de vendas  por plataforma é de -0.019271206974723117\n"
     ]
    }
   ],
   "source": [
    "df_clean_score_user = df_clean_score['user_score'].corr(df_clean_score['total_sales'])\n",
    "\n",
    "print(f\" O coeficiente de correlação entre a avaliação dos usuários e o total de vendas  por plataforma é de {df_clean_score_user}\")"
   ]
  },
  {
   "cell_type": "code",
   "execution_count": 73,
   "metadata": {},
   "outputs": [
    {
     "name": "stdout",
     "output_type": "stream",
     "text": [
      " O coeficiente de correlação entre a avaliação dos críticos e o total de vendas da plataforma X360 é de 0.3432742802542166.\n",
      "\n",
      " O coeficiente de correlação entre a avaliação dos usuários e o total de vendas da plataforma X360 é de -0.007939092944318169.\n"
     ]
    }
   ],
   "source": [
    "#Tentativa de filtrar apenas as linhas com uma plataforma\n",
    "\n",
    "plat_x360_clean = df_clean_score[df_clean_score['platform'] == 'x360']\n",
    "\n",
    "correlacao_critics= plat_x360_clean['critic_score'].corr(plat_x360_clean['total_sales'])\n",
    "correlacao_users= plat_x360_clean['user_score'].corr(plat_x360_clean['total_sales'])\n",
    "\n",
    "print(f\" O coeficiente de correlação entre a avaliação dos críticos e o total de vendas da plataforma X360 é de {correlacao_critics}.\")\n",
    "print()\n",
    "print(f\" O coeficiente de correlação entre a avaliação dos usuários e o total de vendas da plataforma X360 é de {correlacao_users}.\")"
   ]
  },
  {
   "cell_type": "code",
   "execution_count": 74,
   "metadata": {},
   "outputs": [
    {
     "data": {
      "text/plain": [
       "<Axes: title={'center': 'Relação entre a nota dos críticos e a venda de jogos'}, xlabel='Notas dos críticos', ylabel='Total de vendas'>"
      ]
     },
     "execution_count": 74,
     "metadata": {},
     "output_type": "execute_result"
    },
    {
     "data": {
      "image/png": "[encoded data removed]",
      "text/plain": [
       "<Figure size 1600x400 with 2 Axes>"
      ]
     },
     "metadata": {},
     "output_type": "display_data"
    }
   ],
   "source": [
    "fig, ax = plt.subplots(1, 2, figsize=(16,4))\n",
    "\n",
    "plat_x360_clean.plot(ax=ax[0],\n",
    "                    x='user_score', \n",
    "                    y='total_sales', \n",
    "                    kind='scatter', \n",
    "                    alpha=0.5, \n",
    "                    xlabel='Notas dos usuários', \n",
    "                    ylabel='Total de vendas',\n",
    "                    title='Relação entre a nota dos usuários e a venda de jogos')\n",
    "                   \n",
    "\n",
    "plat_x360_clean.plot(ax=ax[1],\n",
    "                    x='critic_score', \n",
    "                    y='total_sales', \n",
    "                    kind='scatter', \n",
    "                    alpha=0.5, \n",
    "                    xlabel='Notas dos críticos', \n",
    "                    ylabel='Total de vendas',\n",
    "                    title='Relação entre a nota dos críticos e a venda de jogos')\n",
    "                    "
   ]
  },
  {
   "cell_type": "markdown",
   "metadata": {},
   "source": [
    "**Análise do gráfico dispersão**\n",
    "\n",
    "Ambos os gráficos exibem uma visualizaçao similar, em que há uma maior concentração de elementos à direita, onde das notas são maiores. Este comportamento demostra uma correlaçãp positiva entre as notas do usuários e críticos e as vendas de jogos. Em outras palavas, podemos dizer que há comprovação estatística de que os jogos melhor avaliados por usuários e críticas são mais vendidos dos que os possuem uma avaliação mais baixa. "
   ]
  },
  {
   "cell_type": "code",
   "execution_count": 75,
   "metadata": {},
   "outputs": [],
   "source": [
    "#Distribuição geral de jogos por gênero\n",
    "#Indicar gêneros mais lucraticos\n",
    "\n",
    "#Análise do volume de vendas por cada plataforma\n",
    "\n",
    "vendas_por_genero = df_recent.groupby('genre')[['genre','total_sales']].sum()\n",
    "vendas_por_genero = vendas_por_genero.sort_values(by='total_sales', ascending=False) "
   ]
  },
  {
   "cell_type": "code",
   "execution_count": 76,
   "metadata": {},
   "outputs": [
    {
     "data": {
      "image/png": "[encoded data removed]",
      "text/plain": [
       "<Figure size 640x480 with 1 Axes>"
      ]
     },
     "metadata": {},
     "output_type": "display_data"
    }
   ],
   "source": [
    "vendas_por_genero['total_sales'].plot(kind='bar', \n",
    "                                      title='Volume total de vendas por gênero', \n",
    "                                      xlabel='Gênero', \n",
    "                                      ylabel='Vendas (em milhões)')\n",
    "plt.show()"
   ]
  },
  {
   "cell_type": "markdown",
   "metadata": {},
   "source": [
    "**Distribuição dos valores por gênero dos jogos**\n",
    "\n",
    "Levando em consideração a premissa anterior que considerou as receitas anuais acima de 1.000 como as principais, poderíamos assumir avaliando o desempenho de vendas por genero que os jogos de ação são os mais lucrativos, pois são os únicos que superam (com uma margem consideravelmente alta) esse valor. No entanto, os jogos de tiro, de esportes e misc, também apresentam grande expressão nas vendas. Juntos, estes concentram a maior parte dos lucros obtidos."
   ]
  },
  {
   "cell_type": "markdown",
   "metadata": {},
   "source": [
    "# ETAPA 4 - Perfis de usuários"
   ]
  },
  {
   "cell_type": "code",
   "execution_count": 77,
   "metadata": {},
   "outputs": [
    {
     "data": {
      "text/html": [
       "<div>\n",
       "<style scoped>\n",
       "    .dataframe tbody tr th:only-of-type {\n",
       "        vertical-align: middle;\n",
       "    }\n",
       "\n",
       "    .dataframe tbody tr th {\n",
       "        vertical-align: top;\n",
       "    }\n",
       "\n",
       "    .dataframe thead th {\n",
       "        text-align: right;\n",
       "    }\n",
       "</style>\n",
       "<table border=\"1\" class=\"dataframe\">\n",
       "  <thead>\n",
       "    <tr style=\"text-align: right;\">\n",
       "      <th></th>\n",
       "      <th>name</th>\n",
       "      <th>platform</th>\n",
       "      <th>year_of_release</th>\n",
       "      <th>genre</th>\n",
       "      <th>na_sales</th>\n",
       "      <th>eu_sales</th>\n",
       "      <th>jp_sales</th>\n",
       "      <th>other_sales</th>\n",
       "      <th>critic_score</th>\n",
       "      <th>user_score</th>\n",
       "      <th>rating</th>\n",
       "      <th>total_sales</th>\n",
       "    </tr>\n",
       "  </thead>\n",
       "  <tbody>\n",
       "    <tr>\n",
       "      <th>16</th>\n",
       "      <td>grand theft auto v</td>\n",
       "      <td>ps3</td>\n",
       "      <td>2013</td>\n",
       "      <td>action</td>\n",
       "      <td>7.02</td>\n",
       "      <td>9.09</td>\n",
       "      <td>0.98</td>\n",
       "      <td>3.96</td>\n",
       "      <td>97.0</td>\n",
       "      <td>8.2</td>\n",
       "      <td>M</td>\n",
       "      <td>25.02</td>\n",
       "    </tr>\n",
       "    <tr>\n",
       "      <th>23</th>\n",
       "      <td>grand theft auto v</td>\n",
       "      <td>x360</td>\n",
       "      <td>2013</td>\n",
       "      <td>action</td>\n",
       "      <td>9.66</td>\n",
       "      <td>5.14</td>\n",
       "      <td>0.06</td>\n",
       "      <td>1.41</td>\n",
       "      <td>97.0</td>\n",
       "      <td>8.1</td>\n",
       "      <td>M</td>\n",
       "      <td>30.39</td>\n",
       "    </tr>\n",
       "    <tr>\n",
       "      <th>31</th>\n",
       "      <td>call of duty: black ops 3</td>\n",
       "      <td>ps4</td>\n",
       "      <td>2015</td>\n",
       "      <td>shooter</td>\n",
       "      <td>6.03</td>\n",
       "      <td>5.86</td>\n",
       "      <td>0.36</td>\n",
       "      <td>2.38</td>\n",
       "      <td>NaN</td>\n",
       "      <td>NaN</td>\n",
       "      <td>NaN</td>\n",
       "      <td>20.47</td>\n",
       "    </tr>\n",
       "    <tr>\n",
       "      <th>33</th>\n",
       "      <td>pokemon x/pokemon y</td>\n",
       "      <td>3ds</td>\n",
       "      <td>2013</td>\n",
       "      <td>role-playing</td>\n",
       "      <td>5.28</td>\n",
       "      <td>4.19</td>\n",
       "      <td>4.35</td>\n",
       "      <td>0.78</td>\n",
       "      <td>NaN</td>\n",
       "      <td>NaN</td>\n",
       "      <td>NaN</td>\n",
       "      <td>16.62</td>\n",
       "    </tr>\n",
       "    <tr>\n",
       "      <th>42</th>\n",
       "      <td>grand theft auto v</td>\n",
       "      <td>ps4</td>\n",
       "      <td>2014</td>\n",
       "      <td>action</td>\n",
       "      <td>3.96</td>\n",
       "      <td>6.31</td>\n",
       "      <td>0.38</td>\n",
       "      <td>1.97</td>\n",
       "      <td>97.0</td>\n",
       "      <td>8.3</td>\n",
       "      <td>M</td>\n",
       "      <td>13.85</td>\n",
       "    </tr>\n",
       "  </tbody>\n",
       "</table>\n",
       "</div>"
      ],
      "text/plain": [
       "                         name platform  year_of_release         genre  \\\n",
       "16         grand theft auto v      ps3             2013        action   \n",
       "23         grand theft auto v     x360             2013        action   \n",
       "31  call of duty: black ops 3      ps4             2015       shooter   \n",
       "33        pokemon x/pokemon y      3ds             2013  role-playing   \n",
       "42         grand theft auto v      ps4             2014        action   \n",
       "\n",
       "    na_sales  eu_sales  jp_sales  other_sales  critic_score  user_score  \\\n",
       "16      7.02      9.09      0.98         3.96          97.0         8.2   \n",
       "23      9.66      5.14      0.06         1.41          97.0         8.1   \n",
       "31      6.03      5.86      0.36         2.38           NaN         NaN   \n",
       "33      5.28      4.19      4.35         0.78           NaN         NaN   \n",
       "42      3.96      6.31      0.38         1.97          97.0         8.3   \n",
       "\n",
       "   rating  total_sales  \n",
       "16      M        25.02  \n",
       "23      M        30.39  \n",
       "31    NaN        20.47  \n",
       "33    NaN        16.62  \n",
       "42      M        13.85  "
      ]
     },
     "execution_count": 77,
     "metadata": {},
     "output_type": "execute_result"
    }
   ],
   "source": [
    "df_recent.head()"
   ]
  },
  {
   "cell_type": "code",
   "execution_count": 78,
   "metadata": {},
   "outputs": [],
   "source": [
    "#Determinando as principais platafomrmas da América do Norte\n",
    "\n",
    "df_na_sales = df_recent.groupby('platform')['na_sales'].sum().head()\n",
    "df_na_sales = df_na_sales.sort_values(ascending=False)"
   ]
  },
  {
   "cell_type": "code",
   "execution_count": 79,
   "metadata": {},
   "outputs": [],
   "source": [
    "#Determinando as principais platafomrmas da América do Norte\n",
    "\n",
    "df_eu_sales = df_recent.groupby('platform')['eu_sales'].sum().head()\n",
    "df_eu_sales = df_eu_sales.sort_values(ascending=False)"
   ]
  },
  {
   "cell_type": "code",
   "execution_count": 80,
   "metadata": {},
   "outputs": [],
   "source": [
    "#Determinando as principais platafomrmas da América do Norte\n",
    "\n",
    "df_jp_sales = df_recent.groupby('platform')['jp_sales'].sum().head()\n",
    "df_jp_sales = df_jp_sales.sort_values(ascending=False)"
   ]
  },
  {
   "cell_type": "code",
   "execution_count": 81,
   "metadata": {},
   "outputs": [
    {
     "data": {
      "text/plain": [
       "<Axes: title={'center': 'TOP 5 plataformas do Japão'}, xlabel='Plataformas', ylabel='Total de vendas'>"
      ]
     },
     "execution_count": 81,
     "metadata": {},
     "output_type": "execute_result"
    },
    {
     "data": {
      "image/png": "[encoded data removed]",
      "text/plain": [
       "<Figure size 1400x300 with 3 Axes>"
      ]
     },
     "metadata": {},
     "output_type": "display_data"
    }
   ],
   "source": [
    "fig, ax = plt.subplots(1,3, figsize=(14,3))\n",
    "\n",
    "df_na_sales.plot(   ax=ax[0],\n",
    "                    x='platform',\n",
    "                    y='total_sales', \n",
    "                    kind='bar', \n",
    "                    xlabel='Plataformas', \n",
    "                    ylabel='Total de vendas',\n",
    "                    title='TOP 5 plataformas da América do Norte',\n",
    "                    yticks=[0,50,100,150,200]\n",
    "                    )\n",
    "\n",
    "df_eu_sales.plot(   ax=ax[1],\n",
    "                    x='platform',\n",
    "                    y='total_sales', \n",
    "                    kind='bar', \n",
    "                    xlabel='Plataformas', \n",
    "                    ylabel='Total de vendas',\n",
    "                    title='TOP 5 plataformas da Europa',\n",
    "                    yticks=[0,50,100,150,200]\n",
    "                )\n",
    "\n",
    "df_jp_sales.plot(   ax=ax[2],\n",
    "                    x='platform',\n",
    "                    y='total_sales', \n",
    "                    kind='bar', \n",
    "                    xlabel='Plataformas', \n",
    "                    ylabel='Total de vendas',\n",
    "                    title='TOP 5 plataformas do Japão',\n",
    "                    yticks=[0,50,100,150,200]\n",
    "                )"
   ]
  },
  {
   "cell_type": "markdown",
   "metadata": {},
   "source": [
    "**Análise da vendas por região**\n",
    "\n",
    "Ao analisar o comportamento das vendas por região, constatamos que a América do Norte e a Europa tem um comportamento de vendas muito similar. Sendo o cenário que mais se diferencia o do Japão, que demonstra o menor volume de vendas e uma preferência diferente por plataformas.\n",
    "\n",
    "No que se refere às plataformas preferidas, a PS4 lidera com folga as vendas da América do Norte e Europa. No Japão, a mesma plataforma aparece apenas na terceira posição entre as mais vendidas. \n",
    "A PS3 aparece como segunda mais vendida nas três regiões. A PC, só aparece com algum destaque na América do Norte e Europa, mas não apresenta vendas expressivas no Japão.  \n",
    "\n"
   ]
  },
  {
   "cell_type": "markdown",
   "metadata": {},
   "source": [
    "# ETAPA 5 - Teste de hipóteses"
   ]
  },
  {
   "cell_type": "code",
   "execution_count": 82,
   "metadata": {},
   "outputs": [
    {
     "name": "stdout",
     "output_type": "stream",
     "text": [
      "Variância do Xbox One: 1.7855118457300279\n",
      "Variância do PC: 2.912631026296567\n",
      "\n",
      "\n",
      "valor-p:  0.17882648263401307\n",
      "Não podemos rejeitar a hipótese nula\n"
     ]
    }
   ],
   "source": [
    "#Igualdade da média de avaliação das plataformas Xbox One e PC são as mesmas\n",
    "\n",
    "\n",
    "'''Para testar a média entre as duas populações deve ser usado o st.ttest. \n",
    "Por padrão covencionado pela área estatística, será utilizado 0,05% como índice de significância estatística.\n",
    "\n",
    "Hipótese Nula  (Ho): As médias de avaliação dos usuários das plataformas XBox One e PC são iguais.\n",
    "\n",
    "Hipótese Alternativa (H1): As médias de avaliação dos usuários das plataformas XBox One e PC não são iguais.\n",
    "'''\n",
    "score_xone = df_clean_score[df_clean_score['platform'] == 'xone']\n",
    "score_xone = score_xone['user_score'].tolist()\n",
    "\n",
    "score_pc = df_clean_score[df_clean_score['platform'] == 'pc']\n",
    "score_pc = score_pc['user_score'].tolist()\n",
    "\n",
    "alpha = 0.05  # nível crítico de significância estatística\n",
    "\n",
    "\n",
    "var_xone = np.var(score_xone)\n",
    "var_pc = np.var(score_pc)\n",
    "\n",
    "print(f\"Variância do Xbox One: {var_xone}\")\n",
    "print(f\"Variância do PC: {var_pc}\")\n",
    "print()\n",
    "print()\n",
    "\n",
    "\n",
    "results = st.ttest_ind(score_xone, score_pc, equal_var=False)\n",
    "\n",
    "print('valor-p: ', results.pvalue) # extraindo o valor-p\n",
    "\n",
    "if results.pvalue < alpha: # comparando o valor-p com o limiar\n",
    "    print(\"Rejeitamos a hipótese nula\")\n",
    "else:\n",
    "    print(\"Não podemos rejeitar a hipótese nula\")"
   ]
  },
  {
   "cell_type": "markdown",
   "metadata": {},
   "source": [
    "**Análise sobre a igualdade de médias de avaliação das plataformas XBox One e PC**\n",
    "\n",
    "O resultado obtido pelo p-valor não nos permite afirmar que existe uma diferença significativa entre as médias de avaliação das plataformas XBox One e PC. \n"
   ]
  },
  {
   "cell_type": "code",
   "execution_count": 84,
   "metadata": {},
   "outputs": [
    {
     "name": "stdout",
     "output_type": "stream",
     "text": [
      "Variância action games : 1.640886878017616\n",
      "Variância sport games: 2.1122611570247933\n",
      "\n",
      "\n",
      "valor-p:  1.0496920005008588e-13\n",
      "Rejeitamos a hipótese nula\n"
     ]
    }
   ],
   "source": [
    "# Teste para verificar se as classificações médias de usuários para os gêneros Action (ação) e Sports (esportes) são diferentes.\n",
    "'''Para testar a média entre as duas populações deve ser usado o st.ttest. \n",
    "Por padrão covencionado pela área estatística, será utilizado 0,05% como índice de significância estatística.\n",
    "\n",
    "Hipótese Nula: Não há diferença nas classificações médias dos gêneros ação e esportes.\n",
    "\n",
    "Hipótese Alternativa: Existe diferença nas classificações médias dos gêneros ação e esportes.\n",
    "'''\n",
    "score_action = df_clean_score[df_clean_score['genre'] == 'action']\n",
    "score_action = score_action['user_score'].tolist()\n",
    "\n",
    "score_sports = df_clean_score[df_clean_score['genre'] == 'sports']\n",
    "score_sports = score_sports['user_score'].tolist()\n",
    "\n",
    "alpha = 0.05  # nível crítico de significância estatística\n",
    "\n",
    "var_action = np.var(score_action)\n",
    "var_sports = np.var(score_sports)\n",
    "\n",
    "print(f\"Variância action games : {var_action}\")\n",
    "print(f\"Variância sport games: {var_sports}\")\n",
    "print()\n",
    "print()\n",
    "    \n",
    "    \n",
    "results = st.ttest_ind(score_action, score_sports, equal_var = False)\n",
    "\n",
    "print('valor-p: ', results.pvalue) # extraindo o valor-p\n",
    "\n",
    "if results.pvalue < alpha: # comparando o valor-p com o limiar\n",
    "        print(\"Rejeitamos a hipótese nula\")\n",
    "else:\n",
    "        print(\"Não podemos rejeitar a hipótese nula\")"
   ]
  },
  {
   "cell_type": "markdown",
   "metadata": {},
   "source": [
    "**Análise sobre a igualdade de médias de avaliação dos gêneros ação e esportes**\n",
    "\n",
    "Neste teste, o baixo p-valor resultou na rejeição da hipótese nula, o que indica que a diferença na média  de avaliação entre os jogos dos gêneros ação e esportes é estatisticamente significativa. Portanto, as avaliações médias dos jogos desses dois gêneros são significativamente diferentes."
   ]
  }
 ],
 "metadata": {
  "ExecuteTimeLog": [
   {
    "duration": 347,
    "start_time": "2024-09-26T00:50:36.567Z"
   },
   {
    "duration": 5,
    "start_time": "2024-09-26T00:52:03.261Z"
   },
   {
    "duration": 2461,
    "start_time": "2024-09-30T21:41:38.964Z"
   },
   {
    "duration": 39,
    "start_time": "2024-09-30T21:43:11.962Z"
   },
   {
    "duration": 121,
    "start_time": "2024-09-30T21:45:12.113Z"
   },
   {
    "duration": 11,
    "start_time": "2024-09-30T21:45:20.725Z"
   },
   {
    "duration": 126,
    "start_time": "2024-09-30T21:45:35.400Z"
   },
   {
    "duration": 12,
    "start_time": "2024-09-30T21:47:26.539Z"
   },
   {
    "duration": 5,
    "start_time": "2024-09-30T21:48:57.566Z"
   },
   {
    "duration": 4,
    "start_time": "2024-09-30T21:49:20.465Z"
   },
   {
    "duration": 2,
    "start_time": "2024-09-30T21:49:55.973Z"
   },
   {
    "duration": 12,
    "start_time": "2024-09-30T21:50:29.092Z"
   },
   {
    "duration": 19,
    "start_time": "2024-09-30T21:51:07.545Z"
   },
   {
    "duration": 23,
    "start_time": "2024-09-30T21:56:24.281Z"
   },
   {
    "duration": 3,
    "start_time": "2024-09-30T21:56:27.449Z"
   },
   {
    "duration": 24,
    "start_time": "2024-09-30T21:56:36.306Z"
   },
   {
    "duration": 415,
    "start_time": "2024-09-30T21:56:51.581Z"
   },
   {
    "duration": 43,
    "start_time": "2024-09-30T21:58:06.182Z"
   },
   {
    "duration": 13,
    "start_time": "2024-09-30T22:00:47.595Z"
   },
   {
    "duration": 13,
    "start_time": "2024-09-30T22:01:12.567Z"
   },
   {
    "duration": 12,
    "start_time": "2024-09-30T22:01:30.169Z"
   },
   {
    "duration": 4,
    "start_time": "2024-09-30T22:01:42.494Z"
   },
   {
    "duration": 3,
    "start_time": "2024-09-30T22:02:00.935Z"
   },
   {
    "duration": 39,
    "start_time": "2024-09-30T22:02:14.674Z"
   },
   {
    "duration": 41,
    "start_time": "2024-09-30T22:04:57.741Z"
   },
   {
    "duration": 17,
    "start_time": "2024-09-30T22:05:20.521Z"
   },
   {
    "duration": 832,
    "start_time": "2024-09-30T22:06:12.819Z"
   },
   {
    "duration": 23,
    "start_time": "2024-09-30T22:06:16.462Z"
   },
   {
    "duration": 271,
    "start_time": "2024-09-30T22:06:27.697Z"
   },
   {
    "duration": 4,
    "start_time": "2024-09-30T22:06:36.631Z"
   },
   {
    "duration": 3,
    "start_time": "2024-09-30T22:06:53.767Z"
   },
   {
    "duration": 13,
    "start_time": "2024-09-30T22:07:06.244Z"
   },
   {
    "duration": 22,
    "start_time": "2024-09-30T22:07:16.325Z"
   },
   {
    "duration": 4,
    "start_time": "2024-09-30T22:07:32.146Z"
   },
   {
    "duration": 4,
    "start_time": "2024-09-30T22:09:00.935Z"
   },
   {
    "duration": 523,
    "start_time": "2024-09-30T22:12:36.990Z"
   },
   {
    "duration": 6,
    "start_time": "2024-09-30T22:17:34.271Z"
   },
   {
    "duration": 4,
    "start_time": "2024-09-30T22:17:41.497Z"
   },
   {
    "duration": 3,
    "start_time": "2024-09-30T22:32:37.159Z"
   },
   {
    "duration": 28,
    "start_time": "2024-09-30T22:33:00.772Z"
   },
   {
    "duration": 4,
    "start_time": "2024-09-30T22:33:29.240Z"
   },
   {
    "duration": 3,
    "start_time": "2024-09-30T22:33:37.187Z"
   },
   {
    "duration": 4,
    "start_time": "2024-09-30T22:33:52.074Z"
   },
   {
    "duration": 3,
    "start_time": "2024-09-30T22:34:05.634Z"
   },
   {
    "duration": 17,
    "start_time": "2024-09-30T22:34:22.108Z"
   },
   {
    "duration": 249,
    "start_time": "2024-09-30T22:34:29.278Z"
   },
   {
    "duration": 18,
    "start_time": "2024-09-30T22:34:38.874Z"
   },
   {
    "duration": 272,
    "start_time": "2024-09-30T22:34:59.759Z"
   },
   {
    "duration": 326,
    "start_time": "2024-09-30T22:36:20.356Z"
   },
   {
    "duration": 40,
    "start_time": "2024-09-30T22:36:45.036Z"
   },
   {
    "duration": 157,
    "start_time": "2024-10-01T21:43:09.071Z"
   },
   {
    "duration": 2533,
    "start_time": "2024-10-01T21:43:25.489Z"
   },
   {
    "duration": 43,
    "start_time": "2024-10-01T21:43:28.024Z"
   },
   {
    "duration": 3,
    "start_time": "2024-10-01T21:43:28.069Z"
   },
   {
    "duration": 299,
    "start_time": "2024-10-01T21:43:28.074Z"
   },
   {
    "duration": 0,
    "start_time": "2024-10-01T21:43:28.375Z"
   },
   {
    "duration": 0,
    "start_time": "2024-10-01T21:43:28.376Z"
   },
   {
    "duration": 0,
    "start_time": "2024-10-01T21:43:28.378Z"
   },
   {
    "duration": 0,
    "start_time": "2024-10-01T21:43:28.379Z"
   },
   {
    "duration": 0,
    "start_time": "2024-10-01T21:43:28.381Z"
   },
   {
    "duration": 6,
    "start_time": "2024-10-01T21:43:43.547Z"
   },
   {
    "duration": 4,
    "start_time": "2024-10-01T21:43:52.296Z"
   },
   {
    "duration": 21,
    "start_time": "2024-10-01T21:43:52.303Z"
   },
   {
    "duration": 5,
    "start_time": "2024-10-01T21:43:52.326Z"
   },
   {
    "duration": 4,
    "start_time": "2024-10-01T21:43:52.332Z"
   },
   {
    "duration": 401,
    "start_time": "2024-10-01T21:43:52.337Z"
   },
   {
    "duration": 0,
    "start_time": "2024-10-01T21:43:52.740Z"
   },
   {
    "duration": 140,
    "start_time": "2024-10-01T21:44:38.613Z"
   },
   {
    "duration": 4,
    "start_time": "2024-10-01T21:45:24.464Z"
   },
   {
    "duration": 7,
    "start_time": "2024-10-01T21:45:33.323Z"
   },
   {
    "duration": 4,
    "start_time": "2024-10-01T21:45:48.317Z"
   },
   {
    "duration": 118,
    "start_time": "2024-10-01T21:45:53.321Z"
   },
   {
    "duration": 10,
    "start_time": "2024-10-01T21:46:28.364Z"
   },
   {
    "duration": 4,
    "start_time": "2024-10-01T21:51:51.286Z"
   },
   {
    "duration": 11,
    "start_time": "2024-10-01T21:55:44.469Z"
   },
   {
    "duration": 16,
    "start_time": "2024-10-01T21:56:32.849Z"
   },
   {
    "duration": 3,
    "start_time": "2024-10-01T21:58:01.665Z"
   },
   {
    "duration": 50,
    "start_time": "2024-10-01T21:58:09.911Z"
   },
   {
    "duration": 47,
    "start_time": "2024-10-01T21:58:46.923Z"
   },
   {
    "duration": 5,
    "start_time": "2024-10-01T21:59:19.884Z"
   },
   {
    "duration": 5,
    "start_time": "2024-10-01T21:59:32.251Z"
   },
   {
    "duration": 840,
    "start_time": "2024-10-01T22:00:44.361Z"
   },
   {
    "duration": 24,
    "start_time": "2024-10-01T22:00:45.203Z"
   },
   {
    "duration": 3,
    "start_time": "2024-10-01T22:00:45.229Z"
   },
   {
    "duration": 5,
    "start_time": "2024-10-01T22:00:45.243Z"
   },
   {
    "duration": 21,
    "start_time": "2024-10-01T22:00:45.249Z"
   },
   {
    "duration": 5,
    "start_time": "2024-10-01T22:00:45.272Z"
   },
   {
    "duration": 9,
    "start_time": "2024-10-01T22:00:45.279Z"
   },
   {
    "duration": 4,
    "start_time": "2024-10-01T22:00:45.289Z"
   },
   {
    "duration": 49,
    "start_time": "2024-10-01T22:00:45.295Z"
   },
   {
    "duration": 829,
    "start_time": "2024-10-01T22:00:45.347Z"
   },
   {
    "duration": 47,
    "start_time": "2024-10-01T22:03:38.703Z"
   },
   {
    "duration": 48,
    "start_time": "2024-10-01T22:05:47.864Z"
   },
   {
    "duration": 5,
    "start_time": "2024-10-01T22:13:07.537Z"
   },
   {
    "duration": 4,
    "start_time": "2024-10-01T22:14:45.222Z"
   },
   {
    "duration": 23,
    "start_time": "2024-10-01T22:14:58.150Z"
   },
   {
    "duration": 4,
    "start_time": "2024-10-01T22:19:59.258Z"
   },
   {
    "duration": 6,
    "start_time": "2024-10-01T22:20:37.748Z"
   },
   {
    "duration": 5,
    "start_time": "2024-10-01T22:23:31.194Z"
   },
   {
    "duration": 5,
    "start_time": "2024-10-01T22:26:36.077Z"
   },
   {
    "duration": 12,
    "start_time": "2024-10-01T23:49:00.360Z"
   },
   {
    "duration": 13,
    "start_time": "2024-10-01T23:49:18.430Z"
   },
   {
    "duration": 12,
    "start_time": "2024-10-01T23:49:27.865Z"
   },
   {
    "duration": 4,
    "start_time": "2024-10-01T23:51:50.413Z"
   },
   {
    "duration": 12,
    "start_time": "2024-10-01T23:52:06.257Z"
   },
   {
    "duration": 6,
    "start_time": "2024-10-01T23:54:25.146Z"
   },
   {
    "duration": 5,
    "start_time": "2024-10-02T00:00:23.364Z"
   },
   {
    "duration": 13,
    "start_time": "2024-10-02T00:02:41.460Z"
   },
   {
    "duration": 5,
    "start_time": "2024-10-02T00:03:25.845Z"
   },
   {
    "duration": 6,
    "start_time": "2024-10-02T00:05:31.937Z"
   },
   {
    "duration": 6,
    "start_time": "2024-10-02T00:05:34.520Z"
   },
   {
    "duration": 6,
    "start_time": "2024-10-02T00:06:04.342Z"
   },
   {
    "duration": 4,
    "start_time": "2024-10-02T00:06:16.158Z"
   },
   {
    "duration": 7,
    "start_time": "2024-10-02T00:06:20.369Z"
   },
   {
    "duration": 6,
    "start_time": "2024-10-02T00:07:20.557Z"
   },
   {
    "duration": 7,
    "start_time": "2024-10-02T00:07:49.142Z"
   },
   {
    "duration": 4,
    "start_time": "2024-10-02T00:12:34.881Z"
   },
   {
    "duration": 4,
    "start_time": "2024-10-02T00:13:06.934Z"
   },
   {
    "duration": 3,
    "start_time": "2024-10-02T00:13:18.119Z"
   },
   {
    "duration": 5,
    "start_time": "2024-10-02T00:14:26.663Z"
   },
   {
    "duration": 14,
    "start_time": "2024-10-02T00:17:55.012Z"
   },
   {
    "duration": 14,
    "start_time": "2024-10-02T00:18:38.759Z"
   },
   {
    "duration": 6,
    "start_time": "2024-10-02T00:19:47.500Z"
   },
   {
    "duration": 5,
    "start_time": "2024-10-02T00:19:59.139Z"
   },
   {
    "duration": 3,
    "start_time": "2024-10-02T00:20:26.535Z"
   },
   {
    "duration": 5,
    "start_time": "2024-10-02T00:21:04.103Z"
   },
   {
    "duration": 4,
    "start_time": "2024-10-02T00:22:19.929Z"
   },
   {
    "duration": 5,
    "start_time": "2024-10-02T00:24:00.800Z"
   },
   {
    "duration": 4,
    "start_time": "2024-10-02T00:24:09.549Z"
   },
   {
    "duration": 5,
    "start_time": "2024-10-02T00:24:27.023Z"
   },
   {
    "duration": 5,
    "start_time": "2024-10-02T00:24:39.956Z"
   },
   {
    "duration": 17,
    "start_time": "2024-10-02T00:30:59.176Z"
   },
   {
    "duration": 6,
    "start_time": "2024-10-02T00:31:07.774Z"
   },
   {
    "duration": 8,
    "start_time": "2024-10-02T00:32:28.238Z"
   },
   {
    "duration": 15,
    "start_time": "2024-10-02T00:32:58.120Z"
   },
   {
    "duration": 8,
    "start_time": "2024-10-02T00:36:33.322Z"
   },
   {
    "duration": 10,
    "start_time": "2024-10-02T00:36:52.692Z"
   },
   {
    "duration": 9,
    "start_time": "2024-10-02T00:37:09.387Z"
   },
   {
    "duration": 19,
    "start_time": "2024-10-02T00:39:16.221Z"
   },
   {
    "duration": 13,
    "start_time": "2024-10-02T00:39:59.441Z"
   },
   {
    "duration": 11,
    "start_time": "2024-10-02T00:40:25.151Z"
   },
   {
    "duration": 40,
    "start_time": "2024-10-02T00:41:01.578Z"
   },
   {
    "duration": 11,
    "start_time": "2024-10-02T00:41:33.344Z"
   },
   {
    "duration": 78,
    "start_time": "2024-10-02T00:41:49.627Z"
   },
   {
    "duration": 8,
    "start_time": "2024-10-02T21:56:58.109Z"
   },
   {
    "duration": 3,
    "start_time": "2024-10-02T21:57:04.017Z"
   },
   {
    "duration": 150,
    "start_time": "2024-10-02T21:57:08.708Z"
   },
   {
    "duration": 2514,
    "start_time": "2024-10-02T21:57:27.417Z"
   },
   {
    "duration": 45,
    "start_time": "2024-10-02T21:57:29.933Z"
   },
   {
    "duration": 3,
    "start_time": "2024-10-02T21:57:29.980Z"
   },
   {
    "duration": 5,
    "start_time": "2024-10-02T21:57:29.985Z"
   },
   {
    "duration": 29,
    "start_time": "2024-10-02T21:57:29.992Z"
   },
   {
    "duration": 6,
    "start_time": "2024-10-02T21:57:30.024Z"
   },
   {
    "duration": 9,
    "start_time": "2024-10-02T21:57:30.031Z"
   },
   {
    "duration": 3,
    "start_time": "2024-10-02T21:57:30.042Z"
   },
   {
    "duration": 3,
    "start_time": "2024-10-02T21:57:30.046Z"
   },
   {
    "duration": 14,
    "start_time": "2024-10-02T21:57:30.051Z"
   },
   {
    "duration": 4,
    "start_time": "2024-10-02T21:57:30.067Z"
   },
   {
    "duration": 48,
    "start_time": "2024-10-02T21:57:30.072Z"
   },
   {
    "duration": 4,
    "start_time": "2024-10-02T21:57:30.121Z"
   },
   {
    "duration": 3,
    "start_time": "2024-10-02T21:57:30.128Z"
   },
   {
    "duration": 615,
    "start_time": "2024-10-02T21:57:30.132Z"
   },
   {
    "duration": 4,
    "start_time": "2024-10-02T21:57:41.396Z"
   },
   {
    "duration": 10,
    "start_time": "2024-10-02T21:57:58.994Z"
   },
   {
    "duration": 10,
    "start_time": "2024-10-02T21:58:14.755Z"
   },
   {
    "duration": 5,
    "start_time": "2024-10-02T21:59:45.743Z"
   },
   {
    "duration": 3,
    "start_time": "2024-10-02T22:01:36.129Z"
   },
   {
    "duration": 13,
    "start_time": "2024-10-02T22:01:47.599Z"
   },
   {
    "duration": 4,
    "start_time": "2024-10-02T22:01:53.975Z"
   },
   {
    "duration": 3,
    "start_time": "2024-10-02T22:01:58.310Z"
   },
   {
    "duration": 8,
    "start_time": "2024-10-02T22:02:04.242Z"
   },
   {
    "duration": 18,
    "start_time": "2024-10-02T22:02:32.095Z"
   },
   {
    "duration": 8,
    "start_time": "2024-10-02T22:02:48.719Z"
   },
   {
    "duration": 9,
    "start_time": "2024-10-02T22:03:11.980Z"
   },
   {
    "duration": 8,
    "start_time": "2024-10-02T22:03:33.641Z"
   },
   {
    "duration": 4,
    "start_time": "2024-10-02T22:21:09.306Z"
   },
   {
    "duration": 4,
    "start_time": "2024-10-02T22:21:13.196Z"
   },
   {
    "duration": 6,
    "start_time": "2024-10-02T22:32:57.006Z"
   },
   {
    "duration": 4,
    "start_time": "2024-10-02T22:33:25.296Z"
   },
   {
    "duration": 16,
    "start_time": "2024-10-02T22:42:36.155Z"
   },
   {
    "duration": 18,
    "start_time": "2024-10-02T22:53:57.207Z"
   },
   {
    "duration": 220,
    "start_time": "2024-10-02T22:54:06.496Z"
   },
   {
    "duration": 14,
    "start_time": "2024-10-02T22:54:28.394Z"
   },
   {
    "duration": 6,
    "start_time": "2024-10-02T22:54:41.429Z"
   },
   {
    "duration": 49,
    "start_time": "2024-10-02T22:55:21.810Z"
   },
   {
    "duration": 33,
    "start_time": "2024-10-02T22:55:30.470Z"
   },
   {
    "duration": 19,
    "start_time": "2024-10-02T22:56:15.603Z"
   },
   {
    "duration": 25,
    "start_time": "2024-10-02T22:56:24.727Z"
   },
   {
    "duration": 5,
    "start_time": "2024-10-02T22:56:30.406Z"
   },
   {
    "duration": 18,
    "start_time": "2024-10-02T22:56:55.994Z"
   },
   {
    "duration": 20,
    "start_time": "2024-10-02T22:57:34.275Z"
   },
   {
    "duration": 354,
    "start_time": "2024-10-02T22:57:41.368Z"
   },
   {
    "duration": 3,
    "start_time": "2024-10-02T22:57:48.533Z"
   },
   {
    "duration": 4,
    "start_time": "2024-10-02T22:57:53.022Z"
   },
   {
    "duration": 3,
    "start_time": "2024-10-02T22:58:10.203Z"
   },
   {
    "duration": 18,
    "start_time": "2024-10-02T22:58:41.737Z"
   },
   {
    "duration": 174,
    "start_time": "2024-10-02T22:59:06.989Z"
   },
   {
    "duration": 158,
    "start_time": "2024-10-02T22:59:25.794Z"
   },
   {
    "duration": 6,
    "start_time": "2024-10-02T22:59:35.385Z"
   },
   {
    "duration": 4,
    "start_time": "2024-10-02T22:59:38.125Z"
   },
   {
    "duration": 17,
    "start_time": "2024-10-02T23:01:10.886Z"
   },
   {
    "duration": 7,
    "start_time": "2024-10-02T23:01:21.889Z"
   },
   {
    "duration": 5,
    "start_time": "2024-10-02T23:01:28.199Z"
   },
   {
    "duration": 7,
    "start_time": "2024-10-02T23:01:41.463Z"
   },
   {
    "duration": 5,
    "start_time": "2024-10-02T23:01:45.047Z"
   },
   {
    "duration": 9,
    "start_time": "2024-10-02T23:01:54.228Z"
   },
   {
    "duration": 4,
    "start_time": "2024-10-02T23:01:57.411Z"
   },
   {
    "duration": 7,
    "start_time": "2024-10-02T23:02:31.856Z"
   },
   {
    "duration": 4,
    "start_time": "2024-10-02T23:02:35.985Z"
   },
   {
    "duration": 7,
    "start_time": "2024-10-02T23:08:06.501Z"
   },
   {
    "duration": 4,
    "start_time": "2024-10-02T23:08:10.278Z"
   },
   {
    "duration": 14,
    "start_time": "2024-10-02T23:10:17.711Z"
   },
   {
    "duration": 4,
    "start_time": "2024-10-02T23:10:22.754Z"
   },
   {
    "duration": 17,
    "start_time": "2024-10-02T23:10:26.749Z"
   },
   {
    "duration": 4,
    "start_time": "2024-10-02T23:10:39.375Z"
   },
   {
    "duration": 41,
    "start_time": "2024-10-02T23:11:49.371Z"
   },
   {
    "duration": 7,
    "start_time": "2024-10-02T23:12:05.305Z"
   },
   {
    "duration": 4,
    "start_time": "2024-10-02T23:12:09.095Z"
   },
   {
    "duration": 181,
    "start_time": "2024-10-02T23:15:54.576Z"
   },
   {
    "duration": 59,
    "start_time": "2024-10-02T23:16:31.068Z"
   },
   {
    "duration": 43,
    "start_time": "2024-10-02T23:16:58.949Z"
   },
   {
    "duration": 149,
    "start_time": "2024-10-02T23:17:16.509Z"
   },
   {
    "duration": 793,
    "start_time": "2024-10-02T23:17:39.466Z"
   },
   {
    "duration": 25,
    "start_time": "2024-10-02T23:17:40.261Z"
   },
   {
    "duration": 2,
    "start_time": "2024-10-02T23:17:40.288Z"
   },
   {
    "duration": 19,
    "start_time": "2024-10-02T23:17:40.293Z"
   },
   {
    "duration": 19,
    "start_time": "2024-10-02T23:17:40.314Z"
   },
   {
    "duration": 6,
    "start_time": "2024-10-02T23:17:40.335Z"
   },
   {
    "duration": 10,
    "start_time": "2024-10-02T23:17:40.342Z"
   },
   {
    "duration": 3,
    "start_time": "2024-10-02T23:17:40.354Z"
   },
   {
    "duration": 3,
    "start_time": "2024-10-02T23:17:40.359Z"
   },
   {
    "duration": 48,
    "start_time": "2024-10-02T23:17:40.365Z"
   },
   {
    "duration": 4,
    "start_time": "2024-10-02T23:17:40.414Z"
   },
   {
    "duration": 10,
    "start_time": "2024-10-02T23:17:40.421Z"
   },
   {
    "duration": 5,
    "start_time": "2024-10-02T23:17:40.432Z"
   },
   {
    "duration": 3,
    "start_time": "2024-10-02T23:17:40.439Z"
   },
   {
    "duration": 9,
    "start_time": "2024-10-02T23:17:40.444Z"
   },
   {
    "duration": 4,
    "start_time": "2024-10-02T23:17:40.454Z"
   },
   {
    "duration": 12,
    "start_time": "2024-10-02T23:17:40.460Z"
   },
   {
    "duration": 5,
    "start_time": "2024-10-02T23:17:40.511Z"
   },
   {
    "duration": 4,
    "start_time": "2024-10-02T23:17:40.518Z"
   },
   {
    "duration": 911,
    "start_time": "2024-10-02T23:17:40.524Z"
   },
   {
    "duration": 5,
    "start_time": "2024-10-02T23:18:21.495Z"
   },
   {
    "duration": 18,
    "start_time": "2024-10-02T23:18:27.893Z"
   },
   {
    "duration": 4,
    "start_time": "2024-10-02T23:18:27.913Z"
   },
   {
    "duration": 11,
    "start_time": "2024-10-02T23:18:27.919Z"
   },
   {
    "duration": 4,
    "start_time": "2024-10-02T23:18:27.932Z"
   },
   {
    "duration": 3,
    "start_time": "2024-10-02T23:18:27.938Z"
   },
   {
    "duration": 8,
    "start_time": "2024-10-02T23:18:27.943Z"
   },
   {
    "duration": 3,
    "start_time": "2024-10-02T23:18:27.953Z"
   },
   {
    "duration": 13,
    "start_time": "2024-10-02T23:18:27.958Z"
   },
   {
    "duration": 5,
    "start_time": "2024-10-02T23:18:27.972Z"
   },
   {
    "duration": 34,
    "start_time": "2024-10-02T23:18:27.979Z"
   },
   {
    "duration": 161,
    "start_time": "2024-10-02T23:18:28.015Z"
   },
   {
    "duration": 181,
    "start_time": "2024-10-03T00:20:23.602Z"
   },
   {
    "duration": 161,
    "start_time": "2024-10-03T00:21:22.007Z"
   },
   {
    "duration": 158,
    "start_time": "2024-10-03T00:22:13.060Z"
   },
   {
    "duration": 3,
    "start_time": "2024-10-03T00:23:37.064Z"
   },
   {
    "duration": 152,
    "start_time": "2024-10-03T00:24:14.931Z"
   },
   {
    "duration": 143,
    "start_time": "2024-10-03T00:24:51.714Z"
   },
   {
    "duration": 16,
    "start_time": "2024-10-03T00:25:39.875Z"
   },
   {
    "duration": 6,
    "start_time": "2024-10-03T00:25:43.058Z"
   },
   {
    "duration": 4,
    "start_time": "2024-10-03T00:25:44.981Z"
   },
   {
    "duration": 3,
    "start_time": "2024-10-03T00:30:10.995Z"
   },
   {
    "duration": 7,
    "start_time": "2024-10-03T00:30:17.978Z"
   },
   {
    "duration": 6,
    "start_time": "2024-10-03T00:30:20.970Z"
   },
   {
    "duration": 132,
    "start_time": "2024-10-03T00:32:44.613Z"
   },
   {
    "duration": 35,
    "start_time": "2024-10-03T00:33:04.811Z"
   },
   {
    "duration": 7,
    "start_time": "2024-10-03T00:35:03.368Z"
   },
   {
    "duration": 16,
    "start_time": "2024-10-03T00:36:01.569Z"
   },
   {
    "duration": 6,
    "start_time": "2024-10-03T00:36:44.591Z"
   },
   {
    "duration": 6,
    "start_time": "2024-10-03T00:36:46.388Z"
   },
   {
    "duration": 14,
    "start_time": "2024-10-03T00:46:17.104Z"
   },
   {
    "duration": 6,
    "start_time": "2024-10-03T00:46:24.078Z"
   },
   {
    "duration": 3,
    "start_time": "2024-10-03T00:47:17.364Z"
   },
   {
    "duration": 7,
    "start_time": "2024-10-03T00:47:24.234Z"
   },
   {
    "duration": 6,
    "start_time": "2024-10-03T00:47:33.599Z"
   },
   {
    "duration": 5,
    "start_time": "2024-10-03T00:47:38.178Z"
   },
   {
    "duration": 7,
    "start_time": "2024-10-03T00:47:56.850Z"
   },
   {
    "duration": 6,
    "start_time": "2024-10-03T00:48:01.322Z"
   },
   {
    "duration": 2,
    "start_time": "2024-10-03T00:54:31.631Z"
   },
   {
    "duration": 16,
    "start_time": "2024-10-03T00:54:54.182Z"
   },
   {
    "duration": 45,
    "start_time": "2024-10-03T00:56:21.408Z"
   },
   {
    "duration": 3,
    "start_time": "2024-10-03T00:57:12.429Z"
   },
   {
    "duration": 4,
    "start_time": "2024-10-03T00:57:23.741Z"
   },
   {
    "duration": 3,
    "start_time": "2024-10-03T00:57:48.504Z"
   },
   {
    "duration": 13,
    "start_time": "2024-10-03T00:58:08.318Z"
   },
   {
    "duration": 14,
    "start_time": "2024-10-03T00:58:15.694Z"
   },
   {
    "duration": 18,
    "start_time": "2024-10-03T00:58:26.120Z"
   },
   {
    "duration": 159,
    "start_time": "2024-10-03T01:26:59.521Z"
   },
   {
    "duration": 2669,
    "start_time": "2024-10-03T01:27:09.381Z"
   },
   {
    "duration": 46,
    "start_time": "2024-10-03T01:27:12.052Z"
   },
   {
    "duration": 3,
    "start_time": "2024-10-03T01:27:12.101Z"
   },
   {
    "duration": 5,
    "start_time": "2024-10-03T01:27:12.107Z"
   },
   {
    "duration": 28,
    "start_time": "2024-10-03T01:27:12.114Z"
   },
   {
    "duration": 8,
    "start_time": "2024-10-03T01:27:12.144Z"
   },
   {
    "duration": 10,
    "start_time": "2024-10-03T01:27:12.154Z"
   },
   {
    "duration": 4,
    "start_time": "2024-10-03T01:27:12.165Z"
   },
   {
    "duration": 4,
    "start_time": "2024-10-03T01:27:12.170Z"
   },
   {
    "duration": 16,
    "start_time": "2024-10-03T01:27:12.178Z"
   },
   {
    "duration": 36,
    "start_time": "2024-10-03T01:27:12.196Z"
   },
   {
    "duration": 12,
    "start_time": "2024-10-03T01:27:12.234Z"
   },
   {
    "duration": 4,
    "start_time": "2024-10-03T01:27:12.248Z"
   },
   {
    "duration": 3,
    "start_time": "2024-10-03T01:27:12.254Z"
   },
   {
    "duration": 8,
    "start_time": "2024-10-03T01:27:12.258Z"
   },
   {
    "duration": 4,
    "start_time": "2024-10-03T01:27:12.268Z"
   },
   {
    "duration": 111,
    "start_time": "2024-10-03T01:27:12.273Z"
   },
   {
    "duration": 0,
    "start_time": "2024-10-03T01:27:12.386Z"
   },
   {
    "duration": 0,
    "start_time": "2024-10-03T01:27:12.387Z"
   },
   {
    "duration": 0,
    "start_time": "2024-10-03T01:27:12.388Z"
   },
   {
    "duration": 0,
    "start_time": "2024-10-03T01:27:12.389Z"
   },
   {
    "duration": 0,
    "start_time": "2024-10-03T01:27:12.390Z"
   },
   {
    "duration": 0,
    "start_time": "2024-10-03T01:27:12.392Z"
   },
   {
    "duration": 522,
    "start_time": "2024-10-03T01:40:36.745Z"
   },
   {
    "duration": 63,
    "start_time": "2024-10-03T01:40:50.812Z"
   },
   {
    "duration": 12,
    "start_time": "2024-10-03T01:41:01.369Z"
   },
   {
    "duration": 11,
    "start_time": "2024-10-03T01:42:21.658Z"
   },
   {
    "duration": 146,
    "start_time": "2024-10-03T01:43:30.917Z"
   },
   {
    "duration": 11,
    "start_time": "2024-10-03T01:43:40.800Z"
   },
   {
    "duration": 2480,
    "start_time": "2024-10-03T13:37:23.391Z"
   },
   {
    "duration": 37,
    "start_time": "2024-10-03T13:37:25.873Z"
   },
   {
    "duration": 4,
    "start_time": "2024-10-03T13:37:25.911Z"
   },
   {
    "duration": 5,
    "start_time": "2024-10-03T13:37:25.917Z"
   },
   {
    "duration": 19,
    "start_time": "2024-10-03T13:37:25.926Z"
   },
   {
    "duration": 6,
    "start_time": "2024-10-03T13:37:25.947Z"
   },
   {
    "duration": 9,
    "start_time": "2024-10-03T13:37:25.954Z"
   },
   {
    "duration": 3,
    "start_time": "2024-10-03T13:37:25.965Z"
   },
   {
    "duration": 4,
    "start_time": "2024-10-03T13:37:25.969Z"
   },
   {
    "duration": 14,
    "start_time": "2024-10-03T13:37:25.974Z"
   },
   {
    "duration": 37,
    "start_time": "2024-10-03T13:37:25.990Z"
   },
   {
    "duration": 10,
    "start_time": "2024-10-03T13:37:26.029Z"
   },
   {
    "duration": 4,
    "start_time": "2024-10-03T13:37:26.040Z"
   },
   {
    "duration": 3,
    "start_time": "2024-10-03T13:37:26.047Z"
   },
   {
    "duration": 7,
    "start_time": "2024-10-03T13:37:26.052Z"
   },
   {
    "duration": 4,
    "start_time": "2024-10-03T13:37:26.060Z"
   },
   {
    "duration": 247,
    "start_time": "2024-10-03T13:37:26.065Z"
   },
   {
    "duration": 0,
    "start_time": "2024-10-03T13:37:26.313Z"
   },
   {
    "duration": 0,
    "start_time": "2024-10-03T13:37:26.323Z"
   },
   {
    "duration": 0,
    "start_time": "2024-10-03T13:37:26.324Z"
   },
   {
    "duration": 0,
    "start_time": "2024-10-03T13:37:26.326Z"
   },
   {
    "duration": 0,
    "start_time": "2024-10-03T13:37:26.327Z"
   },
   {
    "duration": 0,
    "start_time": "2024-10-03T13:37:26.329Z"
   },
   {
    "duration": 4,
    "start_time": "2024-10-03T13:38:20.864Z"
   },
   {
    "duration": 14,
    "start_time": "2024-10-03T13:39:46.412Z"
   },
   {
    "duration": 5,
    "start_time": "2024-10-03T13:40:58.085Z"
   },
   {
    "duration": 5,
    "start_time": "2024-10-03T13:41:31.886Z"
   },
   {
    "duration": 6,
    "start_time": "2024-10-03T13:42:01.569Z"
   },
   {
    "duration": 16,
    "start_time": "2024-10-03T13:42:45.165Z"
   },
   {
    "duration": 25,
    "start_time": "2024-10-03T13:42:47.494Z"
   },
   {
    "duration": 14,
    "start_time": "2024-10-03T13:44:25.184Z"
   },
   {
    "duration": 403,
    "start_time": "2024-10-03T13:44:41.141Z"
   },
   {
    "duration": 41,
    "start_time": "2024-10-03T13:44:49.357Z"
   },
   {
    "duration": 7,
    "start_time": "2024-10-03T13:48:20.031Z"
   },
   {
    "duration": 3,
    "start_time": "2024-10-03T13:48:26.499Z"
   },
   {
    "duration": 4,
    "start_time": "2024-10-03T13:48:35.344Z"
   },
   {
    "duration": 5,
    "start_time": "2024-10-03T13:48:53.672Z"
   },
   {
    "duration": 17,
    "start_time": "2024-10-03T13:49:02.283Z"
   },
   {
    "duration": 332,
    "start_time": "2024-10-03T13:58:34.167Z"
   },
   {
    "duration": 150,
    "start_time": "2024-10-03T13:59:28.949Z"
   },
   {
    "duration": 56,
    "start_time": "2024-10-03T14:04:32.549Z"
   },
   {
    "duration": 342,
    "start_time": "2024-10-03T14:08:49.706Z"
   },
   {
    "duration": 354,
    "start_time": "2024-10-03T14:09:10.011Z"
   },
   {
    "duration": 164,
    "start_time": "2024-10-03T14:10:16.262Z"
   },
   {
    "duration": 46,
    "start_time": "2024-10-03T14:11:42.618Z"
   },
   {
    "duration": 88936,
    "start_time": "2024-10-03T14:19:33.552Z"
   },
   {
    "duration": 41,
    "start_time": "2024-10-03T14:29:29.489Z"
   },
   {
    "duration": 358,
    "start_time": "2024-10-03T14:30:22.376Z"
   },
   {
    "duration": 357,
    "start_time": "2024-10-03T14:31:29.160Z"
   },
   {
    "duration": 107,
    "start_time": "2024-10-03T14:33:40.299Z"
   },
   {
    "duration": 6,
    "start_time": "2024-10-03T14:34:41.814Z"
   },
   {
    "duration": 105,
    "start_time": "2024-10-03T14:34:44.464Z"
   },
   {
    "duration": 106,
    "start_time": "2024-10-03T14:36:36.868Z"
   },
   {
    "duration": 168,
    "start_time": "2024-10-03T14:38:28.989Z"
   },
   {
    "duration": 850,
    "start_time": "2024-10-03T14:38:56.452Z"
   },
   {
    "duration": 168,
    "start_time": "2024-10-03T14:39:10.520Z"
   },
   {
    "duration": 155,
    "start_time": "2024-10-03T15:24:24.033Z"
   },
   {
    "duration": 2450,
    "start_time": "2024-10-03T15:24:34.884Z"
   },
   {
    "duration": 40,
    "start_time": "2024-10-03T15:24:37.337Z"
   },
   {
    "duration": 3,
    "start_time": "2024-10-03T15:24:37.378Z"
   },
   {
    "duration": 4,
    "start_time": "2024-10-03T15:24:37.383Z"
   },
   {
    "duration": 22,
    "start_time": "2024-10-03T15:24:37.390Z"
   },
   {
    "duration": 7,
    "start_time": "2024-10-03T15:24:37.413Z"
   },
   {
    "duration": 10,
    "start_time": "2024-10-03T15:24:37.421Z"
   },
   {
    "duration": 3,
    "start_time": "2024-10-03T15:24:37.432Z"
   },
   {
    "duration": 3,
    "start_time": "2024-10-03T15:24:37.436Z"
   },
   {
    "duration": 14,
    "start_time": "2024-10-03T15:24:37.441Z"
   },
   {
    "duration": 4,
    "start_time": "2024-10-03T15:24:37.456Z"
   },
   {
    "duration": 10,
    "start_time": "2024-10-03T15:24:37.462Z"
   },
   {
    "duration": 40,
    "start_time": "2024-10-03T15:24:37.474Z"
   },
   {
    "duration": 2,
    "start_time": "2024-10-03T15:24:37.517Z"
   },
   {
    "duration": 7,
    "start_time": "2024-10-03T15:24:37.521Z"
   },
   {
    "duration": 5,
    "start_time": "2024-10-03T15:24:37.529Z"
   },
   {
    "duration": 4,
    "start_time": "2024-10-03T15:24:37.535Z"
   },
   {
    "duration": 4,
    "start_time": "2024-10-03T15:24:37.541Z"
   },
   {
    "duration": 15,
    "start_time": "2024-10-03T15:24:37.546Z"
   },
   {
    "duration": 426,
    "start_time": "2024-10-03T15:24:37.563Z"
   },
   {
    "duration": 0,
    "start_time": "2024-10-03T15:24:37.991Z"
   },
   {
    "duration": 0,
    "start_time": "2024-10-03T15:24:37.993Z"
   },
   {
    "duration": 0,
    "start_time": "2024-10-03T15:24:37.994Z"
   },
   {
    "duration": 39,
    "start_time": "2024-10-03T15:24:50.234Z"
   },
   {
    "duration": 0,
    "start_time": "2024-10-03T15:24:50.275Z"
   },
   {
    "duration": 0,
    "start_time": "2024-10-03T15:24:50.276Z"
   },
   {
    "duration": 0,
    "start_time": "2024-10-03T15:24:50.277Z"
   },
   {
    "duration": 478,
    "start_time": "2024-10-03T15:24:55.704Z"
   },
   {
    "duration": 374,
    "start_time": "2024-10-03T15:25:05.265Z"
   },
   {
    "duration": 13,
    "start_time": "2024-10-03T15:36:18.312Z"
   },
   {
    "duration": 40,
    "start_time": "2024-10-03T15:40:39.397Z"
   },
   {
    "duration": 109,
    "start_time": "2024-10-03T15:44:36.440Z"
   },
   {
    "duration": 180,
    "start_time": "2024-10-03T15:44:39.505Z"
   },
   {
    "duration": 45,
    "start_time": "2024-10-03T15:49:06.807Z"
   },
   {
    "duration": 329,
    "start_time": "2024-10-03T15:49:19.284Z"
   },
   {
    "duration": 4,
    "start_time": "2024-10-03T15:50:34.667Z"
   },
   {
    "duration": 448,
    "start_time": "2024-10-03T15:50:38.015Z"
   },
   {
    "duration": 2510,
    "start_time": "2024-10-04T19:59:51.826Z"
   },
   {
    "duration": 41,
    "start_time": "2024-10-04T19:59:54.338Z"
   },
   {
    "duration": 3,
    "start_time": "2024-10-04T19:59:54.380Z"
   },
   {
    "duration": 8,
    "start_time": "2024-10-04T19:59:54.385Z"
   },
   {
    "duration": 26,
    "start_time": "2024-10-04T19:59:54.395Z"
   },
   {
    "duration": 10,
    "start_time": "2024-10-04T19:59:54.422Z"
   },
   {
    "duration": 11,
    "start_time": "2024-10-04T19:59:54.434Z"
   },
   {
    "duration": 3,
    "start_time": "2024-10-04T19:59:54.448Z"
   },
   {
    "duration": 3,
    "start_time": "2024-10-04T19:59:54.454Z"
   },
   {
    "duration": 13,
    "start_time": "2024-10-04T19:59:54.461Z"
   },
   {
    "duration": 4,
    "start_time": "2024-10-04T19:59:54.476Z"
   },
   {
    "duration": 10,
    "start_time": "2024-10-04T19:59:54.481Z"
   },
   {
    "duration": 4,
    "start_time": "2024-10-04T19:59:54.524Z"
   },
   {
    "duration": 3,
    "start_time": "2024-10-04T19:59:54.529Z"
   },
   {
    "duration": 7,
    "start_time": "2024-10-04T19:59:54.534Z"
   },
   {
    "duration": 4,
    "start_time": "2024-10-04T19:59:54.542Z"
   },
   {
    "duration": 3,
    "start_time": "2024-10-04T19:59:54.548Z"
   },
   {
    "duration": 4,
    "start_time": "2024-10-04T19:59:54.553Z"
   },
   {
    "duration": 16,
    "start_time": "2024-10-04T19:59:54.559Z"
   },
   {
    "duration": 386,
    "start_time": "2024-10-04T19:59:54.576Z"
   },
   {
    "duration": 395,
    "start_time": "2024-10-04T19:59:54.964Z"
   },
   {
    "duration": 0,
    "start_time": "2024-10-04T19:59:55.360Z"
   },
   {
    "duration": 0,
    "start_time": "2024-10-04T19:59:55.362Z"
   },
   {
    "duration": 0,
    "start_time": "2024-10-04T19:59:55.363Z"
   },
   {
    "duration": 0,
    "start_time": "2024-10-04T19:59:55.365Z"
   },
   {
    "duration": 363,
    "start_time": "2024-10-04T20:01:02.791Z"
   },
   {
    "duration": 241,
    "start_time": "2024-10-04T20:02:37.696Z"
   },
   {
    "duration": 174,
    "start_time": "2024-10-04T20:03:25.029Z"
   },
   {
    "duration": 166,
    "start_time": "2024-10-04T20:12:21.435Z"
   },
   {
    "duration": 240,
    "start_time": "2024-10-04T20:13:08.853Z"
   },
   {
    "duration": 167,
    "start_time": "2024-10-04T20:13:22.787Z"
   },
   {
    "duration": 40,
    "start_time": "2024-10-04T20:15:20.060Z"
   },
   {
    "duration": 8,
    "start_time": "2024-10-04T20:15:52.239Z"
   },
   {
    "duration": 45,
    "start_time": "2024-10-04T20:15:57.902Z"
   },
   {
    "duration": 139,
    "start_time": "2024-10-04T20:16:37.955Z"
   },
   {
    "duration": 405,
    "start_time": "2024-10-04T20:17:44.692Z"
   },
   {
    "duration": 11,
    "start_time": "2024-10-04T20:17:53.840Z"
   },
   {
    "duration": 3,
    "start_time": "2024-10-04T20:18:27.793Z"
   },
   {
    "duration": 131,
    "start_time": "2024-10-04T20:18:48.755Z"
   },
   {
    "duration": 48,
    "start_time": "2024-10-04T20:19:14.281Z"
   },
   {
    "duration": 106,
    "start_time": "2024-10-04T20:20:00.519Z"
   },
   {
    "duration": 176,
    "start_time": "2024-10-04T20:20:57.372Z"
   },
   {
    "duration": 169,
    "start_time": "2024-10-04T20:22:11.795Z"
   },
   {
    "duration": 158,
    "start_time": "2024-10-04T20:33:34.836Z"
   },
   {
    "duration": 11,
    "start_time": "2024-10-04T20:33:44.087Z"
   },
   {
    "duration": 252,
    "start_time": "2024-10-04T20:34:43.959Z"
   },
   {
    "duration": 9,
    "start_time": "2024-10-04T20:34:47.659Z"
   },
   {
    "duration": 122,
    "start_time": "2024-10-04T20:36:04.842Z"
   },
   {
    "duration": 37,
    "start_time": "2024-10-04T20:36:25.631Z"
   },
   {
    "duration": 125,
    "start_time": "2024-10-04T20:36:53.742Z"
   },
   {
    "duration": 171,
    "start_time": "2024-10-04T20:42:30.915Z"
   },
   {
    "duration": 153,
    "start_time": "2024-10-04T20:42:48.296Z"
   },
   {
    "duration": 132,
    "start_time": "2024-10-04T20:43:35.901Z"
   },
   {
    "duration": 169,
    "start_time": "2024-10-04T20:44:30.585Z"
   },
   {
    "duration": 160,
    "start_time": "2024-10-04T20:46:28.272Z"
   },
   {
    "duration": 172,
    "start_time": "2024-10-04T20:46:35.706Z"
   },
   {
    "duration": 10,
    "start_time": "2024-10-04T20:46:49.179Z"
   },
   {
    "duration": 159,
    "start_time": "2024-10-04T20:56:21.385Z"
   },
   {
    "duration": 149,
    "start_time": "2024-10-04T20:57:01.633Z"
   },
   {
    "duration": 184,
    "start_time": "2024-10-04T21:10:20.240Z"
   },
   {
    "duration": 177,
    "start_time": "2024-10-04T21:10:54.909Z"
   },
   {
    "duration": 3,
    "start_time": "2024-10-04T21:13:06.911Z"
   },
   {
    "duration": 3,
    "start_time": "2024-10-04T21:13:23.721Z"
   },
   {
    "duration": 154,
    "start_time": "2024-10-04T21:13:41.822Z"
   },
   {
    "duration": 840,
    "start_time": "2024-10-04T21:13:49.064Z"
   },
   {
    "duration": 28,
    "start_time": "2024-10-04T21:13:49.906Z"
   },
   {
    "duration": 2,
    "start_time": "2024-10-04T21:13:49.936Z"
   },
   {
    "duration": 5,
    "start_time": "2024-10-04T21:13:49.940Z"
   },
   {
    "duration": 19,
    "start_time": "2024-10-04T21:13:49.948Z"
   },
   {
    "duration": 8,
    "start_time": "2024-10-04T21:13:49.969Z"
   },
   {
    "duration": 9,
    "start_time": "2024-10-04T21:13:49.979Z"
   },
   {
    "duration": 35,
    "start_time": "2024-10-04T21:13:49.989Z"
   },
   {
    "duration": 606,
    "start_time": "2024-10-04T21:13:50.026Z"
   },
   {
    "duration": 0,
    "start_time": "2024-10-04T21:13:50.634Z"
   },
   {
    "duration": 0,
    "start_time": "2024-10-04T21:13:50.635Z"
   },
   {
    "duration": 0,
    "start_time": "2024-10-04T21:13:50.636Z"
   },
   {
    "duration": 0,
    "start_time": "2024-10-04T21:13:50.637Z"
   },
   {
    "duration": 0,
    "start_time": "2024-10-04T21:13:50.638Z"
   },
   {
    "duration": 0,
    "start_time": "2024-10-04T21:13:50.639Z"
   },
   {
    "duration": 0,
    "start_time": "2024-10-04T21:13:50.640Z"
   },
   {
    "duration": 0,
    "start_time": "2024-10-04T21:13:50.641Z"
   },
   {
    "duration": 0,
    "start_time": "2024-10-04T21:13:50.643Z"
   },
   {
    "duration": 0,
    "start_time": "2024-10-04T21:13:50.644Z"
   },
   {
    "duration": 1,
    "start_time": "2024-10-04T21:13:50.645Z"
   },
   {
    "duration": 0,
    "start_time": "2024-10-04T21:13:50.647Z"
   },
   {
    "duration": 0,
    "start_time": "2024-10-04T21:13:50.648Z"
   },
   {
    "duration": 0,
    "start_time": "2024-10-04T21:13:50.649Z"
   },
   {
    "duration": 0,
    "start_time": "2024-10-04T21:13:50.650Z"
   },
   {
    "duration": 0,
    "start_time": "2024-10-04T21:13:50.651Z"
   },
   {
    "duration": 0,
    "start_time": "2024-10-04T21:13:50.652Z"
   },
   {
    "duration": 0,
    "start_time": "2024-10-04T21:13:50.653Z"
   },
   {
    "duration": 0,
    "start_time": "2024-10-04T21:13:50.655Z"
   },
   {
    "duration": 5,
    "start_time": "2024-10-04T21:23:08.372Z"
   },
   {
    "duration": 12,
    "start_time": "2024-10-04T21:23:14.091Z"
   },
   {
    "duration": 4,
    "start_time": "2024-10-04T21:23:18.340Z"
   },
   {
    "duration": 4,
    "start_time": "2024-10-04T21:27:16.744Z"
   },
   {
    "duration": 4,
    "start_time": "2024-10-04T21:27:18.895Z"
   },
   {
    "duration": 3,
    "start_time": "2024-10-04T21:28:08.331Z"
   },
   {
    "duration": 4,
    "start_time": "2024-10-04T21:28:11.548Z"
   },
   {
    "duration": 47,
    "start_time": "2024-10-04T21:28:46.462Z"
   },
   {
    "duration": 3,
    "start_time": "2024-10-04T21:29:13.669Z"
   },
   {
    "duration": 3,
    "start_time": "2024-10-04T21:29:16.100Z"
   },
   {
    "duration": 6,
    "start_time": "2024-10-04T21:29:20.059Z"
   },
   {
    "duration": 4,
    "start_time": "2024-10-04T21:29:50.423Z"
   },
   {
    "duration": 12,
    "start_time": "2024-10-04T21:31:46.931Z"
   },
   {
    "duration": 4,
    "start_time": "2024-10-04T21:32:02.636Z"
   },
   {
    "duration": 4,
    "start_time": "2024-10-04T21:33:32.782Z"
   },
   {
    "duration": 798,
    "start_time": "2024-10-04T21:34:41.657Z"
   },
   {
    "duration": 25,
    "start_time": "2024-10-04T21:34:42.457Z"
   },
   {
    "duration": 3,
    "start_time": "2024-10-04T21:34:42.483Z"
   },
   {
    "duration": 4,
    "start_time": "2024-10-04T21:34:42.489Z"
   },
   {
    "duration": 36,
    "start_time": "2024-10-04T21:34:42.494Z"
   },
   {
    "duration": 8,
    "start_time": "2024-10-04T21:34:42.532Z"
   },
   {
    "duration": 9,
    "start_time": "2024-10-04T21:34:42.541Z"
   },
   {
    "duration": 3,
    "start_time": "2024-10-04T21:34:42.552Z"
   },
   {
    "duration": 3,
    "start_time": "2024-10-04T21:34:42.557Z"
   },
   {
    "duration": 5,
    "start_time": "2024-10-04T21:34:42.562Z"
   },
   {
    "duration": 4,
    "start_time": "2024-10-04T21:34:42.569Z"
   },
   {
    "duration": 4,
    "start_time": "2024-10-04T21:34:42.574Z"
   },
   {
    "duration": 52,
    "start_time": "2024-10-04T21:34:42.580Z"
   },
   {
    "duration": 4,
    "start_time": "2024-10-04T21:34:42.634Z"
   },
   {
    "duration": 3,
    "start_time": "2024-10-04T21:34:42.639Z"
   },
   {
    "duration": 9,
    "start_time": "2024-10-04T21:34:42.643Z"
   },
   {
    "duration": 5,
    "start_time": "2024-10-04T21:34:42.653Z"
   },
   {
    "duration": 5,
    "start_time": "2024-10-04T21:34:42.660Z"
   },
   {
    "duration": 7,
    "start_time": "2024-10-04T21:34:42.666Z"
   },
   {
    "duration": 56,
    "start_time": "2024-10-04T21:34:42.675Z"
   },
   {
    "duration": 198,
    "start_time": "2024-10-04T21:34:42.732Z"
   },
   {
    "duration": 2,
    "start_time": "2024-10-04T21:34:42.932Z"
   },
   {
    "duration": 612,
    "start_time": "2024-10-04T21:34:42.936Z"
   },
   {
    "duration": 0,
    "start_time": "2024-10-04T21:34:43.549Z"
   },
   {
    "duration": 0,
    "start_time": "2024-10-04T21:34:43.551Z"
   },
   {
    "duration": 0,
    "start_time": "2024-10-04T21:34:43.552Z"
   },
   {
    "duration": 0,
    "start_time": "2024-10-04T21:34:43.553Z"
   },
   {
    "duration": 0,
    "start_time": "2024-10-04T21:34:43.555Z"
   },
   {
    "duration": 0,
    "start_time": "2024-10-04T21:34:43.557Z"
   },
   {
    "duration": 192,
    "start_time": "2024-10-04T21:35:41.697Z"
   },
   {
    "duration": 203,
    "start_time": "2024-10-04T21:37:08.442Z"
   },
   {
    "duration": 196,
    "start_time": "2024-10-04T21:37:49.829Z"
   },
   {
    "duration": 6,
    "start_time": "2024-10-04T21:38:29.488Z"
   },
   {
    "duration": 17,
    "start_time": "2024-10-04T21:38:31.291Z"
   },
   {
    "duration": 180,
    "start_time": "2024-10-04T21:38:55.988Z"
   },
   {
    "duration": 270,
    "start_time": "2024-10-04T21:44:29.251Z"
   },
   {
    "duration": 109,
    "start_time": "2024-10-04T21:46:16.876Z"
   },
   {
    "duration": 111,
    "start_time": "2024-10-04T21:47:09.242Z"
   },
   {
    "duration": 112,
    "start_time": "2024-10-04T21:47:25.314Z"
   },
   {
    "duration": 192,
    "start_time": "2024-10-04T21:54:23.922Z"
   },
   {
    "duration": 714,
    "start_time": "2024-10-04T21:55:01.804Z"
   },
   {
    "duration": 107,
    "start_time": "2024-10-04T21:55:42.775Z"
   },
   {
    "duration": 102,
    "start_time": "2024-10-04T21:56:19.640Z"
   },
   {
    "duration": 101,
    "start_time": "2024-10-04T21:57:52.607Z"
   },
   {
    "duration": 185,
    "start_time": "2024-10-04T21:59:24.488Z"
   },
   {
    "duration": 191,
    "start_time": "2024-10-04T21:59:57.596Z"
   },
   {
    "duration": 3,
    "start_time": "2024-10-04T23:44:21.263Z"
   },
   {
    "duration": 95,
    "start_time": "2024-10-04T23:44:25.427Z"
   },
   {
    "duration": 41,
    "start_time": "2024-10-04T23:44:32.548Z"
   },
   {
    "duration": 7,
    "start_time": "2024-10-04T23:44:37.671Z"
   },
   {
    "duration": 9,
    "start_time": "2024-10-04T23:45:42.897Z"
   },
   {
    "duration": 8,
    "start_time": "2024-10-04T23:46:47.607Z"
   },
   {
    "duration": 3,
    "start_time": "2024-10-04T23:47:06.577Z"
   },
   {
    "duration": 3,
    "start_time": "2024-10-04T23:47:33.927Z"
   },
   {
    "duration": 4,
    "start_time": "2024-10-04T23:48:36.376Z"
   },
   {
    "duration": 5,
    "start_time": "2024-10-04T23:48:58.439Z"
   },
   {
    "duration": 3,
    "start_time": "2024-10-04T23:53:11.812Z"
   },
   {
    "duration": 4,
    "start_time": "2024-10-04T23:53:35.024Z"
   },
   {
    "duration": 3,
    "start_time": "2024-10-04T23:54:10.076Z"
   },
   {
    "duration": 4,
    "start_time": "2024-10-04T23:55:59.212Z"
   },
   {
    "duration": 4,
    "start_time": "2024-10-05T00:02:59.382Z"
   },
   {
    "duration": 17,
    "start_time": "2024-10-05T00:04:24.326Z"
   },
   {
    "duration": 4,
    "start_time": "2024-10-05T00:04:48.645Z"
   },
   {
    "duration": 5,
    "start_time": "2024-10-05T00:05:15.599Z"
   },
   {
    "duration": 4,
    "start_time": "2024-10-05T00:06:30.266Z"
   },
   {
    "duration": 5,
    "start_time": "2024-10-05T00:06:32.259Z"
   },
   {
    "duration": 5,
    "start_time": "2024-10-05T00:06:42.274Z"
   },
   {
    "duration": 5,
    "start_time": "2024-10-05T00:06:45.252Z"
   },
   {
    "duration": 3,
    "start_time": "2024-10-05T00:13:04.210Z"
   },
   {
    "duration": 4,
    "start_time": "2024-10-05T00:13:45.487Z"
   },
   {
    "duration": 4,
    "start_time": "2024-10-05T00:14:02.914Z"
   },
   {
    "duration": 4,
    "start_time": "2024-10-05T00:14:18.148Z"
   },
   {
    "duration": 4,
    "start_time": "2024-10-05T00:14:59.835Z"
   },
   {
    "duration": 4,
    "start_time": "2024-10-05T00:15:59.443Z"
   },
   {
    "duration": 3,
    "start_time": "2024-10-05T00:16:23.555Z"
   },
   {
    "duration": 3,
    "start_time": "2024-10-05T00:17:09.467Z"
   },
   {
    "duration": 22,
    "start_time": "2024-10-05T00:17:22.577Z"
   },
   {
    "duration": 3,
    "start_time": "2024-10-05T00:18:05.167Z"
   },
   {
    "duration": 266,
    "start_time": "2024-10-05T00:18:07.203Z"
   },
   {
    "duration": 3,
    "start_time": "2024-10-05T00:20:40.749Z"
   },
   {
    "duration": 271,
    "start_time": "2024-10-05T00:20:44.408Z"
   },
   {
    "duration": 4,
    "start_time": "2024-10-05T00:22:31.805Z"
   },
   {
    "duration": 269,
    "start_time": "2024-10-05T00:22:36.879Z"
   },
   {
    "duration": 275,
    "start_time": "2024-10-05T00:31:55.526Z"
   },
   {
    "duration": 406,
    "start_time": "2024-10-05T00:39:19.567Z"
   },
   {
    "duration": 5,
    "start_time": "2024-10-05T00:39:55.038Z"
   },
   {
    "duration": 2529,
    "start_time": "2024-10-05T18:46:52.422Z"
   },
   {
    "duration": 40,
    "start_time": "2024-10-05T18:46:54.953Z"
   },
   {
    "duration": 2,
    "start_time": "2024-10-05T18:46:54.995Z"
   },
   {
    "duration": 5,
    "start_time": "2024-10-05T18:46:54.999Z"
   },
   {
    "duration": 20,
    "start_time": "2024-10-05T18:46:55.006Z"
   },
   {
    "duration": 16,
    "start_time": "2024-10-05T18:46:55.028Z"
   },
   {
    "duration": 10,
    "start_time": "2024-10-05T18:46:55.046Z"
   },
   {
    "duration": 5,
    "start_time": "2024-10-05T18:46:55.057Z"
   },
   {
    "duration": 3,
    "start_time": "2024-10-05T18:46:55.064Z"
   },
   {
    "duration": 6,
    "start_time": "2024-10-05T18:46:55.070Z"
   },
   {
    "duration": 4,
    "start_time": "2024-10-05T18:46:55.077Z"
   },
   {
    "duration": 4,
    "start_time": "2024-10-05T18:46:55.082Z"
   },
   {
    "duration": 11,
    "start_time": "2024-10-05T18:46:55.087Z"
   },
   {
    "duration": 45,
    "start_time": "2024-10-05T18:46:55.100Z"
   },
   {
    "duration": 8,
    "start_time": "2024-10-05T18:46:55.146Z"
   },
   {
    "duration": 240,
    "start_time": "2024-10-05T18:46:55.156Z"
   },
   {
    "duration": 5,
    "start_time": "2024-10-05T18:46:55.398Z"
   },
   {
    "duration": 6,
    "start_time": "2024-10-05T18:46:55.405Z"
   },
   {
    "duration": 32,
    "start_time": "2024-10-05T18:46:55.412Z"
   },
   {
    "duration": 213,
    "start_time": "2024-10-05T18:46:55.446Z"
   },
   {
    "duration": 7,
    "start_time": "2024-10-05T18:46:55.661Z"
   },
   {
    "duration": 3,
    "start_time": "2024-10-05T18:46:55.670Z"
   },
   {
    "duration": 4,
    "start_time": "2024-10-05T18:46:55.675Z"
   },
   {
    "duration": 3,
    "start_time": "2024-10-05T18:46:55.681Z"
   },
   {
    "duration": 4,
    "start_time": "2024-10-05T18:46:55.685Z"
   },
   {
    "duration": 292,
    "start_time": "2024-10-05T18:46:55.691Z"
   },
   {
    "duration": 4,
    "start_time": "2024-10-05T18:46:55.985Z"
   },
   {
    "duration": 81,
    "start_time": "2024-10-05T19:03:19.256Z"
   },
   {
    "duration": 4,
    "start_time": "2024-10-05T19:05:25.164Z"
   },
   {
    "duration": 3,
    "start_time": "2024-10-05T19:05:41.122Z"
   },
   {
    "duration": 3,
    "start_time": "2024-10-05T19:07:05.404Z"
   },
   {
    "duration": 4,
    "start_time": "2024-10-05T19:07:16.508Z"
   },
   {
    "duration": 3,
    "start_time": "2024-10-05T19:07:42.328Z"
   },
   {
    "duration": 306,
    "start_time": "2024-10-05T19:11:30.292Z"
   },
   {
    "duration": 6,
    "start_time": "2024-10-05T19:11:38.110Z"
   },
   {
    "duration": 3,
    "start_time": "2024-10-05T19:12:13.081Z"
   },
   {
    "duration": 5,
    "start_time": "2024-10-05T19:12:17.832Z"
   },
   {
    "duration": 17,
    "start_time": "2024-10-05T19:12:53.595Z"
   },
   {
    "duration": 86,
    "start_time": "2024-10-05T19:14:29.203Z"
   },
   {
    "duration": 3,
    "start_time": "2024-10-05T19:24:04.087Z"
   },
   {
    "duration": 5,
    "start_time": "2024-10-05T19:25:15.271Z"
   },
   {
    "duration": 166,
    "start_time": "2024-10-05T19:25:25.267Z"
   },
   {
    "duration": 3,
    "start_time": "2024-10-05T19:26:45.232Z"
   },
   {
    "duration": 163,
    "start_time": "2024-10-05T19:26:47.523Z"
   },
   {
    "duration": 4,
    "start_time": "2024-10-05T19:27:10.707Z"
   },
   {
    "duration": 5,
    "start_time": "2024-10-05T19:27:24.235Z"
   },
   {
    "duration": 3,
    "start_time": "2024-10-05T19:27:37.864Z"
   },
   {
    "duration": 81,
    "start_time": "2024-10-05T19:27:40.077Z"
   },
   {
    "duration": 20,
    "start_time": "2024-10-05T19:30:19.194Z"
   },
   {
    "duration": 16,
    "start_time": "2024-10-05T19:30:24.951Z"
   },
   {
    "duration": 15,
    "start_time": "2024-10-05T19:30:55.026Z"
   },
   {
    "duration": 20,
    "start_time": "2024-10-05T19:31:12.959Z"
   },
   {
    "duration": 4,
    "start_time": "2024-10-05T19:31:25.368Z"
   },
   {
    "duration": 349,
    "start_time": "2024-10-05T19:31:49.169Z"
   },
   {
    "duration": 357,
    "start_time": "2024-10-05T19:32:01.449Z"
   },
   {
    "duration": 4,
    "start_time": "2024-10-05T19:37:22.915Z"
   },
   {
    "duration": 1027,
    "start_time": "2024-10-05T19:37:41.123Z"
   },
   {
    "duration": 3,
    "start_time": "2024-10-05T19:38:17.441Z"
   },
   {
    "duration": 995,
    "start_time": "2024-10-05T19:38:19.952Z"
   },
   {
    "duration": 4,
    "start_time": "2024-10-05T19:44:23.821Z"
   },
   {
    "duration": 1864,
    "start_time": "2024-10-05T19:44:29.170Z"
   },
   {
    "duration": 5,
    "start_time": "2024-10-05T19:45:06.228Z"
   },
   {
    "duration": 1954,
    "start_time": "2024-10-05T19:45:08.616Z"
   },
   {
    "duration": 3,
    "start_time": "2024-10-05T19:45:32.352Z"
   },
   {
    "duration": 1959,
    "start_time": "2024-10-05T19:45:34.660Z"
   },
   {
    "duration": 5,
    "start_time": "2024-10-05T19:48:27.392Z"
   },
   {
    "duration": 1155,
    "start_time": "2024-10-05T19:48:29.270Z"
   },
   {
    "duration": 4,
    "start_time": "2024-10-05T19:51:08.229Z"
   },
   {
    "duration": 4,
    "start_time": "2024-10-05T19:51:12.765Z"
   },
   {
    "duration": 22,
    "start_time": "2024-10-05T19:51:14.760Z"
   },
   {
    "duration": 3,
    "start_time": "2024-10-05T19:51:32.245Z"
   },
   {
    "duration": 24,
    "start_time": "2024-10-05T19:51:34.351Z"
   },
   {
    "duration": 3,
    "start_time": "2024-10-05T19:51:51.608Z"
   },
   {
    "duration": 10784,
    "start_time": "2024-10-05T19:51:54.129Z"
   },
   {
    "duration": 4,
    "start_time": "2024-10-05T19:52:13.581Z"
   },
   {
    "duration": 5668,
    "start_time": "2024-10-05T19:52:16.021Z"
   },
   {
    "duration": 4,
    "start_time": "2024-10-05T19:52:43.237Z"
   },
   {
    "duration": 1111,
    "start_time": "2024-10-05T19:52:45.168Z"
   },
   {
    "duration": 12,
    "start_time": "2024-10-05T20:05:52.659Z"
   },
   {
    "duration": 15,
    "start_time": "2024-10-05T20:06:47.732Z"
   },
   {
    "duration": 96,
    "start_time": "2024-10-05T20:07:00.133Z"
   },
   {
    "duration": 16,
    "start_time": "2024-10-05T20:08:26.384Z"
   },
   {
    "duration": 101,
    "start_time": "2024-10-05T20:08:33.489Z"
   },
   {
    "duration": 96,
    "start_time": "2024-10-05T20:08:46.457Z"
   },
   {
    "duration": 9,
    "start_time": "2024-10-05T20:09:33.258Z"
   },
   {
    "duration": 5,
    "start_time": "2024-10-05T20:10:09.844Z"
   },
   {
    "duration": 15,
    "start_time": "2024-10-05T20:11:17.233Z"
   },
   {
    "duration": 907,
    "start_time": "2024-10-05T20:11:21.873Z"
   },
   {
    "duration": 162,
    "start_time": "2024-10-05T20:12:03.424Z"
   },
   {
    "duration": 630,
    "start_time": "2024-10-05T20:15:23.496Z"
   },
   {
    "duration": 17,
    "start_time": "2024-10-05T20:38:34.969Z"
   },
   {
    "duration": 5,
    "start_time": "2024-10-05T20:39:46.573Z"
   },
   {
    "duration": 37,
    "start_time": "2024-10-05T20:46:46.322Z"
   },
   {
    "duration": 6,
    "start_time": "2024-10-05T20:47:21.462Z"
   },
   {
    "duration": 5,
    "start_time": "2024-10-05T20:47:58.549Z"
   },
   {
    "duration": 4,
    "start_time": "2024-10-05T20:48:20.286Z"
   },
   {
    "duration": 6,
    "start_time": "2024-10-05T20:48:25.371Z"
   },
   {
    "duration": 2638,
    "start_time": "2024-10-07T15:51:19.161Z"
   },
   {
    "duration": 41,
    "start_time": "2024-10-07T15:51:21.801Z"
   },
   {
    "duration": 3,
    "start_time": "2024-10-07T15:51:21.844Z"
   },
   {
    "duration": 6,
    "start_time": "2024-10-07T15:51:21.849Z"
   },
   {
    "duration": 20,
    "start_time": "2024-10-07T15:51:21.858Z"
   },
   {
    "duration": 8,
    "start_time": "2024-10-07T15:51:21.881Z"
   },
   {
    "duration": 27,
    "start_time": "2024-10-07T15:51:21.891Z"
   },
   {
    "duration": 3,
    "start_time": "2024-10-07T15:51:21.919Z"
   },
   {
    "duration": 3,
    "start_time": "2024-10-07T15:51:21.924Z"
   },
   {
    "duration": 6,
    "start_time": "2024-10-07T15:51:21.929Z"
   },
   {
    "duration": 4,
    "start_time": "2024-10-07T15:51:21.936Z"
   },
   {
    "duration": 4,
    "start_time": "2024-10-07T15:51:21.941Z"
   },
   {
    "duration": 3,
    "start_time": "2024-10-07T15:51:21.947Z"
   },
   {
    "duration": 11,
    "start_time": "2024-10-07T15:51:21.954Z"
   },
   {
    "duration": 47,
    "start_time": "2024-10-07T15:51:21.967Z"
   },
   {
    "duration": 8,
    "start_time": "2024-10-07T15:51:22.015Z"
   },
   {
    "duration": 229,
    "start_time": "2024-10-07T15:51:22.024Z"
   },
   {
    "duration": 5,
    "start_time": "2024-10-07T15:51:22.255Z"
   },
   {
    "duration": 6,
    "start_time": "2024-10-07T15:51:22.262Z"
   },
   {
    "duration": 16,
    "start_time": "2024-10-07T15:51:22.269Z"
   },
   {
    "duration": 238,
    "start_time": "2024-10-07T15:51:22.286Z"
   },
   {
    "duration": 9,
    "start_time": "2024-10-07T15:51:22.526Z"
   },
   {
    "duration": 4,
    "start_time": "2024-10-07T15:51:22.537Z"
   },
   {
    "duration": 4,
    "start_time": "2024-10-07T15:51:22.543Z"
   },
   {
    "duration": 4,
    "start_time": "2024-10-07T15:51:22.548Z"
   },
   {
    "duration": 4,
    "start_time": "2024-10-07T15:51:22.553Z"
   },
   {
    "duration": 303,
    "start_time": "2024-10-07T15:51:22.558Z"
   },
   {
    "duration": 2,
    "start_time": "2024-10-07T15:51:22.863Z"
   },
   {
    "duration": 283,
    "start_time": "2024-10-07T15:51:22.867Z"
   },
   {
    "duration": 0,
    "start_time": "2024-10-07T15:51:23.153Z"
   },
   {
    "duration": 0,
    "start_time": "2024-10-07T15:51:23.154Z"
   },
   {
    "duration": 0,
    "start_time": "2024-10-07T15:51:23.155Z"
   },
   {
    "duration": 0,
    "start_time": "2024-10-07T15:51:23.156Z"
   },
   {
    "duration": 0,
    "start_time": "2024-10-07T15:51:23.157Z"
   },
   {
    "duration": 0,
    "start_time": "2024-10-07T15:51:23.158Z"
   },
   {
    "duration": 15,
    "start_time": "2024-10-07T15:52:29.540Z"
   },
   {
    "duration": 16,
    "start_time": "2024-10-07T15:52:43.595Z"
   },
   {
    "duration": 86,
    "start_time": "2024-10-07T15:52:59.177Z"
   },
   {
    "duration": 3,
    "start_time": "2024-10-07T15:53:08.342Z"
   },
   {
    "duration": 3,
    "start_time": "2024-10-07T15:53:10.123Z"
   },
   {
    "duration": 1114,
    "start_time": "2024-10-07T15:53:11.770Z"
   },
   {
    "duration": 6,
    "start_time": "2024-10-07T15:54:44.427Z"
   },
   {
    "duration": 3,
    "start_time": "2024-10-07T15:55:14.110Z"
   },
   {
    "duration": 5,
    "start_time": "2024-10-07T15:55:44.335Z"
   },
   {
    "duration": 4,
    "start_time": "2024-10-07T15:55:47.590Z"
   },
   {
    "duration": 42,
    "start_time": "2024-10-07T15:59:10.954Z"
   },
   {
    "duration": 5,
    "start_time": "2024-10-07T15:59:27.757Z"
   },
   {
    "duration": 876,
    "start_time": "2024-10-07T15:59:59.321Z"
   },
   {
    "duration": 28,
    "start_time": "2024-10-07T16:00:00.200Z"
   },
   {
    "duration": 4,
    "start_time": "2024-10-07T16:00:00.230Z"
   },
   {
    "duration": 5,
    "start_time": "2024-10-07T16:00:00.236Z"
   },
   {
    "duration": 20,
    "start_time": "2024-10-07T16:00:00.243Z"
   },
   {
    "duration": 9,
    "start_time": "2024-10-07T16:00:00.265Z"
   },
   {
    "duration": 36,
    "start_time": "2024-10-07T16:00:00.276Z"
   },
   {
    "duration": 4,
    "start_time": "2024-10-07T16:00:00.314Z"
   },
   {
    "duration": 4,
    "start_time": "2024-10-07T16:00:00.320Z"
   },
   {
    "duration": 7,
    "start_time": "2024-10-07T16:00:00.325Z"
   },
   {
    "duration": 4,
    "start_time": "2024-10-07T16:00:00.333Z"
   },
   {
    "duration": 4,
    "start_time": "2024-10-07T16:00:00.339Z"
   },
   {
    "duration": 4,
    "start_time": "2024-10-07T16:00:00.346Z"
   },
   {
    "duration": 11,
    "start_time": "2024-10-07T16:00:00.354Z"
   },
   {
    "duration": 46,
    "start_time": "2024-10-07T16:00:00.366Z"
   },
   {
    "duration": 7,
    "start_time": "2024-10-07T16:00:00.415Z"
   },
   {
    "duration": 228,
    "start_time": "2024-10-07T16:00:00.424Z"
   },
   {
    "duration": 5,
    "start_time": "2024-10-07T16:00:00.654Z"
   },
   {
    "duration": 5,
    "start_time": "2024-10-07T16:00:00.662Z"
   },
   {
    "duration": 16,
    "start_time": "2024-10-07T16:00:00.668Z"
   },
   {
    "duration": 234,
    "start_time": "2024-10-07T16:00:00.686Z"
   },
   {
    "duration": 8,
    "start_time": "2024-10-07T16:00:00.922Z"
   },
   {
    "duration": 4,
    "start_time": "2024-10-07T16:00:00.932Z"
   },
   {
    "duration": 5,
    "start_time": "2024-10-07T16:00:00.937Z"
   },
   {
    "duration": 3,
    "start_time": "2024-10-07T16:00:00.943Z"
   },
   {
    "duration": 4,
    "start_time": "2024-10-07T16:00:00.948Z"
   },
   {
    "duration": 379,
    "start_time": "2024-10-07T16:00:00.954Z"
   },
   {
    "duration": 3,
    "start_time": "2024-10-07T16:00:01.335Z"
   },
   {
    "duration": 109,
    "start_time": "2024-10-07T16:00:01.340Z"
   },
   {
    "duration": 4,
    "start_time": "2024-10-07T16:00:01.451Z"
   },
   {
    "duration": 4,
    "start_time": "2024-10-07T16:00:01.457Z"
   },
   {
    "duration": 1177,
    "start_time": "2024-10-07T16:00:01.462Z"
   },
   {
    "duration": 7,
    "start_time": "2024-10-07T16:00:02.641Z"
   },
   {
    "duration": 627,
    "start_time": "2024-10-07T16:00:02.650Z"
   },
   {
    "duration": 0,
    "start_time": "2024-10-07T16:00:03.278Z"
   },
   {
    "duration": 1,
    "start_time": "2024-10-07T16:00:03.279Z"
   },
   {
    "duration": 34,
    "start_time": "2024-10-07T16:00:19.140Z"
   },
   {
    "duration": 34,
    "start_time": "2024-10-07T16:00:50.723Z"
   },
   {
    "duration": 31,
    "start_time": "2024-10-07T16:01:04.320Z"
   },
   {
    "duration": 33,
    "start_time": "2024-10-07T16:01:43.556Z"
   },
   {
    "duration": 847,
    "start_time": "2024-10-07T16:02:27.130Z"
   },
   {
    "duration": 29,
    "start_time": "2024-10-07T16:02:27.979Z"
   },
   {
    "duration": 2,
    "start_time": "2024-10-07T16:02:28.010Z"
   },
   {
    "duration": 7,
    "start_time": "2024-10-07T16:02:28.014Z"
   },
   {
    "duration": 25,
    "start_time": "2024-10-07T16:02:28.024Z"
   },
   {
    "duration": 8,
    "start_time": "2024-10-07T16:02:28.051Z"
   },
   {
    "duration": 9,
    "start_time": "2024-10-07T16:02:28.061Z"
   },
   {
    "duration": 4,
    "start_time": "2024-10-07T16:02:28.072Z"
   },
   {
    "duration": 36,
    "start_time": "2024-10-07T16:02:28.077Z"
   },
   {
    "duration": 6,
    "start_time": "2024-10-07T16:02:28.115Z"
   },
   {
    "duration": 4,
    "start_time": "2024-10-07T16:02:28.122Z"
   },
   {
    "duration": 4,
    "start_time": "2024-10-07T16:02:28.128Z"
   },
   {
    "duration": 3,
    "start_time": "2024-10-07T16:02:28.134Z"
   },
   {
    "duration": 11,
    "start_time": "2024-10-07T16:02:28.141Z"
   },
   {
    "duration": 4,
    "start_time": "2024-10-07T16:02:28.153Z"
   },
   {
    "duration": 7,
    "start_time": "2024-10-07T16:02:28.159Z"
   },
   {
    "duration": 273,
    "start_time": "2024-10-07T16:02:28.168Z"
   },
   {
    "duration": 5,
    "start_time": "2024-10-07T16:02:28.442Z"
   },
   {
    "duration": 6,
    "start_time": "2024-10-07T16:02:28.449Z"
   },
   {
    "duration": 17,
    "start_time": "2024-10-07T16:02:28.456Z"
   },
   {
    "duration": 241,
    "start_time": "2024-10-07T16:02:28.475Z"
   },
   {
    "duration": 9,
    "start_time": "2024-10-07T16:02:28.718Z"
   },
   {
    "duration": 4,
    "start_time": "2024-10-07T16:02:28.728Z"
   },
   {
    "duration": 4,
    "start_time": "2024-10-07T16:02:28.734Z"
   },
   {
    "duration": 3,
    "start_time": "2024-10-07T16:02:28.740Z"
   },
   {
    "duration": 3,
    "start_time": "2024-10-07T16:02:28.745Z"
   },
   {
    "duration": 361,
    "start_time": "2024-10-07T16:02:28.750Z"
   },
   {
    "duration": 2,
    "start_time": "2024-10-07T16:02:29.113Z"
   },
   {
    "duration": 96,
    "start_time": "2024-10-07T16:02:29.117Z"
   },
   {
    "duration": 3,
    "start_time": "2024-10-07T16:02:29.215Z"
   },
   {
    "duration": 4,
    "start_time": "2024-10-07T16:02:29.220Z"
   },
   {
    "duration": 1137,
    "start_time": "2024-10-07T16:02:29.226Z"
   },
   {
    "duration": 3,
    "start_time": "2024-10-07T16:02:30.365Z"
   },
   {
    "duration": 309,
    "start_time": "2024-10-07T16:02:30.370Z"
   },
   {
    "duration": 0,
    "start_time": "2024-10-07T16:02:30.681Z"
   },
   {
    "duration": 351,
    "start_time": "2024-10-07T16:02:54.917Z"
   },
   {
    "duration": 17,
    "start_time": "2024-10-07T16:03:11.999Z"
   },
   {
    "duration": 5,
    "start_time": "2024-10-07T16:04:32.399Z"
   },
   {
    "duration": 17,
    "start_time": "2024-10-07T16:04:36.183Z"
   },
   {
    "duration": 15,
    "start_time": "2024-10-07T16:04:52.083Z"
   },
   {
    "duration": 5,
    "start_time": "2024-10-07T16:06:50.688Z"
   },
   {
    "duration": 5,
    "start_time": "2024-10-07T16:06:57.374Z"
   },
   {
    "duration": 4,
    "start_time": "2024-10-07T16:07:43.622Z"
   },
   {
    "duration": 32,
    "start_time": "2024-10-07T16:08:45.020Z"
   },
   {
    "duration": 5,
    "start_time": "2024-10-07T16:10:29.209Z"
   },
   {
    "duration": 32,
    "start_time": "2024-10-07T16:10:58.389Z"
   },
   {
    "duration": 32,
    "start_time": "2024-10-07T16:11:03.781Z"
   },
   {
    "duration": 33,
    "start_time": "2024-10-07T16:11:16.990Z"
   },
   {
    "duration": 18,
    "start_time": "2024-10-07T16:14:33.824Z"
   },
   {
    "duration": 6,
    "start_time": "2024-10-07T16:14:40.943Z"
   },
   {
    "duration": 771,
    "start_time": "2024-10-07T16:14:43.873Z"
   },
   {
    "duration": 776,
    "start_time": "2024-10-07T16:14:58.563Z"
   },
   {
    "duration": 774,
    "start_time": "2024-10-07T16:15:08.584Z"
   },
   {
    "duration": 16,
    "start_time": "2024-10-07T16:15:15.684Z"
   },
   {
    "duration": 789,
    "start_time": "2024-10-07T16:18:07.587Z"
   },
   {
    "duration": 768,
    "start_time": "2024-10-07T16:19:52.068Z"
   },
   {
    "duration": 835,
    "start_time": "2024-10-07T16:20:37.773Z"
   },
   {
    "duration": 802,
    "start_time": "2024-10-07T16:20:55.274Z"
   },
   {
    "duration": 3,
    "start_time": "2024-10-07T16:23:18.686Z"
   },
   {
    "duration": 3,
    "start_time": "2024-10-07T16:23:24.007Z"
   },
   {
    "duration": 21,
    "start_time": "2024-10-07T16:23:34.370Z"
   },
   {
    "duration": 7,
    "start_time": "2024-10-07T16:23:43.550Z"
   },
   {
    "duration": 857,
    "start_time": "2024-10-07T16:23:46.466Z"
   },
   {
    "duration": 115,
    "start_time": "2024-10-07T16:24:31.917Z"
   },
   {
    "duration": 879,
    "start_time": "2024-10-07T16:27:39.225Z"
   },
   {
    "duration": 6,
    "start_time": "2024-10-07T16:28:09.474Z"
   },
   {
    "duration": 897,
    "start_time": "2024-10-07T16:28:18.870Z"
   },
   {
    "duration": 4,
    "start_time": "2024-10-07T16:31:05.388Z"
   },
   {
    "duration": 13,
    "start_time": "2024-10-07T21:54:41.391Z"
   },
   {
    "duration": 3,
    "start_time": "2024-10-07T21:54:55.343Z"
   },
   {
    "duration": 5,
    "start_time": "2024-10-07T21:55:27.285Z"
   },
   {
    "duration": 211,
    "start_time": "2024-10-07T21:55:29.060Z"
   },
   {
    "duration": 68062,
    "start_time": "2024-10-07T22:01:58.463Z"
   },
   {
    "duration": 138,
    "start_time": "2024-10-07T22:03:46.308Z"
   },
   {
    "duration": 6,
    "start_time": "2024-10-07T22:06:00.170Z"
   },
   {
    "duration": 6,
    "start_time": "2024-10-07T22:06:52.541Z"
   },
   {
    "duration": 132,
    "start_time": "2024-10-07T22:06:58.279Z"
   },
   {
    "duration": 11,
    "start_time": "2024-10-08T00:32:32.248Z"
   },
   {
    "duration": 278,
    "start_time": "2024-10-08T00:36:50.546Z"
   },
   {
    "duration": 12,
    "start_time": "2024-10-08T00:36:59.930Z"
   },
   {
    "duration": 4,
    "start_time": "2024-10-08T00:37:49.731Z"
   },
   {
    "duration": 20,
    "start_time": "2024-10-08T00:38:09.527Z"
   },
   {
    "duration": 4,
    "start_time": "2024-10-08T00:38:55.058Z"
   },
   {
    "duration": 4,
    "start_time": "2024-10-08T00:39:04.954Z"
   },
   {
    "duration": 8,
    "start_time": "2024-10-08T00:39:12.692Z"
   },
   {
    "duration": 5,
    "start_time": "2024-10-08T00:39:43.439Z"
   },
   {
    "duration": 7,
    "start_time": "2024-10-08T00:40:17.699Z"
   },
   {
    "duration": 17,
    "start_time": "2024-10-08T00:40:34.637Z"
   },
   {
    "duration": 19,
    "start_time": "2024-10-08T00:40:51.840Z"
   },
   {
    "duration": 7,
    "start_time": "2024-10-08T00:41:40.233Z"
   },
   {
    "duration": 6,
    "start_time": "2024-10-08T00:41:58.201Z"
   },
   {
    "duration": 7,
    "start_time": "2024-10-08T00:42:48.210Z"
   },
   {
    "duration": 6,
    "start_time": "2024-10-08T00:43:30.470Z"
   },
   {
    "duration": 4,
    "start_time": "2024-10-08T00:46:30.557Z"
   },
   {
    "duration": 289,
    "start_time": "2024-10-08T00:46:43.444Z"
   },
   {
    "duration": 16,
    "start_time": "2024-10-08T00:47:22.448Z"
   },
   {
    "duration": 104,
    "start_time": "2024-10-08T00:47:49.792Z"
   },
   {
    "duration": 47,
    "start_time": "2024-10-08T00:50:24.677Z"
   },
   {
    "duration": 71,
    "start_time": "2024-10-08T00:50:55.511Z"
   },
   {
    "duration": 177,
    "start_time": "2024-10-08T00:51:35.269Z"
   },
   {
    "duration": 238,
    "start_time": "2024-10-08T00:53:20.639Z"
   },
   {
    "duration": 225,
    "start_time": "2024-10-08T00:53:39.766Z"
   },
   {
    "duration": 5,
    "start_time": "2024-10-08T00:54:02.776Z"
   },
   {
    "duration": 5,
    "start_time": "2024-10-08T00:54:24.390Z"
   },
   {
    "duration": 223,
    "start_time": "2024-10-08T00:54:46.490Z"
   },
   {
    "duration": 233,
    "start_time": "2024-10-08T00:55:05.444Z"
   },
   {
    "duration": 245,
    "start_time": "2024-10-08T00:55:21.043Z"
   },
   {
    "duration": 246,
    "start_time": "2024-10-08T00:55:50.397Z"
   },
   {
    "duration": 235,
    "start_time": "2024-10-08T00:56:50.270Z"
   },
   {
    "duration": 3,
    "start_time": "2024-10-08T00:58:18.279Z"
   },
   {
    "duration": 2559,
    "start_time": "2024-10-08T15:59:36.540Z"
   },
   {
    "duration": 46,
    "start_time": "2024-10-08T15:59:39.101Z"
   },
   {
    "duration": 2,
    "start_time": "2024-10-08T15:59:39.149Z"
   },
   {
    "duration": 5,
    "start_time": "2024-10-08T15:59:39.153Z"
   },
   {
    "duration": 20,
    "start_time": "2024-10-08T15:59:39.161Z"
   },
   {
    "duration": 7,
    "start_time": "2024-10-08T15:59:39.184Z"
   },
   {
    "duration": 31,
    "start_time": "2024-10-08T15:59:39.193Z"
   },
   {
    "duration": 3,
    "start_time": "2024-10-08T15:59:39.226Z"
   },
   {
    "duration": 3,
    "start_time": "2024-10-08T15:59:39.231Z"
   },
   {
    "duration": 5,
    "start_time": "2024-10-08T15:59:39.236Z"
   },
   {
    "duration": 3,
    "start_time": "2024-10-08T15:59:39.243Z"
   },
   {
    "duration": 6,
    "start_time": "2024-10-08T15:59:39.248Z"
   },
   {
    "duration": 4,
    "start_time": "2024-10-08T15:59:39.255Z"
   },
   {
    "duration": 10,
    "start_time": "2024-10-08T15:59:39.264Z"
   },
   {
    "duration": 4,
    "start_time": "2024-10-08T15:59:39.275Z"
   },
   {
    "duration": 8,
    "start_time": "2024-10-08T15:59:39.323Z"
   },
   {
    "duration": 235,
    "start_time": "2024-10-08T15:59:39.332Z"
   },
   {
    "duration": 3,
    "start_time": "2024-10-08T15:59:39.569Z"
   },
   {
    "duration": 6,
    "start_time": "2024-10-08T15:59:39.574Z"
   },
   {
    "duration": 16,
    "start_time": "2024-10-08T15:59:39.581Z"
   },
   {
    "duration": 270,
    "start_time": "2024-10-08T15:59:39.598Z"
   },
   {
    "duration": 8,
    "start_time": "2024-10-08T15:59:39.870Z"
   },
   {
    "duration": 4,
    "start_time": "2024-10-08T15:59:39.880Z"
   },
   {
    "duration": 5,
    "start_time": "2024-10-08T15:59:39.885Z"
   },
   {
    "duration": 4,
    "start_time": "2024-10-08T15:59:39.891Z"
   },
   {
    "duration": 3,
    "start_time": "2024-10-08T15:59:39.897Z"
   },
   {
    "duration": 296,
    "start_time": "2024-10-08T15:59:39.901Z"
   },
   {
    "duration": 3,
    "start_time": "2024-10-08T15:59:40.199Z"
   },
   {
    "duration": 98,
    "start_time": "2024-10-08T15:59:40.203Z"
   },
   {
    "duration": 3,
    "start_time": "2024-10-08T15:59:40.302Z"
   },
   {
    "duration": 4,
    "start_time": "2024-10-08T15:59:40.306Z"
   },
   {
    "duration": 1207,
    "start_time": "2024-10-08T15:59:40.324Z"
   },
   {
    "duration": 4,
    "start_time": "2024-10-08T15:59:41.533Z"
   },
   {
    "duration": 5,
    "start_time": "2024-10-08T15:59:41.539Z"
   },
   {
    "duration": 6,
    "start_time": "2024-10-08T15:59:41.546Z"
   },
   {
    "duration": 230,
    "start_time": "2024-10-08T15:59:41.553Z"
   },
   {
    "duration": 6,
    "start_time": "2024-10-08T15:59:41.785Z"
   },
   {
    "duration": 147,
    "start_time": "2024-10-08T15:59:41.793Z"
   },
   {
    "duration": 11,
    "start_time": "2024-10-08T15:59:41.942Z"
   },
   {
    "duration": 6,
    "start_time": "2024-10-08T15:59:41.955Z"
   },
   {
    "duration": 5,
    "start_time": "2024-10-08T15:59:41.965Z"
   },
   {
    "duration": 6,
    "start_time": "2024-10-08T15:59:41.971Z"
   },
   {
    "duration": 274,
    "start_time": "2024-10-08T15:59:41.979Z"
   },
   {
    "duration": 6,
    "start_time": "2024-10-08T16:10:22.066Z"
   },
   {
    "duration": 5,
    "start_time": "2024-10-08T16:10:44.022Z"
   },
   {
    "duration": 220,
    "start_time": "2024-10-08T16:10:52.530Z"
   },
   {
    "duration": 8,
    "start_time": "2024-10-08T16:11:11.095Z"
   },
   {
    "duration": 224,
    "start_time": "2024-10-08T16:11:16.339Z"
   },
   {
    "duration": 297,
    "start_time": "2024-10-08T16:11:38.641Z"
   },
   {
    "duration": 226,
    "start_time": "2024-10-08T16:11:59.745Z"
   },
   {
    "duration": 228,
    "start_time": "2024-10-08T16:13:46.465Z"
   },
   {
    "duration": 241,
    "start_time": "2024-10-08T16:14:53.024Z"
   },
   {
    "duration": 2629,
    "start_time": "2024-10-08T21:39:40.450Z"
   },
   {
    "duration": 39,
    "start_time": "2024-10-08T21:39:43.081Z"
   },
   {
    "duration": 3,
    "start_time": "2024-10-08T21:39:43.122Z"
   },
   {
    "duration": 5,
    "start_time": "2024-10-08T21:39:43.127Z"
   },
   {
    "duration": 26,
    "start_time": "2024-10-08T21:39:43.136Z"
   },
   {
    "duration": 9,
    "start_time": "2024-10-08T21:39:43.164Z"
   },
   {
    "duration": 10,
    "start_time": "2024-10-08T21:39:43.174Z"
   },
   {
    "duration": 3,
    "start_time": "2024-10-08T21:39:43.186Z"
   },
   {
    "duration": 3,
    "start_time": "2024-10-08T21:39:43.190Z"
   },
   {
    "duration": 6,
    "start_time": "2024-10-08T21:39:43.195Z"
   },
   {
    "duration": 5,
    "start_time": "2024-10-08T21:39:43.202Z"
   },
   {
    "duration": 39,
    "start_time": "2024-10-08T21:39:43.208Z"
   },
   {
    "duration": 5,
    "start_time": "2024-10-08T21:39:43.248Z"
   },
   {
    "duration": 11,
    "start_time": "2024-10-08T21:39:43.257Z"
   },
   {
    "duration": 4,
    "start_time": "2024-10-08T21:39:43.270Z"
   },
   {
    "duration": 8,
    "start_time": "2024-10-08T21:39:43.275Z"
   },
   {
    "duration": 255,
    "start_time": "2024-10-08T21:39:43.284Z"
   },
   {
    "duration": 4,
    "start_time": "2024-10-08T21:39:43.542Z"
   },
   {
    "duration": 5,
    "start_time": "2024-10-08T21:39:43.548Z"
   },
   {
    "duration": 16,
    "start_time": "2024-10-08T21:39:43.555Z"
   },
   {
    "duration": 227,
    "start_time": "2024-10-08T21:39:43.572Z"
   },
   {
    "duration": 8,
    "start_time": "2024-10-08T21:39:43.802Z"
   },
   {
    "duration": 4,
    "start_time": "2024-10-08T21:39:43.811Z"
   },
   {
    "duration": 5,
    "start_time": "2024-10-08T21:39:43.816Z"
   },
   {
    "duration": 3,
    "start_time": "2024-10-08T21:39:43.822Z"
   },
   {
    "duration": 3,
    "start_time": "2024-10-08T21:39:43.827Z"
   },
   {
    "duration": 308,
    "start_time": "2024-10-08T21:39:43.844Z"
   },
   {
    "duration": 3,
    "start_time": "2024-10-08T21:39:44.154Z"
   },
   {
    "duration": 114,
    "start_time": "2024-10-08T21:39:44.159Z"
   },
   {
    "duration": 2,
    "start_time": "2024-10-08T21:39:44.275Z"
   },
   {
    "duration": 4,
    "start_time": "2024-10-08T21:39:44.279Z"
   },
   {
    "duration": 1244,
    "start_time": "2024-10-08T21:39:44.284Z"
   },
   {
    "duration": 14,
    "start_time": "2024-10-08T21:39:45.530Z"
   },
   {
    "duration": 4,
    "start_time": "2024-10-08T21:39:45.546Z"
   },
   {
    "duration": 5,
    "start_time": "2024-10-08T21:39:45.551Z"
   },
   {
    "duration": 235,
    "start_time": "2024-10-08T21:39:45.558Z"
   },
   {
    "duration": 7,
    "start_time": "2024-10-08T21:39:45.796Z"
   },
   {
    "duration": 146,
    "start_time": "2024-10-08T21:39:45.805Z"
   },
   {
    "duration": 12,
    "start_time": "2024-10-08T21:39:45.953Z"
   },
   {
    "duration": 7,
    "start_time": "2024-10-08T21:39:45.966Z"
   },
   {
    "duration": 5,
    "start_time": "2024-10-08T21:39:45.977Z"
   },
   {
    "duration": 6,
    "start_time": "2024-10-08T21:39:45.983Z"
   },
   {
    "duration": 351,
    "start_time": "2024-10-08T21:39:45.991Z"
   },
   {
    "duration": 6,
    "start_time": "2024-10-08T21:39:46.344Z"
   },
   {
    "duration": 4,
    "start_time": "2024-10-08T21:40:26.129Z"
   },
   {
    "duration": 230,
    "start_time": "2024-10-08T21:40:37.028Z"
   },
   {
    "duration": 3,
    "start_time": "2024-10-08T21:41:20.109Z"
   },
   {
    "duration": 16,
    "start_time": "2024-10-08T21:41:27.253Z"
   },
   {
    "duration": 14,
    "start_time": "2024-10-08T21:50:03.658Z"
   },
   {
    "duration": 14,
    "start_time": "2024-10-08T21:50:15.780Z"
   },
   {
    "duration": 11,
    "start_time": "2024-10-08T21:50:57.021Z"
   },
   {
    "duration": 4,
    "start_time": "2024-10-08T21:51:22.097Z"
   },
   {
    "duration": 15,
    "start_time": "2024-10-08T21:52:22.889Z"
   },
   {
    "duration": 4,
    "start_time": "2024-10-08T21:52:38.154Z"
   },
   {
    "duration": 15,
    "start_time": "2024-10-08T21:53:20.174Z"
   },
   {
    "duration": 5,
    "start_time": "2024-10-08T21:56:25.116Z"
   },
   {
    "duration": 11,
    "start_time": "2024-10-08T21:56:54.211Z"
   },
   {
    "duration": 7,
    "start_time": "2024-10-08T21:57:40.327Z"
   },
   {
    "duration": 6,
    "start_time": "2024-10-08T21:57:54.888Z"
   },
   {
    "duration": 17,
    "start_time": "2024-10-08T21:59:37.442Z"
   },
   {
    "duration": 7,
    "start_time": "2024-10-08T21:59:53.929Z"
   },
   {
    "duration": 6,
    "start_time": "2024-10-08T22:03:55.194Z"
   },
   {
    "duration": 8,
    "start_time": "2024-10-08T22:05:44.525Z"
   },
   {
    "duration": 8,
    "start_time": "2024-10-08T22:08:37.696Z"
   },
   {
    "duration": 8,
    "start_time": "2024-10-08T22:26:15.129Z"
   },
   {
    "duration": 13,
    "start_time": "2024-10-08T22:30:57.491Z"
   },
   {
    "duration": 3,
    "start_time": "2024-10-08T22:32:28.805Z"
   },
   {
    "duration": 3,
    "start_time": "2024-10-08T22:32:32.226Z"
   },
   {
    "duration": 6,
    "start_time": "2024-10-08T22:32:34.646Z"
   },
   {
    "duration": 4,
    "start_time": "2024-10-08T22:32:36.462Z"
   },
   {
    "duration": 6,
    "start_time": "2024-10-08T22:33:57.509Z"
   },
   {
    "duration": 4,
    "start_time": "2024-10-08T22:33:59.447Z"
   },
   {
    "duration": 221,
    "start_time": "2024-10-08T22:35:30.676Z"
   },
   {
    "duration": 733,
    "start_time": "2024-10-08T22:35:52.329Z"
   },
   {
    "duration": 225,
    "start_time": "2024-10-08T22:36:11.036Z"
   },
   {
    "duration": 229,
    "start_time": "2024-10-08T22:37:55.484Z"
   },
   {
    "duration": 226,
    "start_time": "2024-10-08T22:38:15.360Z"
   },
   {
    "duration": 224,
    "start_time": "2024-10-08T22:38:22.132Z"
   },
   {
    "duration": 5,
    "start_time": "2024-10-08T22:39:46.566Z"
   },
   {
    "duration": 230,
    "start_time": "2024-10-08T22:39:53.232Z"
   },
   {
    "duration": 4,
    "start_time": "2024-10-08T22:40:35.174Z"
   },
   {
    "duration": 18,
    "start_time": "2024-10-08T22:42:16.901Z"
   },
   {
    "duration": 11,
    "start_time": "2024-10-08T22:42:25.518Z"
   },
   {
    "duration": 5,
    "start_time": "2024-10-08T22:46:56.736Z"
   },
   {
    "duration": 5,
    "start_time": "2024-10-08T22:47:23.074Z"
   },
   {
    "duration": 5,
    "start_time": "2024-10-08T22:47:46.643Z"
   },
   {
    "duration": 387,
    "start_time": "2024-10-08T22:49:17.123Z"
   },
   {
    "duration": 5,
    "start_time": "2024-10-08T22:49:58.911Z"
   },
   {
    "duration": 4,
    "start_time": "2024-10-08T22:51:12.079Z"
   },
   {
    "duration": 6,
    "start_time": "2024-10-08T22:54:09.392Z"
   },
   {
    "duration": 223,
    "start_time": "2024-10-08T22:54:17.266Z"
   },
   {
    "duration": 5,
    "start_time": "2024-10-08T22:58:05.886Z"
   },
   {
    "duration": 213,
    "start_time": "2024-10-08T23:07:58.860Z"
   },
   {
    "duration": 3,
    "start_time": "2024-10-08T23:09:36.104Z"
   },
   {
    "duration": 13,
    "start_time": "2024-10-08T23:10:05.119Z"
   },
   {
    "duration": 14,
    "start_time": "2024-10-08T23:10:32.652Z"
   },
   {
    "duration": 4,
    "start_time": "2024-10-08T23:12:04.539Z"
   },
   {
    "duration": 317,
    "start_time": "2024-10-08T23:12:07.654Z"
   },
   {
    "duration": 4,
    "start_time": "2024-10-08T23:13:05.476Z"
   },
   {
    "duration": 281,
    "start_time": "2024-10-08T23:13:08.339Z"
   },
   {
    "duration": 4,
    "start_time": "2024-10-08T23:13:44.979Z"
   },
   {
    "duration": 24,
    "start_time": "2024-10-08T23:13:47.415Z"
   },
   {
    "duration": 4,
    "start_time": "2024-10-08T23:13:59.193Z"
   },
   {
    "duration": 284,
    "start_time": "2024-10-08T23:14:01.962Z"
   },
   {
    "duration": 198,
    "start_time": "2024-10-08T23:15:44.870Z"
   },
   {
    "duration": 359,
    "start_time": "2024-10-08T23:16:40.198Z"
   },
   {
    "duration": 4,
    "start_time": "2024-10-08T23:35:48.169Z"
   },
   {
    "duration": 267,
    "start_time": "2024-10-08T23:35:50.625Z"
   },
   {
    "duration": 4,
    "start_time": "2024-10-08T23:39:51.940Z"
   },
   {
    "duration": 221,
    "start_time": "2024-10-08T23:39:53.950Z"
   },
   {
    "duration": 3,
    "start_time": "2024-10-08T23:40:20.677Z"
   },
   {
    "duration": 273,
    "start_time": "2024-10-08T23:40:22.428Z"
   },
   {
    "duration": 4,
    "start_time": "2024-10-08T23:41:56.541Z"
   },
   {
    "duration": 1934,
    "start_time": "2024-10-08T23:41:58.754Z"
   },
   {
    "duration": 5,
    "start_time": "2024-10-08T23:42:09.352Z"
   },
   {
    "duration": 1231,
    "start_time": "2024-10-08T23:42:12.735Z"
   },
   {
    "duration": 3,
    "start_time": "2024-10-08T23:42:39.965Z"
   },
   {
    "duration": 849,
    "start_time": "2024-10-08T23:42:42.111Z"
   },
   {
    "duration": 3,
    "start_time": "2024-10-09T01:07:45.422Z"
   },
   {
    "duration": 18,
    "start_time": "2024-10-09T01:07:49.368Z"
   },
   {
    "duration": 6,
    "start_time": "2024-10-09T01:08:03.904Z"
   },
   {
    "duration": 3,
    "start_time": "2024-10-09T01:08:18.557Z"
   },
   {
    "duration": 9,
    "start_time": "2024-10-09T01:08:22.076Z"
   },
   {
    "duration": 5,
    "start_time": "2024-10-09T01:08:36.825Z"
   },
   {
    "duration": 8,
    "start_time": "2024-10-09T01:08:55.931Z"
   },
   {
    "duration": 239,
    "start_time": "2024-10-09T01:09:17.475Z"
   },
   {
    "duration": 6,
    "start_time": "2024-10-09T01:09:54.134Z"
   },
   {
    "duration": 6,
    "start_time": "2024-10-09T01:09:56.567Z"
   },
   {
    "duration": 239,
    "start_time": "2024-10-09T01:09:58.217Z"
   },
   {
    "duration": 778,
    "start_time": "2024-10-09T01:10:20.220Z"
   },
   {
    "duration": 24,
    "start_time": "2024-10-09T01:10:21.000Z"
   },
   {
    "duration": 3,
    "start_time": "2024-10-09T01:10:21.026Z"
   },
   {
    "duration": 16,
    "start_time": "2024-10-09T01:10:21.031Z"
   },
   {
    "duration": 21,
    "start_time": "2024-10-09T01:10:21.049Z"
   },
   {
    "duration": 14,
    "start_time": "2024-10-09T01:10:21.072Z"
   },
   {
    "duration": 10,
    "start_time": "2024-10-09T01:10:21.087Z"
   },
   {
    "duration": 7,
    "start_time": "2024-10-09T01:10:21.099Z"
   },
   {
    "duration": 35,
    "start_time": "2024-10-09T01:10:21.109Z"
   },
   {
    "duration": 8,
    "start_time": "2024-10-09T01:10:21.149Z"
   },
   {
    "duration": 4,
    "start_time": "2024-10-09T01:10:21.159Z"
   },
   {
    "duration": 13,
    "start_time": "2024-10-09T01:10:21.164Z"
   },
   {
    "duration": 4,
    "start_time": "2024-10-09T01:10:21.179Z"
   },
   {
    "duration": 281,
    "start_time": "2024-10-09T01:10:21.185Z"
   },
   {
    "duration": 8,
    "start_time": "2024-10-09T01:10:21.467Z"
   },
   {
    "duration": 268,
    "start_time": "2024-10-09T01:10:21.476Z"
   },
   {
    "duration": 4,
    "start_time": "2024-10-09T01:10:21.746Z"
   },
   {
    "duration": 5,
    "start_time": "2024-10-09T01:10:21.752Z"
   },
   {
    "duration": 17,
    "start_time": "2024-10-09T01:10:21.759Z"
   },
   {
    "duration": 245,
    "start_time": "2024-10-09T01:10:21.778Z"
   },
   {
    "duration": 8,
    "start_time": "2024-10-09T01:10:22.025Z"
   },
   {
    "duration": 3,
    "start_time": "2024-10-09T01:10:22.035Z"
   },
   {
    "duration": 4,
    "start_time": "2024-10-09T01:10:22.043Z"
   },
   {
    "duration": 3,
    "start_time": "2024-10-09T01:10:22.048Z"
   },
   {
    "duration": 3,
    "start_time": "2024-10-09T01:10:22.053Z"
   },
   {
    "duration": 299,
    "start_time": "2024-10-09T01:10:22.058Z"
   },
   {
    "duration": 3,
    "start_time": "2024-10-09T01:10:22.359Z"
   },
   {
    "duration": 107,
    "start_time": "2024-10-09T01:10:22.367Z"
   },
   {
    "duration": 3,
    "start_time": "2024-10-09T01:10:22.476Z"
   },
   {
    "duration": 3,
    "start_time": "2024-10-09T01:10:22.481Z"
   },
   {
    "duration": 951,
    "start_time": "2024-10-09T01:10:22.486Z"
   },
   {
    "duration": 6,
    "start_time": "2024-10-09T01:10:23.438Z"
   },
   {
    "duration": 7,
    "start_time": "2024-10-09T01:10:23.445Z"
   },
   {
    "duration": 5,
    "start_time": "2024-10-09T01:10:23.453Z"
   },
   {
    "duration": 237,
    "start_time": "2024-10-09T01:10:23.459Z"
   },
   {
    "duration": 7,
    "start_time": "2024-10-09T01:10:23.697Z"
   },
   {
    "duration": 144,
    "start_time": "2024-10-09T01:10:23.706Z"
   },
   {
    "duration": 13,
    "start_time": "2024-10-09T01:10:23.852Z"
   },
   {
    "duration": 7,
    "start_time": "2024-10-09T01:10:23.866Z"
   },
   {
    "duration": 5,
    "start_time": "2024-10-09T01:10:23.875Z"
   },
   {
    "duration": 5,
    "start_time": "2024-10-09T01:10:23.881Z"
   },
   {
    "duration": 278,
    "start_time": "2024-10-09T01:10:23.888Z"
   },
   {
    "duration": 8,
    "start_time": "2024-10-09T01:10:24.168Z"
   },
   {
    "duration": 6,
    "start_time": "2024-10-09T01:10:24.178Z"
   },
   {
    "duration": 2776,
    "start_time": "2024-10-09T15:29:20.028Z"
   },
   {
    "duration": 38,
    "start_time": "2024-10-09T15:29:22.806Z"
   },
   {
    "duration": 3,
    "start_time": "2024-10-09T15:29:22.846Z"
   },
   {
    "duration": 7,
    "start_time": "2024-10-09T15:29:22.851Z"
   },
   {
    "duration": 22,
    "start_time": "2024-10-09T15:29:22.860Z"
   },
   {
    "duration": 16,
    "start_time": "2024-10-09T15:29:22.884Z"
   },
   {
    "duration": 32,
    "start_time": "2024-10-09T15:29:22.902Z"
   },
   {
    "duration": 8,
    "start_time": "2024-10-09T15:29:22.936Z"
   },
   {
    "duration": 4,
    "start_time": "2024-10-09T15:29:22.946Z"
   },
   {
    "duration": 5,
    "start_time": "2024-10-09T15:29:22.954Z"
   },
   {
    "duration": 4,
    "start_time": "2024-10-09T15:29:22.961Z"
   },
   {
    "duration": 13,
    "start_time": "2024-10-09T15:29:22.966Z"
   },
   {
    "duration": 3,
    "start_time": "2024-10-09T15:29:22.981Z"
   },
   {
    "duration": 273,
    "start_time": "2024-10-09T15:29:22.986Z"
   },
   {
    "duration": 7,
    "start_time": "2024-10-09T15:29:23.261Z"
   },
   {
    "duration": 221,
    "start_time": "2024-10-09T15:29:23.269Z"
   },
   {
    "duration": 5,
    "start_time": "2024-10-09T15:29:23.492Z"
   },
   {
    "duration": 5,
    "start_time": "2024-10-09T15:29:23.499Z"
   },
   {
    "duration": 31,
    "start_time": "2024-10-09T15:29:23.507Z"
   },
   {
    "duration": 288,
    "start_time": "2024-10-09T15:29:23.540Z"
   },
   {
    "duration": 7,
    "start_time": "2024-10-09T15:29:23.830Z"
   },
   {
    "duration": 3,
    "start_time": "2024-10-09T15:29:23.839Z"
   },
   {
    "duration": 5,
    "start_time": "2024-10-09T15:29:23.844Z"
   },
   {
    "duration": 6,
    "start_time": "2024-10-09T15:29:23.852Z"
   },
   {
    "duration": 10,
    "start_time": "2024-10-09T15:29:23.860Z"
   },
   {
    "duration": 301,
    "start_time": "2024-10-09T15:29:23.873Z"
   },
   {
    "duration": 2,
    "start_time": "2024-10-09T15:29:24.176Z"
   },
   {
    "duration": 104,
    "start_time": "2024-10-09T15:29:24.183Z"
   },
   {
    "duration": 4,
    "start_time": "2024-10-09T15:29:24.290Z"
   },
   {
    "duration": 4,
    "start_time": "2024-10-09T15:29:24.297Z"
   },
   {
    "duration": 949,
    "start_time": "2024-10-09T15:29:24.302Z"
   },
   {
    "duration": 5,
    "start_time": "2024-10-09T15:29:25.253Z"
   },
   {
    "duration": 4,
    "start_time": "2024-10-09T15:29:25.259Z"
   },
   {
    "duration": 5,
    "start_time": "2024-10-09T15:29:25.265Z"
   },
   {
    "duration": 238,
    "start_time": "2024-10-09T15:29:25.271Z"
   },
   {
    "duration": 13,
    "start_time": "2024-10-09T15:29:25.511Z"
   },
   {
    "duration": 161,
    "start_time": "2024-10-09T15:29:25.526Z"
   },
   {
    "duration": 11,
    "start_time": "2024-10-09T15:29:25.689Z"
   },
   {
    "duration": 6,
    "start_time": "2024-10-09T15:29:25.701Z"
   },
   {
    "duration": 5,
    "start_time": "2024-10-09T15:29:25.723Z"
   },
   {
    "duration": 5,
    "start_time": "2024-10-09T15:29:25.730Z"
   },
   {
    "duration": 257,
    "start_time": "2024-10-09T15:29:25.737Z"
   },
   {
    "duration": 7,
    "start_time": "2024-10-09T15:29:25.996Z"
   },
   {
    "duration": 22,
    "start_time": "2024-10-09T15:29:26.005Z"
   },
   {
    "duration": 3,
    "start_time": "2024-10-09T15:31:18.074Z"
   },
   {
    "duration": 1566,
    "start_time": "2024-10-09T15:31:25.868Z"
   },
   {
    "duration": 3,
    "start_time": "2024-10-09T15:32:18.840Z"
   },
   {
    "duration": 1447,
    "start_time": "2024-10-09T15:32:22.937Z"
   },
   {
    "duration": 4,
    "start_time": "2024-10-09T15:32:55.323Z"
   },
   {
    "duration": 1577,
    "start_time": "2024-10-09T15:32:56.940Z"
   },
   {
    "duration": 3,
    "start_time": "2024-10-09T15:33:04.415Z"
   },
   {
    "duration": 964,
    "start_time": "2024-10-09T15:33:06.820Z"
   },
   {
    "duration": 7,
    "start_time": "2024-10-09T15:50:20.845Z"
   },
   {
    "duration": 4,
    "start_time": "2024-10-09T16:17:08.142Z"
   },
   {
    "duration": 1609,
    "start_time": "2024-10-09T16:17:11.762Z"
   },
   {
    "duration": 3,
    "start_time": "2024-10-09T16:17:35.057Z"
   },
   {
    "duration": 1654,
    "start_time": "2024-10-09T16:17:37.887Z"
   },
   {
    "duration": 3,
    "start_time": "2024-10-09T16:17:58.225Z"
   },
   {
    "duration": 1007,
    "start_time": "2024-10-09T16:18:03.298Z"
   },
   {
    "duration": 2569,
    "start_time": "2024-10-09T22:49:54.320Z"
   },
   {
    "duration": 40,
    "start_time": "2024-10-09T22:49:56.892Z"
   },
   {
    "duration": 3,
    "start_time": "2024-10-09T22:49:56.934Z"
   },
   {
    "duration": 4,
    "start_time": "2024-10-09T22:49:56.940Z"
   },
   {
    "duration": 22,
    "start_time": "2024-10-09T22:49:56.946Z"
   },
   {
    "duration": 14,
    "start_time": "2024-10-09T22:49:56.970Z"
   },
   {
    "duration": 32,
    "start_time": "2024-10-09T22:49:56.985Z"
   },
   {
    "duration": 7,
    "start_time": "2024-10-09T22:49:57.019Z"
   },
   {
    "duration": 4,
    "start_time": "2024-10-09T22:49:57.027Z"
   },
   {
    "duration": 5,
    "start_time": "2024-10-09T22:49:57.035Z"
   },
   {
    "duration": 3,
    "start_time": "2024-10-09T22:49:57.042Z"
   },
   {
    "duration": 11,
    "start_time": "2024-10-09T22:49:57.048Z"
   },
   {
    "duration": 5,
    "start_time": "2024-10-09T22:49:57.061Z"
   },
   {
    "duration": 290,
    "start_time": "2024-10-09T22:49:57.067Z"
   },
   {
    "duration": 8,
    "start_time": "2024-10-09T22:49:57.359Z"
   },
   {
    "duration": 236,
    "start_time": "2024-10-09T22:49:57.369Z"
   },
   {
    "duration": 5,
    "start_time": "2024-10-09T22:49:57.606Z"
   },
   {
    "duration": 8,
    "start_time": "2024-10-09T22:49:57.612Z"
   },
   {
    "duration": 17,
    "start_time": "2024-10-09T22:49:57.622Z"
   },
   {
    "duration": 244,
    "start_time": "2024-10-09T22:49:57.641Z"
   },
   {
    "duration": 8,
    "start_time": "2024-10-09T22:49:57.888Z"
   },
   {
    "duration": 3,
    "start_time": "2024-10-09T22:49:57.898Z"
   },
   {
    "duration": 8,
    "start_time": "2024-10-09T22:49:57.903Z"
   },
   {
    "duration": 3,
    "start_time": "2024-10-09T22:49:57.913Z"
   },
   {
    "duration": 4,
    "start_time": "2024-10-09T22:49:57.918Z"
   },
   {
    "duration": 289,
    "start_time": "2024-10-09T22:49:57.924Z"
   },
   {
    "duration": 2,
    "start_time": "2024-10-09T22:49:58.216Z"
   },
   {
    "duration": 156,
    "start_time": "2024-10-09T22:49:58.222Z"
   },
   {
    "duration": 3,
    "start_time": "2024-10-09T22:49:58.380Z"
   },
   {
    "duration": 3,
    "start_time": "2024-10-09T22:49:58.385Z"
   },
   {
    "duration": 948,
    "start_time": "2024-10-09T22:49:58.389Z"
   },
   {
    "duration": 4,
    "start_time": "2024-10-09T22:49:59.339Z"
   },
   {
    "duration": 4,
    "start_time": "2024-10-09T22:49:59.345Z"
   },
   {
    "duration": 5,
    "start_time": "2024-10-09T22:49:59.351Z"
   },
   {
    "duration": 246,
    "start_time": "2024-10-09T22:49:59.358Z"
   },
   {
    "duration": 7,
    "start_time": "2024-10-09T22:49:59.606Z"
   },
   {
    "duration": 161,
    "start_time": "2024-10-09T22:49:59.614Z"
   },
   {
    "duration": 12,
    "start_time": "2024-10-09T22:49:59.777Z"
   },
   {
    "duration": 18,
    "start_time": "2024-10-09T22:49:59.791Z"
   },
   {
    "duration": 5,
    "start_time": "2024-10-09T22:49:59.810Z"
   },
   {
    "duration": 5,
    "start_time": "2024-10-09T22:49:59.817Z"
   },
   {
    "duration": 322,
    "start_time": "2024-10-09T22:49:59.823Z"
   },
   {
    "duration": 8,
    "start_time": "2024-10-09T22:50:00.147Z"
   },
   {
    "duration": 7,
    "start_time": "2024-10-09T22:50:00.157Z"
   },
   {
    "duration": 5,
    "start_time": "2024-10-09T23:00:26.716Z"
   },
   {
    "duration": 12,
    "start_time": "2024-10-09T23:03:47.777Z"
   },
   {
    "duration": 632,
    "start_time": "2024-10-09T23:05:02.855Z"
   },
   {
    "duration": 5,
    "start_time": "2024-10-09T23:05:12.774Z"
   },
   {
    "duration": 2541,
    "start_time": "2024-10-10T15:44:32.811Z"
   },
   {
    "duration": 39,
    "start_time": "2024-10-10T15:44:37.104Z"
   },
   {
    "duration": 3,
    "start_time": "2024-10-10T15:44:40.784Z"
   },
   {
    "duration": 5,
    "start_time": "2024-10-10T15:44:42.682Z"
   },
   {
    "duration": 22,
    "start_time": "2024-10-10T15:44:45.186Z"
   },
   {
    "duration": 15,
    "start_time": "2024-10-10T15:44:49.437Z"
   },
   {
    "duration": 10,
    "start_time": "2024-10-10T15:45:00.355Z"
   },
   {
    "duration": 215,
    "start_time": "2024-10-10T15:45:21.497Z"
   },
   {
    "duration": 5,
    "start_time": "2024-10-10T15:56:22.662Z"
   },
   {
    "duration": 11,
    "start_time": "2024-10-10T15:56:58.177Z"
   },
   {
    "duration": 5,
    "start_time": "2024-10-10T15:57:16.395Z"
   },
   {
    "duration": 15,
    "start_time": "2024-10-10T16:03:26.387Z"
   },
   {
    "duration": 12,
    "start_time": "2024-10-10T16:03:29.245Z"
   },
   {
    "duration": 6,
    "start_time": "2024-10-10T16:04:42.402Z"
   },
   {
    "duration": 20,
    "start_time": "2024-10-10T16:04:59.498Z"
   },
   {
    "duration": 67,
    "start_time": "2024-10-10T16:05:21.862Z"
   },
   {
    "duration": 13,
    "start_time": "2024-10-10T16:05:31.869Z"
   },
   {
    "duration": 2714,
    "start_time": "2024-10-10T17:15:54.634Z"
   },
   {
    "duration": 47,
    "start_time": "2024-10-10T17:15:57.351Z"
   },
   {
    "duration": 3,
    "start_time": "2024-10-10T17:15:57.401Z"
   },
   {
    "duration": 6,
    "start_time": "2024-10-10T17:15:57.407Z"
   },
   {
    "duration": 23,
    "start_time": "2024-10-10T17:15:57.416Z"
   },
   {
    "duration": 20,
    "start_time": "2024-10-10T17:15:57.441Z"
   },
   {
    "duration": 34,
    "start_time": "2024-10-10T17:15:57.464Z"
   },
   {
    "duration": 163,
    "start_time": "2024-10-10T17:15:57.500Z"
   },
   {
    "duration": 428,
    "start_time": "2024-10-10T17:16:09.554Z"
   },
   {
    "duration": 5,
    "start_time": "2024-10-10T17:16:19.407Z"
   },
   {
    "duration": 7,
    "start_time": "2024-10-10T17:16:27.068Z"
   },
   {
    "duration": 4,
    "start_time": "2024-10-10T17:17:22.240Z"
   },
   {
    "duration": 2491,
    "start_time": "2024-10-10T21:57:25.856Z"
   },
   {
    "duration": 41,
    "start_time": "2024-10-10T21:57:28.350Z"
   },
   {
    "duration": 3,
    "start_time": "2024-10-10T21:57:28.392Z"
   },
   {
    "duration": 5,
    "start_time": "2024-10-10T21:57:28.398Z"
   },
   {
    "duration": 20,
    "start_time": "2024-10-10T21:57:28.405Z"
   },
   {
    "duration": 14,
    "start_time": "2024-10-10T21:57:28.427Z"
   },
   {
    "duration": 10,
    "start_time": "2024-10-10T21:57:28.442Z"
   },
   {
    "duration": 5,
    "start_time": "2024-10-10T21:57:38.637Z"
   },
   {
    "duration": 9,
    "start_time": "2024-10-10T21:58:10.271Z"
   },
   {
    "duration": 4,
    "start_time": "2024-10-10T21:58:37.116Z"
   },
   {
    "duration": 9,
    "start_time": "2024-10-10T22:03:23.653Z"
   },
   {
    "duration": 10,
    "start_time": "2024-10-10T22:03:27.669Z"
   },
   {
    "duration": 12,
    "start_time": "2024-10-10T22:03:55.814Z"
   },
   {
    "duration": 5,
    "start_time": "2024-10-10T22:04:13.114Z"
   },
   {
    "duration": 7,
    "start_time": "2024-10-10T22:04:40.897Z"
   },
   {
    "duration": 782,
    "start_time": "2024-10-10T22:07:18.843Z"
   },
   {
    "duration": 125,
    "start_time": "2024-10-10T22:07:43.714Z"
   },
   {
    "duration": 73,
    "start_time": "2024-10-10T22:10:41.166Z"
   },
   {
    "duration": 834,
    "start_time": "2024-10-10T22:11:53.104Z"
   },
   {
    "duration": 25,
    "start_time": "2024-10-10T22:11:53.940Z"
   },
   {
    "duration": 3,
    "start_time": "2024-10-10T22:11:53.967Z"
   },
   {
    "duration": 15,
    "start_time": "2024-10-10T22:11:53.972Z"
   },
   {
    "duration": 20,
    "start_time": "2024-10-10T22:11:53.990Z"
   },
   {
    "duration": 13,
    "start_time": "2024-10-10T22:11:54.011Z"
   },
   {
    "duration": 9,
    "start_time": "2024-10-10T22:11:54.026Z"
   },
   {
    "duration": 6,
    "start_time": "2024-10-10T22:11:54.037Z"
   },
   {
    "duration": 11,
    "start_time": "2024-10-10T22:12:04.640Z"
   },
   {
    "duration": 7,
    "start_time": "2024-10-10T22:12:20.565Z"
   },
   {
    "duration": 853,
    "start_time": "2024-10-10T22:12:55.111Z"
   },
   {
    "duration": 67,
    "start_time": "2024-10-10T22:13:45.026Z"
   },
   {
    "duration": 68,
    "start_time": "2024-10-10T22:13:54.069Z"
   },
   {
    "duration": 797,
    "start_time": "2024-10-10T22:17:53.722Z"
   },
   {
    "duration": 33,
    "start_time": "2024-10-10T22:17:57.158Z"
   },
   {
    "duration": 4,
    "start_time": "2024-10-10T22:17:59.050Z"
   },
   {
    "duration": 5,
    "start_time": "2024-10-10T22:18:00.874Z"
   },
   {
    "duration": 22,
    "start_time": "2024-10-10T22:18:02.912Z"
   },
   {
    "duration": 13,
    "start_time": "2024-10-10T22:18:08.216Z"
   },
   {
    "duration": 11,
    "start_time": "2024-10-10T22:18:10.113Z"
   },
   {
    "duration": 16,
    "start_time": "2024-10-10T22:18:21.646Z"
   },
   {
    "duration": 5,
    "start_time": "2024-10-10T22:18:35.639Z"
   },
   {
    "duration": 5,
    "start_time": "2024-10-10T22:18:45.129Z"
   },
   {
    "duration": 7,
    "start_time": "2024-10-10T22:19:01.169Z"
   },
   {
    "duration": 785,
    "start_time": "2024-10-10T22:19:10.532Z"
   },
   {
    "duration": 14,
    "start_time": "2024-10-10T22:19:22.795Z"
   },
   {
    "duration": 7,
    "start_time": "2024-10-10T22:19:30.636Z"
   },
   {
    "duration": 12,
    "start_time": "2024-10-10T22:19:50.966Z"
   },
   {
    "duration": 9,
    "start_time": "2024-10-10T22:22:09.672Z"
   },
   {
    "duration": 10,
    "start_time": "2024-10-10T22:22:20.532Z"
   },
   {
    "duration": 5,
    "start_time": "2024-10-10T22:23:25.308Z"
   },
   {
    "duration": 5,
    "start_time": "2024-10-10T22:23:46.205Z"
   },
   {
    "duration": 5,
    "start_time": "2024-10-10T22:24:06.201Z"
   },
   {
    "duration": 772,
    "start_time": "2024-10-10T22:24:28.958Z"
   },
   {
    "duration": 25,
    "start_time": "2024-10-10T22:24:29.732Z"
   },
   {
    "duration": 3,
    "start_time": "2024-10-10T22:24:29.758Z"
   },
   {
    "duration": 6,
    "start_time": "2024-10-10T22:24:29.763Z"
   },
   {
    "duration": 34,
    "start_time": "2024-10-10T22:24:29.770Z"
   },
   {
    "duration": 13,
    "start_time": "2024-10-10T22:24:29.805Z"
   },
   {
    "duration": 15,
    "start_time": "2024-10-10T22:24:29.820Z"
   },
   {
    "duration": 6,
    "start_time": "2024-10-10T22:24:29.837Z"
   },
   {
    "duration": 5,
    "start_time": "2024-10-10T22:24:43.798Z"
   },
   {
    "duration": 6,
    "start_time": "2024-10-10T22:25:01.805Z"
   },
   {
    "duration": 5,
    "start_time": "2024-10-10T22:25:04.446Z"
   },
   {
    "duration": 5,
    "start_time": "2024-10-10T22:25:08.710Z"
   },
   {
    "duration": 5,
    "start_time": "2024-10-10T22:25:09.672Z"
   },
   {
    "duration": 5,
    "start_time": "2024-10-10T22:25:10.971Z"
   },
   {
    "duration": 5,
    "start_time": "2024-10-10T22:25:11.686Z"
   },
   {
    "duration": 6,
    "start_time": "2024-10-10T22:25:13.731Z"
   },
   {
    "duration": 5,
    "start_time": "2024-10-10T22:25:14.513Z"
   },
   {
    "duration": 5,
    "start_time": "2024-10-10T22:25:15.337Z"
   },
   {
    "duration": 158,
    "start_time": "2024-10-10T22:25:59.072Z"
   },
   {
    "duration": 863,
    "start_time": "2024-10-10T22:26:04.516Z"
   },
   {
    "duration": 25,
    "start_time": "2024-10-10T22:26:08.501Z"
   },
   {
    "duration": 3,
    "start_time": "2024-10-10T22:26:13.753Z"
   },
   {
    "duration": 5,
    "start_time": "2024-10-10T22:26:16.174Z"
   },
   {
    "duration": 21,
    "start_time": "2024-10-10T22:26:18.028Z"
   },
   {
    "duration": 15,
    "start_time": "2024-10-10T22:26:23.477Z"
   },
   {
    "duration": 5,
    "start_time": "2024-10-10T22:26:54.517Z"
   },
   {
    "duration": 4,
    "start_time": "2024-10-10T22:28:01.620Z"
   },
   {
    "duration": 7,
    "start_time": "2024-10-10T22:28:18.196Z"
   },
   {
    "duration": 827,
    "start_time": "2024-10-10T22:33:42.523Z"
   },
   {
    "duration": 24,
    "start_time": "2024-10-10T22:33:43.352Z"
   },
   {
    "duration": 9,
    "start_time": "2024-10-10T22:33:43.378Z"
   },
   {
    "duration": 5,
    "start_time": "2024-10-10T22:33:43.391Z"
   },
   {
    "duration": 23,
    "start_time": "2024-10-10T22:33:43.397Z"
   },
   {
    "duration": 13,
    "start_time": "2024-10-10T22:33:43.421Z"
   },
   {
    "duration": 17,
    "start_time": "2024-10-10T22:33:43.436Z"
   },
   {
    "duration": 37,
    "start_time": "2024-10-10T22:33:43.455Z"
   },
   {
    "duration": 6,
    "start_time": "2024-10-10T22:34:29.423Z"
   },
   {
    "duration": 5,
    "start_time": "2024-10-10T22:34:31.791Z"
   },
   {
    "duration": 829,
    "start_time": "2024-10-10T22:36:33.305Z"
   },
   {
    "duration": 25,
    "start_time": "2024-10-10T22:36:34.136Z"
   },
   {
    "duration": 3,
    "start_time": "2024-10-10T22:36:34.162Z"
   },
   {
    "duration": 5,
    "start_time": "2024-10-10T22:36:34.167Z"
   },
   {
    "duration": 31,
    "start_time": "2024-10-10T22:36:34.174Z"
   },
   {
    "duration": 14,
    "start_time": "2024-10-10T22:36:34.207Z"
   },
   {
    "duration": 15,
    "start_time": "2024-10-10T22:36:34.223Z"
   },
   {
    "duration": 3,
    "start_time": "2024-10-10T22:36:45.896Z"
   },
   {
    "duration": 5,
    "start_time": "2024-10-10T22:36:59.483Z"
   },
   {
    "duration": 5,
    "start_time": "2024-10-10T22:37:43.056Z"
   },
   {
    "duration": 4,
    "start_time": "2024-10-10T22:37:49.168Z"
   },
   {
    "duration": 8,
    "start_time": "2024-10-10T22:38:48.689Z"
   },
   {
    "duration": 5,
    "start_time": "2024-10-10T22:39:54.803Z"
   },
   {
    "duration": 7,
    "start_time": "2024-10-10T22:40:01.459Z"
   },
   {
    "duration": 7,
    "start_time": "2024-10-10T23:37:57.396Z"
   },
   {
    "duration": 153,
    "start_time": "2024-10-10T23:38:09.904Z"
   },
   {
    "duration": 4,
    "start_time": "2024-10-10T23:38:21.589Z"
   },
   {
    "duration": 857,
    "start_time": "2024-10-10T23:38:32.542Z"
   },
   {
    "duration": 24,
    "start_time": "2024-10-10T23:38:35.408Z"
   },
   {
    "duration": 3,
    "start_time": "2024-10-10T23:38:40.362Z"
   },
   {
    "duration": 6,
    "start_time": "2024-10-10T23:38:43.543Z"
   },
   {
    "duration": 22,
    "start_time": "2024-10-10T23:38:45.447Z"
   },
   {
    "duration": 15,
    "start_time": "2024-10-10T23:38:57.766Z"
   },
   {
    "duration": 73,
    "start_time": "2024-10-10T23:39:00.866Z"
   },
   {
    "duration": 14,
    "start_time": "2024-10-10T23:39:52.041Z"
   },
   {
    "duration": 15,
    "start_time": "2024-10-10T23:40:31.019Z"
   },
   {
    "duration": 4,
    "start_time": "2024-10-10T23:41:39.510Z"
   },
   {
    "duration": 5,
    "start_time": "2024-10-10T23:41:44.664Z"
   },
   {
    "duration": 5,
    "start_time": "2024-10-10T23:42:02.272Z"
   },
   {
    "duration": 16,
    "start_time": "2024-10-10T23:42:15.733Z"
   },
   {
    "duration": 12,
    "start_time": "2024-10-10T23:43:04.507Z"
   },
   {
    "duration": 8,
    "start_time": "2024-10-10T23:44:20.788Z"
   },
   {
    "duration": 5,
    "start_time": "2024-10-10T23:44:50.914Z"
   },
   {
    "duration": 823,
    "start_time": "2024-10-10T23:47:10.898Z"
   },
   {
    "duration": 24,
    "start_time": "2024-10-10T23:47:11.723Z"
   },
   {
    "duration": 3,
    "start_time": "2024-10-10T23:47:11.748Z"
   },
   {
    "duration": 6,
    "start_time": "2024-10-10T23:47:11.752Z"
   },
   {
    "duration": 40,
    "start_time": "2024-10-10T23:47:11.760Z"
   },
   {
    "duration": 13,
    "start_time": "2024-10-10T23:47:11.801Z"
   },
   {
    "duration": 3,
    "start_time": "2024-10-10T23:47:11.816Z"
   },
   {
    "duration": 4,
    "start_time": "2024-10-10T23:47:11.820Z"
   },
   {
    "duration": 15,
    "start_time": "2024-10-10T23:47:11.825Z"
   },
   {
    "duration": 5,
    "start_time": "2024-10-10T23:47:11.841Z"
   },
   {
    "duration": 5,
    "start_time": "2024-10-10T23:47:11.848Z"
   },
   {
    "duration": 4,
    "start_time": "2024-10-10T23:47:11.887Z"
   },
   {
    "duration": 11,
    "start_time": "2024-10-10T23:47:11.893Z"
   },
   {
    "duration": 4,
    "start_time": "2024-10-10T23:47:11.908Z"
   },
   {
    "duration": 245,
    "start_time": "2024-10-10T23:47:11.913Z"
   },
   {
    "duration": 7,
    "start_time": "2024-10-10T23:47:12.159Z"
   },
   {
    "duration": 279,
    "start_time": "2024-10-10T23:47:12.168Z"
   },
   {
    "duration": 5,
    "start_time": "2024-10-10T23:47:12.448Z"
   },
   {
    "duration": 6,
    "start_time": "2024-10-10T23:47:12.454Z"
   },
   {
    "duration": 32,
    "start_time": "2024-10-10T23:47:12.462Z"
   },
   {
    "duration": 219,
    "start_time": "2024-10-10T23:47:12.496Z"
   },
   {
    "duration": 9,
    "start_time": "2024-10-10T23:47:12.716Z"
   },
   {
    "duration": 3,
    "start_time": "2024-10-10T23:47:12.727Z"
   },
   {
    "duration": 5,
    "start_time": "2024-10-10T23:47:12.731Z"
   },
   {
    "duration": 3,
    "start_time": "2024-10-10T23:47:12.737Z"
   },
   {
    "duration": 3,
    "start_time": "2024-10-10T23:47:12.742Z"
   },
   {
    "duration": 287,
    "start_time": "2024-10-10T23:47:12.747Z"
   },
   {
    "duration": 3,
    "start_time": "2024-10-10T23:47:13.036Z"
   },
   {
    "duration": 100,
    "start_time": "2024-10-10T23:47:13.040Z"
   },
   {
    "duration": 6,
    "start_time": "2024-10-10T23:47:13.143Z"
   },
   {
    "duration": 4,
    "start_time": "2024-10-10T23:47:13.151Z"
   },
   {
    "duration": 1001,
    "start_time": "2024-10-10T23:47:13.157Z"
   },
   {
    "duration": 3,
    "start_time": "2024-10-10T23:47:14.160Z"
   },
   {
    "duration": 4,
    "start_time": "2024-10-10T23:47:14.166Z"
   },
   {
    "duration": 5,
    "start_time": "2024-10-10T23:47:14.187Z"
   },
   {
    "duration": 230,
    "start_time": "2024-10-10T23:47:14.193Z"
   },
   {
    "duration": 6,
    "start_time": "2024-10-10T23:47:14.425Z"
   },
   {
    "duration": 144,
    "start_time": "2024-10-10T23:47:14.433Z"
   },
   {
    "duration": 17,
    "start_time": "2024-10-10T23:47:14.578Z"
   },
   {
    "duration": 6,
    "start_time": "2024-10-10T23:47:14.597Z"
   },
   {
    "duration": 5,
    "start_time": "2024-10-10T23:47:14.606Z"
   },
   {
    "duration": 6,
    "start_time": "2024-10-10T23:47:14.612Z"
   },
   {
    "duration": 263,
    "start_time": "2024-10-10T23:47:14.620Z"
   },
   {
    "duration": 9,
    "start_time": "2024-10-10T23:47:14.884Z"
   },
   {
    "duration": 10,
    "start_time": "2024-10-10T23:47:14.894Z"
   },
   {
    "duration": 5,
    "start_time": "2024-10-10T23:48:32.314Z"
   },
   {
    "duration": 3,
    "start_time": "2024-10-10T23:49:05.845Z"
   },
   {
    "duration": 10,
    "start_time": "2024-10-10T23:49:23.148Z"
   },
   {
    "duration": 3,
    "start_time": "2024-10-10T23:49:23.160Z"
   },
   {
    "duration": 9,
    "start_time": "2024-10-10T23:49:23.166Z"
   },
   {
    "duration": 300,
    "start_time": "2024-10-10T23:49:23.178Z"
   },
   {
    "duration": 3,
    "start_time": "2024-10-10T23:49:23.487Z"
   },
   {
    "duration": 77,
    "start_time": "2024-10-10T23:49:23.492Z"
   },
   {
    "duration": 3,
    "start_time": "2024-10-10T23:49:23.571Z"
   },
   {
    "duration": 17,
    "start_time": "2024-10-10T23:49:23.575Z"
   },
   {
    "duration": 1081,
    "start_time": "2024-10-10T23:49:23.595Z"
   },
   {
    "duration": 3,
    "start_time": "2024-10-10T23:49:24.686Z"
   },
   {
    "duration": 4,
    "start_time": "2024-10-10T23:49:24.691Z"
   },
   {
    "duration": 5,
    "start_time": "2024-10-10T23:49:24.696Z"
   },
   {
    "duration": 234,
    "start_time": "2024-10-10T23:49:24.703Z"
   },
   {
    "duration": 5,
    "start_time": "2024-10-10T23:49:24.939Z"
   },
   {
    "duration": 167,
    "start_time": "2024-10-10T23:49:24.946Z"
   },
   {
    "duration": 11,
    "start_time": "2024-10-10T23:49:25.115Z"
   },
   {
    "duration": 6,
    "start_time": "2024-10-10T23:49:25.128Z"
   },
   {
    "duration": 4,
    "start_time": "2024-10-10T23:49:25.136Z"
   },
   {
    "duration": 6,
    "start_time": "2024-10-10T23:49:25.142Z"
   },
   {
    "duration": 274,
    "start_time": "2024-10-10T23:49:25.149Z"
   },
   {
    "duration": 7,
    "start_time": "2024-10-10T23:49:25.425Z"
   },
   {
    "duration": 7,
    "start_time": "2024-10-10T23:49:25.433Z"
   },
   {
    "duration": 776,
    "start_time": "2024-10-10T23:52:55.069Z"
   },
   {
    "duration": 26,
    "start_time": "2024-10-10T23:52:55.847Z"
   },
   {
    "duration": 2,
    "start_time": "2024-10-10T23:52:55.875Z"
   },
   {
    "duration": 5,
    "start_time": "2024-10-10T23:52:55.887Z"
   },
   {
    "duration": 20,
    "start_time": "2024-10-10T23:52:55.894Z"
   },
   {
    "duration": 13,
    "start_time": "2024-10-10T23:52:55.916Z"
   },
   {
    "duration": 3,
    "start_time": "2024-10-10T23:52:55.931Z"
   },
   {
    "duration": 4,
    "start_time": "2024-10-10T23:52:55.936Z"
   },
   {
    "duration": 49,
    "start_time": "2024-10-10T23:52:55.942Z"
   },
   {
    "duration": 5,
    "start_time": "2024-10-10T23:52:55.995Z"
   },
   {
    "duration": 6,
    "start_time": "2024-10-10T23:52:56.002Z"
   },
   {
    "duration": 4,
    "start_time": "2024-10-10T23:52:56.009Z"
   },
   {
    "duration": 11,
    "start_time": "2024-10-10T23:52:56.014Z"
   },
   {
    "duration": 4,
    "start_time": "2024-10-10T23:52:56.027Z"
   },
   {
    "duration": 265,
    "start_time": "2024-10-10T23:52:56.033Z"
   },
   {
    "duration": 8,
    "start_time": "2024-10-10T23:52:56.300Z"
   },
   {
    "duration": 272,
    "start_time": "2024-10-10T23:52:56.309Z"
   },
   {
    "duration": 4,
    "start_time": "2024-10-10T23:52:56.586Z"
   },
   {
    "duration": 5,
    "start_time": "2024-10-10T23:52:56.592Z"
   },
   {
    "duration": 18,
    "start_time": "2024-10-10T23:52:56.599Z"
   },
   {
    "duration": 229,
    "start_time": "2024-10-10T23:52:56.618Z"
   },
   {
    "duration": 8,
    "start_time": "2024-10-10T23:52:56.848Z"
   },
   {
    "duration": 4,
    "start_time": "2024-10-10T23:52:56.858Z"
   },
   {
    "duration": 5,
    "start_time": "2024-10-10T23:52:56.864Z"
   },
   {
    "duration": 3,
    "start_time": "2024-10-10T23:52:56.871Z"
   },
   {
    "duration": 3,
    "start_time": "2024-10-10T23:52:56.886Z"
   },
   {
    "duration": 280,
    "start_time": "2024-10-10T23:52:56.891Z"
   },
   {
    "duration": 2,
    "start_time": "2024-10-10T23:52:57.175Z"
   },
   {
    "duration": 73,
    "start_time": "2024-10-10T23:52:57.178Z"
   },
   {
    "duration": 3,
    "start_time": "2024-10-10T23:52:57.253Z"
   },
   {
    "duration": 3,
    "start_time": "2024-10-10T23:52:57.259Z"
   },
   {
    "duration": 970,
    "start_time": "2024-10-10T23:52:57.264Z"
   },
   {
    "duration": 4,
    "start_time": "2024-10-10T23:52:58.236Z"
   },
   {
    "duration": 4,
    "start_time": "2024-10-10T23:52:58.242Z"
   },
   {
    "duration": 5,
    "start_time": "2024-10-10T23:52:58.248Z"
   },
   {
    "duration": 225,
    "start_time": "2024-10-10T23:52:58.256Z"
   },
   {
    "duration": 6,
    "start_time": "2024-10-10T23:52:58.483Z"
   },
   {
    "duration": 156,
    "start_time": "2024-10-10T23:52:58.491Z"
   },
   {
    "duration": 12,
    "start_time": "2024-10-10T23:52:58.649Z"
   },
   {
    "duration": 6,
    "start_time": "2024-10-10T23:52:58.663Z"
   },
   {
    "duration": 19,
    "start_time": "2024-10-10T23:52:58.670Z"
   },
   {
    "duration": 5,
    "start_time": "2024-10-10T23:52:58.691Z"
   },
   {
    "duration": 255,
    "start_time": "2024-10-10T23:52:58.697Z"
   },
   {
    "duration": 7,
    "start_time": "2024-10-10T23:52:58.954Z"
   },
   {
    "duration": 7,
    "start_time": "2024-10-10T23:52:58.962Z"
   },
   {
    "duration": 2613,
    "start_time": "2024-10-11T14:48:22.926Z"
   },
   {
    "duration": 39,
    "start_time": "2024-10-11T14:48:25.541Z"
   },
   {
    "duration": 3,
    "start_time": "2024-10-11T14:48:25.582Z"
   },
   {
    "duration": 4,
    "start_time": "2024-10-11T14:48:25.588Z"
   },
   {
    "duration": 25,
    "start_time": "2024-10-11T14:48:25.594Z"
   },
   {
    "duration": 16,
    "start_time": "2024-10-11T14:48:25.621Z"
   },
   {
    "duration": 4,
    "start_time": "2024-10-11T14:48:25.638Z"
   },
   {
    "duration": 4,
    "start_time": "2024-10-11T14:48:25.644Z"
   },
   {
    "duration": 17,
    "start_time": "2024-10-11T14:48:25.650Z"
   },
   {
    "duration": 40,
    "start_time": "2024-10-11T14:48:25.670Z"
   },
   {
    "duration": 8,
    "start_time": "2024-10-11T14:48:25.711Z"
   },
   {
    "duration": 5,
    "start_time": "2024-10-11T14:48:25.721Z"
   },
   {
    "duration": 13,
    "start_time": "2024-10-11T14:48:25.727Z"
   },
   {
    "duration": 5,
    "start_time": "2024-10-11T14:48:25.742Z"
   },
   {
    "duration": 265,
    "start_time": "2024-10-11T14:48:25.749Z"
   },
   {
    "duration": 8,
    "start_time": "2024-10-11T14:48:26.016Z"
   },
   {
    "duration": 224,
    "start_time": "2024-10-11T14:48:26.026Z"
   },
   {
    "duration": 5,
    "start_time": "2024-10-11T14:48:26.251Z"
   },
   {
    "duration": 5,
    "start_time": "2024-10-11T14:48:26.258Z"
   },
   {
    "duration": 18,
    "start_time": "2024-10-11T14:48:26.265Z"
   },
   {
    "duration": 224,
    "start_time": "2024-10-11T14:48:26.309Z"
   },
   {
    "duration": 9,
    "start_time": "2024-10-11T14:48:26.535Z"
   },
   {
    "duration": 3,
    "start_time": "2024-10-11T14:48:26.547Z"
   },
   {
    "duration": 4,
    "start_time": "2024-10-11T14:48:26.552Z"
   },
   {
    "duration": 4,
    "start_time": "2024-10-11T14:48:26.558Z"
   },
   {
    "duration": 4,
    "start_time": "2024-10-11T14:48:26.563Z"
   },
   {
    "duration": 290,
    "start_time": "2024-10-11T14:48:26.569Z"
   },
   {
    "duration": 2,
    "start_time": "2024-10-11T14:48:26.863Z"
   },
   {
    "duration": 82,
    "start_time": "2024-10-11T14:48:26.867Z"
   },
   {
    "duration": 3,
    "start_time": "2024-10-11T14:48:26.951Z"
   },
   {
    "duration": 4,
    "start_time": "2024-10-11T14:48:26.956Z"
   },
   {
    "duration": 976,
    "start_time": "2024-10-11T14:48:26.961Z"
   },
   {
    "duration": 4,
    "start_time": "2024-10-11T14:48:27.939Z"
   },
   {
    "duration": 5,
    "start_time": "2024-10-11T14:48:27.944Z"
   },
   {
    "duration": 6,
    "start_time": "2024-10-11T14:48:27.950Z"
   },
   {
    "duration": 237,
    "start_time": "2024-10-11T14:48:27.957Z"
   },
   {
    "duration": 12,
    "start_time": "2024-10-11T14:48:28.197Z"
   },
   {
    "duration": 148,
    "start_time": "2024-10-11T14:48:28.211Z"
   },
   {
    "duration": 12,
    "start_time": "2024-10-11T14:48:28.361Z"
   },
   {
    "duration": 6,
    "start_time": "2024-10-11T14:48:28.374Z"
   },
   {
    "duration": 6,
    "start_time": "2024-10-11T14:48:28.381Z"
   },
   {
    "duration": 23,
    "start_time": "2024-10-11T14:48:28.389Z"
   },
   {
    "duration": 336,
    "start_time": "2024-10-11T14:48:28.414Z"
   },
   {
    "duration": 7,
    "start_time": "2024-10-11T14:48:28.752Z"
   },
   {
    "duration": 8,
    "start_time": "2024-10-11T14:48:28.761Z"
   },
   {
    "duration": 5,
    "start_time": "2024-10-11T14:55:53.139Z"
   },
   {
    "duration": 6,
    "start_time": "2024-10-11T14:56:17.977Z"
   },
   {
    "duration": 3,
    "start_time": "2024-10-11T14:57:22.039Z"
   },
   {
    "duration": 3,
    "start_time": "2024-10-11T14:57:24.279Z"
   },
   {
    "duration": 373,
    "start_time": "2024-10-11T14:57:55.753Z"
   },
   {
    "duration": 4,
    "start_time": "2024-10-11T15:01:13.301Z"
   },
   {
    "duration": 15,
    "start_time": "2024-10-11T15:02:12.035Z"
   },
   {
    "duration": 14,
    "start_time": "2024-10-11T15:14:03.162Z"
   },
   {
    "duration": 13,
    "start_time": "2024-10-11T15:14:10.522Z"
   },
   {
    "duration": 13,
    "start_time": "2024-10-11T15:14:22.929Z"
   },
   {
    "duration": 5,
    "start_time": "2024-10-11T17:21:08.123Z"
   },
   {
    "duration": 4,
    "start_time": "2024-10-11T17:21:34.575Z"
   },
   {
    "duration": 4,
    "start_time": "2024-10-11T17:22:42.330Z"
   },
   {
    "duration": 151,
    "start_time": "2024-10-11T17:23:14.818Z"
   },
   {
    "duration": 221,
    "start_time": "2024-10-11T17:23:29.656Z"
   },
   {
    "duration": 2533,
    "start_time": "2024-10-12T19:43:25.970Z"
   },
   {
    "duration": 40,
    "start_time": "2024-10-12T19:43:28.506Z"
   },
   {
    "duration": 3,
    "start_time": "2024-10-12T19:43:28.547Z"
   },
   {
    "duration": 4,
    "start_time": "2024-10-12T19:43:28.553Z"
   },
   {
    "duration": 20,
    "start_time": "2024-10-12T19:43:28.558Z"
   },
   {
    "duration": 12,
    "start_time": "2024-10-12T19:43:28.580Z"
   },
   {
    "duration": 6,
    "start_time": "2024-10-12T19:43:28.595Z"
   },
   {
    "duration": 24,
    "start_time": "2024-10-12T19:43:28.602Z"
   },
   {
    "duration": 17,
    "start_time": "2024-10-12T19:43:28.627Z"
   },
   {
    "duration": 6,
    "start_time": "2024-10-12T19:43:28.647Z"
   },
   {
    "duration": 7,
    "start_time": "2024-10-12T19:43:28.654Z"
   },
   {
    "duration": 5,
    "start_time": "2024-10-12T19:43:28.662Z"
   },
   {
    "duration": 10,
    "start_time": "2024-10-12T19:43:28.670Z"
   },
   {
    "duration": 4,
    "start_time": "2024-10-12T19:43:28.682Z"
   },
   {
    "duration": 264,
    "start_time": "2024-10-12T19:43:28.687Z"
   },
   {
    "duration": 6,
    "start_time": "2024-10-12T19:43:28.953Z"
   },
   {
    "duration": 207,
    "start_time": "2024-10-12T19:43:28.962Z"
   },
   {
    "duration": 4,
    "start_time": "2024-10-12T19:43:29.171Z"
   },
   {
    "duration": 6,
    "start_time": "2024-10-12T19:43:29.177Z"
   },
   {
    "duration": 16,
    "start_time": "2024-10-12T19:43:29.184Z"
   },
   {
    "duration": 212,
    "start_time": "2024-10-12T19:43:29.224Z"
   },
   {
    "duration": 7,
    "start_time": "2024-10-12T19:43:29.438Z"
   },
   {
    "duration": 3,
    "start_time": "2024-10-12T19:43:29.447Z"
   },
   {
    "duration": 3,
    "start_time": "2024-10-12T19:43:29.452Z"
   },
   {
    "duration": 3,
    "start_time": "2024-10-12T19:43:29.457Z"
   },
   {
    "duration": 3,
    "start_time": "2024-10-12T19:43:29.462Z"
   },
   {
    "duration": 278,
    "start_time": "2024-10-12T19:43:29.467Z"
   },
   {
    "duration": 2,
    "start_time": "2024-10-12T19:43:29.750Z"
   },
   {
    "duration": 90,
    "start_time": "2024-10-12T19:43:29.753Z"
   },
   {
    "duration": 2,
    "start_time": "2024-10-12T19:43:29.845Z"
   },
   {
    "duration": 4,
    "start_time": "2024-10-12T19:43:29.849Z"
   },
   {
    "duration": 887,
    "start_time": "2024-10-12T19:43:29.854Z"
   },
   {
    "duration": 3,
    "start_time": "2024-10-12T19:43:30.743Z"
   },
   {
    "duration": 5,
    "start_time": "2024-10-12T19:43:30.748Z"
   },
   {
    "duration": 5,
    "start_time": "2024-10-12T19:43:30.754Z"
   },
   {
    "duration": 4,
    "start_time": "2024-10-12T19:43:30.760Z"
   },
   {
    "duration": 4,
    "start_time": "2024-10-12T19:43:30.765Z"
   },
   {
    "duration": 303,
    "start_time": "2024-10-12T19:43:30.770Z"
   },
   {
    "duration": 0,
    "start_time": "2024-10-12T19:43:31.075Z"
   },
   {
    "duration": 0,
    "start_time": "2024-10-12T19:43:31.076Z"
   },
   {
    "duration": 0,
    "start_time": "2024-10-12T19:43:31.077Z"
   },
   {
    "duration": 0,
    "start_time": "2024-10-12T19:43:31.078Z"
   },
   {
    "duration": 0,
    "start_time": "2024-10-12T19:43:31.079Z"
   },
   {
    "duration": 0,
    "start_time": "2024-10-12T19:43:31.080Z"
   },
   {
    "duration": 0,
    "start_time": "2024-10-12T19:43:31.082Z"
   },
   {
    "duration": 0,
    "start_time": "2024-10-12T19:43:31.083Z"
   },
   {
    "duration": 0,
    "start_time": "2024-10-12T19:43:31.084Z"
   },
   {
    "duration": 0,
    "start_time": "2024-10-12T19:43:31.085Z"
   },
   {
    "duration": 404,
    "start_time": "2024-10-12T19:44:36.065Z"
   },
   {
    "duration": 5,
    "start_time": "2024-10-12T19:44:48.318Z"
   },
   {
    "duration": 42,
    "start_time": "2024-10-12T19:50:20.232Z"
   },
   {
    "duration": 17,
    "start_time": "2024-10-12T19:51:01.062Z"
   },
   {
    "duration": 15,
    "start_time": "2024-10-12T20:00:51.210Z"
   },
   {
    "duration": 15,
    "start_time": "2024-10-12T20:01:03.574Z"
   },
   {
    "duration": 5,
    "start_time": "2024-10-12T20:01:24.907Z"
   },
   {
    "duration": 4,
    "start_time": "2024-10-12T20:01:28.473Z"
   },
   {
    "duration": 3,
    "start_time": "2024-10-12T20:01:32.924Z"
   },
   {
    "duration": 4,
    "start_time": "2024-10-12T20:04:11.484Z"
   },
   {
    "duration": 3,
    "start_time": "2024-10-12T20:04:40.825Z"
   },
   {
    "duration": 3,
    "start_time": "2024-10-12T20:04:56.938Z"
   },
   {
    "duration": 5,
    "start_time": "2024-10-12T20:06:28.156Z"
   },
   {
    "duration": 3,
    "start_time": "2024-10-12T20:06:35.818Z"
   },
   {
    "duration": 3,
    "start_time": "2024-10-12T20:06:55.084Z"
   },
   {
    "duration": 4,
    "start_time": "2024-10-12T20:07:03.098Z"
   },
   {
    "duration": 3,
    "start_time": "2024-10-12T20:07:30.082Z"
   },
   {
    "duration": 3,
    "start_time": "2024-10-12T20:12:37.000Z"
   },
   {
    "duration": 3,
    "start_time": "2024-10-12T20:12:58.808Z"
   },
   {
    "duration": 135,
    "start_time": "2024-10-12T20:13:18.283Z"
   },
   {
    "duration": 9,
    "start_time": "2024-10-12T20:16:00.356Z"
   },
   {
    "duration": 8,
    "start_time": "2024-10-12T20:16:46.223Z"
   },
   {
    "duration": 17,
    "start_time": "2024-10-12T20:17:08.292Z"
   },
   {
    "duration": 440,
    "start_time": "2024-10-12T20:22:22.996Z"
   },
   {
    "duration": 69,
    "start_time": "2024-10-12T20:23:30.150Z"
   },
   {
    "duration": 66,
    "start_time": "2024-10-12T20:24:30.980Z"
   },
   {
    "duration": 3,
    "start_time": "2024-10-12T20:24:57.398Z"
   },
   {
    "duration": 13,
    "start_time": "2024-10-12T20:25:04.861Z"
   },
   {
    "duration": 5,
    "start_time": "2024-10-12T20:27:29.872Z"
   },
   {
    "duration": 4,
    "start_time": "2024-10-12T20:27:38.838Z"
   },
   {
    "duration": 5,
    "start_time": "2024-10-12T20:28:42.341Z"
   },
   {
    "duration": 5,
    "start_time": "2024-10-12T20:29:30.957Z"
   },
   {
    "duration": 5,
    "start_time": "2024-10-12T20:30:15.768Z"
   },
   {
    "duration": 5,
    "start_time": "2024-10-12T20:30:24.956Z"
   },
   {
    "duration": 7,
    "start_time": "2024-10-12T20:31:52.918Z"
   },
   {
    "duration": 7,
    "start_time": "2024-10-12T20:32:30.325Z"
   },
   {
    "duration": 230,
    "start_time": "2024-10-12T20:34:11.585Z"
   },
   {
    "duration": 11,
    "start_time": "2024-10-12T20:36:56.455Z"
   },
   {
    "duration": 5,
    "start_time": "2024-10-12T20:36:56.471Z"
   },
   {
    "duration": 5,
    "start_time": "2024-10-12T20:36:56.478Z"
   },
   {
    "duration": 5,
    "start_time": "2024-10-12T20:36:56.484Z"
   },
   {
    "duration": 235,
    "start_time": "2024-10-12T20:36:56.491Z"
   },
   {
    "duration": 8,
    "start_time": "2024-10-12T20:36:56.728Z"
   },
   {
    "duration": 7,
    "start_time": "2024-10-12T20:36:56.737Z"
   },
   {
    "duration": 233,
    "start_time": "2024-10-12T20:38:36.291Z"
   },
   {
    "duration": 223,
    "start_time": "2024-10-12T20:39:33.096Z"
   },
   {
    "duration": 6,
    "start_time": "2024-10-12T20:43:59.277Z"
   },
   {
    "duration": 135,
    "start_time": "2024-10-12T20:44:02.046Z"
   },
   {
    "duration": 6,
    "start_time": "2024-10-12T20:44:21.020Z"
   },
   {
    "duration": 11,
    "start_time": "2024-10-12T21:06:36.779Z"
   },
   {
    "duration": 5,
    "start_time": "2024-10-12T21:06:36.795Z"
   },
   {
    "duration": 4,
    "start_time": "2024-10-12T21:06:36.802Z"
   },
   {
    "duration": 4,
    "start_time": "2024-10-12T21:06:36.807Z"
   },
   {
    "duration": 239,
    "start_time": "2024-10-12T21:06:36.813Z"
   },
   {
    "duration": 7,
    "start_time": "2024-10-12T21:06:37.054Z"
   },
   {
    "duration": 6,
    "start_time": "2024-10-12T21:06:37.063Z"
   },
   {
    "duration": 214,
    "start_time": "2024-10-12T21:07:14.936Z"
   },
   {
    "duration": 757,
    "start_time": "2024-10-12T21:13:45.611Z"
   },
   {
    "duration": 25,
    "start_time": "2024-10-12T21:13:46.370Z"
   },
   {
    "duration": 3,
    "start_time": "2024-10-12T21:13:46.396Z"
   },
   {
    "duration": 4,
    "start_time": "2024-10-12T21:13:46.402Z"
   },
   {
    "duration": 36,
    "start_time": "2024-10-12T21:13:46.408Z"
   },
   {
    "duration": 13,
    "start_time": "2024-10-12T21:13:46.445Z"
   },
   {
    "duration": 4,
    "start_time": "2024-10-12T21:13:46.459Z"
   },
   {
    "duration": 5,
    "start_time": "2024-10-12T21:13:46.464Z"
   },
   {
    "duration": 15,
    "start_time": "2024-10-12T21:13:46.470Z"
   },
   {
    "duration": 35,
    "start_time": "2024-10-12T21:13:46.488Z"
   },
   {
    "duration": 6,
    "start_time": "2024-10-12T21:13:46.525Z"
   },
   {
    "duration": 4,
    "start_time": "2024-10-12T21:13:46.533Z"
   },
   {
    "duration": 11,
    "start_time": "2024-10-12T21:13:46.538Z"
   },
   {
    "duration": 3,
    "start_time": "2024-10-12T21:13:46.551Z"
   },
   {
    "duration": 247,
    "start_time": "2024-10-12T21:13:46.555Z"
   },
   {
    "duration": 8,
    "start_time": "2024-10-12T21:13:46.804Z"
   },
   {
    "duration": 261,
    "start_time": "2024-10-12T21:13:46.813Z"
   },
   {
    "duration": 4,
    "start_time": "2024-10-12T21:13:47.076Z"
   },
   {
    "duration": 5,
    "start_time": "2024-10-12T21:13:47.082Z"
   },
   {
    "duration": 37,
    "start_time": "2024-10-12T21:13:47.089Z"
   },
   {
    "duration": 228,
    "start_time": "2024-10-12T21:13:47.128Z"
   },
   {
    "duration": 7,
    "start_time": "2024-10-12T21:13:47.358Z"
   },
   {
    "duration": 3,
    "start_time": "2024-10-12T21:13:47.367Z"
   },
   {
    "duration": 4,
    "start_time": "2024-10-12T21:13:47.372Z"
   },
   {
    "duration": 3,
    "start_time": "2024-10-12T21:13:47.377Z"
   },
   {
    "duration": 4,
    "start_time": "2024-10-12T21:13:47.382Z"
   },
   {
    "duration": 282,
    "start_time": "2024-10-12T21:13:47.387Z"
   },
   {
    "duration": 3,
    "start_time": "2024-10-12T21:13:47.673Z"
   },
   {
    "duration": 85,
    "start_time": "2024-10-12T21:13:47.678Z"
   },
   {
    "duration": 3,
    "start_time": "2024-10-12T21:13:47.765Z"
   },
   {
    "duration": 4,
    "start_time": "2024-10-12T21:13:47.769Z"
   },
   {
    "duration": 927,
    "start_time": "2024-10-12T21:13:47.775Z"
   },
   {
    "duration": 3,
    "start_time": "2024-10-12T21:13:48.704Z"
   },
   {
    "duration": 18,
    "start_time": "2024-10-12T21:13:48.709Z"
   },
   {
    "duration": 4,
    "start_time": "2024-10-12T21:13:48.729Z"
   },
   {
    "duration": 4,
    "start_time": "2024-10-12T21:13:48.734Z"
   },
   {
    "duration": 6,
    "start_time": "2024-10-12T21:13:48.740Z"
   },
   {
    "duration": 245,
    "start_time": "2024-10-12T21:13:48.747Z"
   },
   {
    "duration": 6,
    "start_time": "2024-10-12T21:13:48.994Z"
   },
   {
    "duration": 149,
    "start_time": "2024-10-12T21:13:49.001Z"
   },
   {
    "duration": 11,
    "start_time": "2024-10-12T21:13:49.152Z"
   },
   {
    "duration": 4,
    "start_time": "2024-10-12T21:13:49.165Z"
   },
   {
    "duration": 5,
    "start_time": "2024-10-12T21:13:49.170Z"
   },
   {
    "duration": 5,
    "start_time": "2024-10-12T21:13:49.176Z"
   },
   {
    "duration": 246,
    "start_time": "2024-10-12T21:13:49.182Z"
   },
   {
    "duration": 9,
    "start_time": "2024-10-12T21:13:49.430Z"
   },
   {
    "duration": 7,
    "start_time": "2024-10-12T21:13:49.441Z"
   },
   {
    "duration": 209,
    "start_time": "2024-10-12T21:17:53.339Z"
   },
   {
    "duration": 232,
    "start_time": "2024-10-12T21:18:51.406Z"
   },
   {
    "duration": 134,
    "start_time": "2024-10-12T21:47:47.773Z"
   },
   {
    "duration": 848,
    "start_time": "2024-10-12T21:49:04.076Z"
   },
   {
    "duration": 3,
    "start_time": "2024-10-12T21:49:45.106Z"
   },
   {
    "duration": 4,
    "start_time": "2024-10-12T21:50:55.619Z"
   },
   {
    "duration": 4,
    "start_time": "2024-10-12T21:59:14.518Z"
   },
   {
    "duration": 12,
    "start_time": "2024-10-12T21:59:28.361Z"
   },
   {
    "duration": 2771,
    "start_time": "2024-10-15T21:53:04.073Z"
   },
   {
    "duration": 33,
    "start_time": "2024-10-15T21:53:06.848Z"
   },
   {
    "duration": 3,
    "start_time": "2024-10-15T21:53:06.883Z"
   },
   {
    "duration": 5,
    "start_time": "2024-10-15T21:53:06.888Z"
   },
   {
    "duration": 29,
    "start_time": "2024-10-15T21:53:06.895Z"
   },
   {
    "duration": 18,
    "start_time": "2024-10-15T21:53:06.926Z"
   },
   {
    "duration": 4,
    "start_time": "2024-10-15T21:53:06.946Z"
   },
   {
    "duration": 4,
    "start_time": "2024-10-15T21:53:06.952Z"
   },
   {
    "duration": 47,
    "start_time": "2024-10-15T21:53:06.959Z"
   },
   {
    "duration": 6,
    "start_time": "2024-10-15T21:53:07.010Z"
   },
   {
    "duration": 8,
    "start_time": "2024-10-15T21:53:07.018Z"
   },
   {
    "duration": 4,
    "start_time": "2024-10-15T21:53:07.029Z"
   },
   {
    "duration": 14,
    "start_time": "2024-10-15T21:53:07.035Z"
   },
   {
    "duration": 7,
    "start_time": "2024-10-15T21:53:07.051Z"
   },
   {
    "duration": 281,
    "start_time": "2024-10-15T21:53:07.060Z"
   },
   {
    "duration": 8,
    "start_time": "2024-10-15T21:53:07.344Z"
   },
   {
    "duration": 234,
    "start_time": "2024-10-15T21:53:07.354Z"
   },
   {
    "duration": 5,
    "start_time": "2024-10-15T21:53:07.590Z"
   },
   {
    "duration": 13,
    "start_time": "2024-10-15T21:53:07.597Z"
   },
   {
    "duration": 25,
    "start_time": "2024-10-15T21:53:07.612Z"
   },
   {
    "duration": 290,
    "start_time": "2024-10-15T21:53:07.639Z"
   },
   {
    "duration": 10,
    "start_time": "2024-10-15T21:53:07.932Z"
   },
   {
    "duration": 5,
    "start_time": "2024-10-15T21:53:07.944Z"
   },
   {
    "duration": 5,
    "start_time": "2024-10-15T21:53:07.951Z"
   },
   {
    "duration": 3,
    "start_time": "2024-10-15T21:53:07.959Z"
   },
   {
    "duration": 5,
    "start_time": "2024-10-15T21:53:07.964Z"
   },
   {
    "duration": 297,
    "start_time": "2024-10-15T21:53:07.970Z"
   },
   {
    "duration": 2,
    "start_time": "2024-10-15T21:53:08.272Z"
   },
   {
    "duration": 143,
    "start_time": "2024-10-15T21:53:08.275Z"
   },
   {
    "duration": 3,
    "start_time": "2024-10-15T21:53:08.421Z"
   },
   {
    "duration": 5,
    "start_time": "2024-10-15T21:53:08.425Z"
   },
   {
    "duration": 919,
    "start_time": "2024-10-15T21:53:08.432Z"
   },
   {
    "duration": 5,
    "start_time": "2024-10-15T21:53:09.354Z"
   },
   {
    "duration": 8,
    "start_time": "2024-10-15T21:53:09.361Z"
   },
   {
    "duration": 4,
    "start_time": "2024-10-15T21:53:09.371Z"
   },
   {
    "duration": 31,
    "start_time": "2024-10-15T21:53:09.377Z"
   },
   {
    "duration": 8,
    "start_time": "2024-10-15T21:53:09.410Z"
   },
   {
    "duration": 7,
    "start_time": "2024-10-15T21:53:09.422Z"
   },
   {
    "duration": 258,
    "start_time": "2024-10-15T21:53:09.431Z"
   },
   {
    "duration": 14,
    "start_time": "2024-10-15T21:53:09.691Z"
   },
   {
    "duration": 174,
    "start_time": "2024-10-15T21:53:09.707Z"
   },
   {
    "duration": 21,
    "start_time": "2024-10-15T21:53:09.885Z"
   },
   {
    "duration": 6,
    "start_time": "2024-10-15T21:53:09.908Z"
   },
   {
    "duration": 6,
    "start_time": "2024-10-15T21:53:09.917Z"
   },
   {
    "duration": 4,
    "start_time": "2024-10-15T21:53:09.926Z"
   },
   {
    "duration": 454,
    "start_time": "2024-10-15T21:53:09.932Z"
   },
   {
    "duration": 18,
    "start_time": "2024-10-15T21:53:10.388Z"
   },
   {
    "duration": 11,
    "start_time": "2024-10-15T21:53:10.409Z"
   },
   {
    "duration": 8,
    "start_time": "2024-10-15T22:04:07.027Z"
   },
   {
    "duration": 10,
    "start_time": "2024-10-15T22:10:20.628Z"
   },
   {
    "duration": 9,
    "start_time": "2024-10-15T22:10:40.195Z"
   },
   {
    "duration": 8,
    "start_time": "2024-10-15T22:10:49.116Z"
   },
   {
    "duration": 10,
    "start_time": "2024-10-15T22:12:42.807Z"
   },
   {
    "duration": 242,
    "start_time": "2024-10-15T22:24:42.904Z"
   },
   {
    "duration": 8,
    "start_time": "2024-10-15T22:25:03.543Z"
   },
   {
    "duration": 7,
    "start_time": "2024-10-15T22:26:21.527Z"
   },
   {
    "duration": 8,
    "start_time": "2024-10-15T22:26:44.280Z"
   },
   {
    "duration": 4,
    "start_time": "2024-10-15T22:51:58.081Z"
   },
   {
    "duration": 4,
    "start_time": "2024-10-15T22:59:41.023Z"
   },
   {
    "duration": 654,
    "start_time": "2024-10-15T23:00:32.991Z"
   },
   {
    "duration": 4,
    "start_time": "2024-10-15T23:01:01.811Z"
   },
   {
    "duration": 1571,
    "start_time": "2024-10-15T23:01:03.700Z"
   },
   {
    "duration": 3,
    "start_time": "2024-10-15T23:02:07.423Z"
   },
   {
    "duration": 906,
    "start_time": "2024-10-15T23:02:12.303Z"
   }
  ],
  "kernelspec": {
   "display_name": "base",
   "language": "python",
   "name": "python3"
  },
  "language_info": {
   "codemirror_mode": {
    "name": "ipython",
    "version": 3
   },
   "file_extension": ".py",
   "mimetype": "text/x-python",
   "name": "python",
   "nbconvert_exporter": "python",
   "pygments_lexer": "ipython3",
   "version": "3.12.3"
  },
  "toc": {
   "base_numbering": 1,
   "nav_menu": {},
   "number_sections": true,
   "sideBar": true,
   "skip_h1_title": true,
   "title_cell": "Table of Contents",
   "title_sidebar": "Contents",
   "toc_cell": false,
   "toc_position": {},
   "toc_section_display": true,
   "toc_window_display": false
  }
 },
 "nbformat": 4,
 "nbformat_minor": 2
}
